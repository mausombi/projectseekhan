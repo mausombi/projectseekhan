{
 "cells": [
  {
   "cell_type": "code",
   "execution_count": 1,
   "metadata": {},
   "outputs": [],
   "source": [
    "#!pip install langchain-community==0.2.4 langchain==0.2.3 faiss-cpu==1.8.0 unstructured==0.14.5 unstructured[pdf]==0.14.5 transformers==4.41.2 sentence-transformers==3.0.1"
   ]
  },
  {
   "cell_type": "code",
   "execution_count": 2,
   "metadata": {},
   "outputs": [],
   "source": [
    "import os\n",
    "\n",
    "from langchain_community.llms import Ollama\n",
    "from langchain.document_loaders import UnstructuredFileLoader\n",
    "from langchain_community.vectorstores import FAISS\n",
    "from langchain.embeddings import HuggingFaceEmbeddings\n",
    "from langchain.docstore.document import Document\n",
    "\n",
    "from langchain.text_splitter import CharacterTextSplitter\n",
    "from langchain.chains import RetrievalQA\n",
    "import random\n"
   ]
  },
  {
   "cell_type": "code",
   "execution_count": 3,
   "metadata": {},
   "outputs": [],
   "source": [
    "# loading the LLM\n",
    "llm = Ollama(\n",
    "    model=\"laddo\",\n",
    "    temperature=0\n",
    ")"
   ]
  },
  {
   "cell_type": "code",
   "execution_count": 4,
   "metadata": {},
   "outputs": [
    {
     "name": "stdout",
     "output_type": "stream",
     "text": [
      "Converting C:\\Users\\Srujana\\OneDrive\\Desktop\\MODEL\\Ferrari.mp3 to WAV format...\n",
      "Converted C:\\Users\\Srujana\\OneDrive\\Desktop\\MODEL\\Ferrari.mp3 to converted_audio.wav\n",
      "Recognizing speech...\n",
      "Transcription:\n",
      "hi today we are going to learn about scuderia Ferrari Ferrari is a team in Motorsport famous for winning the lemon series and dominating the Formula 1 calendar every year in fact they were the only team which has participated in each and every Grand Prix that has been conducted by Formula 1 hence they get a heritage income of 20 million dollars every year from the Formula 1 Association because they were loyal to the brand then the most second most privileged team on the grid is McLaren has had many great drivers such as Allen Frost and return and Ferrari have had very high intense level rivalries between them ever since the beginning which is also resulted in death of the famous written Cena and vertices that Michael Schumacher still regrets and by the way Michael Schumacher is in coma or not in coma but he is not able to drive right now the greatest driver is not able to drive because he had a skiing accident back in 2014 after he retired from Formula 1 and his seat was given to lose Hamilton who is now the greatest driver and is going to Ferrari what is circle this is\n"
     ]
    }
   ],
   "source": [
    "    import os\n",
    "    import speech_recognition as sr\n",
    "    from pydub import AudioSegment\n",
    "\n",
    "    # Step 2: Specify the path to the MP3 file\n",
    "    mp3_file = r\"C:\\Users\\Srujana\\OneDrive\\Desktop\\MODEL\\Ferrari.mp3\"\n",
    "\n",
    "    # Initialize the wav_file variable\n",
    "    wav_file = None\n",
    "\n",
    "    # Step 3: Check and format the file path\n",
    "    if not os.path.exists(mp3_file):\n",
    "        print(f\"Error: The file at {mp3_file} does not exist. Please check the path.\")\n",
    "        exit()\n",
    "\n",
    "    # Step 4: Convert MP3 to WAV\n",
    "    try:\n",
    "        print(f\"Converting {mp3_file} to WAV format...\")\n",
    "        audio = AudioSegment.from_mp3(mp3_file)\n",
    "        wav_file = \"converted_audio.wav\"\n",
    "        audio.export(wav_file, format=\"wav\")\n",
    "        print(f\"Converted {mp3_file} to {wav_file}\")\n",
    "    except Exception as e:\n",
    "        print(f\"An error occurred during conversion: {e}\")\n",
    "        exit()\n",
    "\n",
    "    # Step 5: Transcribe the audio\n",
    "    recognizer = sr.Recognizer()\n",
    "\n",
    "    if wav_file and os.path.exists(wav_file):\n",
    "        try:\n",
    "            # Load the WAV file\n",
    "            with sr.AudioFile(wav_file) as source:\n",
    "                print(\"Recognizing speech...\")\n",
    "                audio_data = recognizer.record(source)\n",
    "                try:\n",
    "                    # Convert speech to text\n",
    "                    audio_transcription = recognizer.recognize_google(audio_data)\n",
    "                    print(\"Transcription:\")\n",
    "                    print(audio_transcription)\n",
    "                except sr.UnknownValueError:\n",
    "                    print(\"Sorry, could not understand the audio.\")\n",
    "                except sr.RequestError as e:\n",
    "                    print(f\"Error with the recognition service: {e}\")\n",
    "        except Exception as e:\n",
    "            print(f\"An error occurred during recognition: {e}\")\n",
    "    else:\n",
    "        print(\"Error: WAV file not found. Conversion may have failed.\")\n"
   ]
  },
  {
   "cell_type": "code",
   "execution_count": 5,
   "metadata": {},
   "outputs": [],
   "source": [
    "\n",
    "if audio_transcription:\n",
    "    documents = [Document(page_content=audio_transcription)]\n"
   ]
  },
  {
   "cell_type": "code",
   "execution_count": 6,
   "metadata": {},
   "outputs": [
    {
     "data": {
      "text/plain": [
       "[Document(page_content='hi today we are going to learn about scuderia Ferrari Ferrari is a team in Motorsport famous for winning the lemon series and dominating the Formula 1 calendar every year in fact they were the only team which has participated in each and every Grand Prix that has been conducted by Formula 1 hence they get a heritage income of 20 million dollars every year from the Formula 1 Association because they were loyal to the brand then the most second most privileged team on the grid is McLaren has had many great drivers such as Allen Frost and return and Ferrari have had very high intense level rivalries between them ever since the beginning which is also resulted in death of the famous written Cena and vertices that Michael Schumacher still regrets and by the way Michael Schumacher is in coma or not in coma but he is not able to drive right now the greatest driver is not able to drive because he had a skiing accident back in 2014 after he retired from Formula 1 and his seat was given to lose Hamilton who is now the greatest driver and is going to Ferrari what is circle this is')]"
      ]
     },
     "execution_count": 6,
     "metadata": {},
     "output_type": "execute_result"
    }
   ],
   "source": [
    "documents"
   ]
  },
  {
   "cell_type": "code",
   "execution_count": 7,
   "metadata": {},
   "outputs": [],
   "source": [
    "# create document chunks\n",
    "text_splitter = CharacterTextSplitter(separator=\"/n\",\n",
    "                                      chunk_size=7500,\n",
    "                                      chunk_overlap=200)"
   ]
  },
  {
   "cell_type": "code",
   "execution_count": 8,
   "metadata": {},
   "outputs": [],
   "source": [
    "text_chunks = text_splitter.split_documents(documents)"
   ]
  },
  {
   "cell_type": "code",
   "execution_count": 9,
   "metadata": {},
   "outputs": [
    {
     "name": "stderr",
     "output_type": "stream",
     "text": [
      "C:\\Users\\Srujana\\AppData\\Local\\Temp\\ipykernel_14840\\3655315981.py:1: LangChainDeprecationWarning: The class `HuggingFaceEmbeddings` was deprecated in LangChain 0.2.2 and will be removed in 0.3.0. An updated version of the class exists in the langchain-huggingface package and should be used instead. To use it run `pip install -U langchain-huggingface` and import as `from langchain_huggingface import HuggingFaceEmbeddings`.\n",
      "  embeddings = HuggingFaceEmbeddings()\n",
      "c:\\Users\\Srujana\\anaconda3\\lib\\site-packages\\sentence_transformers\\cross_encoder\\CrossEncoder.py:11: TqdmExperimentalWarning: Using `tqdm.autonotebook.tqdm` in notebook mode. Use `tqdm.tqdm` instead to force console mode (e.g. in jupyter console)\n",
      "  from tqdm.autonotebook import tqdm, trange\n",
      "c:\\Users\\Srujana\\anaconda3\\lib\\site-packages\\huggingface_hub\\file_download.py:797: FutureWarning: `resume_download` is deprecated and will be removed in version 1.0.0. Downloads always resume when possible. If you want to force a new download, use `force_download=True`.\n",
      "  warnings.warn(\n"
     ]
    }
   ],
   "source": [
    "embeddings = HuggingFaceEmbeddings()"
   ]
  },
  {
   "cell_type": "code",
   "execution_count": 10,
   "metadata": {},
   "outputs": [],
   "source": [
    "knowledge_base = FAISS.from_documents(text_chunks, embeddings)"
   ]
  },
  {
   "cell_type": "code",
   "execution_count": 11,
   "metadata": {},
   "outputs": [],
   "source": [
    "# retrieval QA chain\n",
    "qa_chain = RetrievalQA.from_chain_type(\n",
    "    llm,\n",
    "    retriever=knowledge_base.as_retriever())"
   ]
  },
  {
   "cell_type": "code",
   "execution_count": 12,
   "metadata": {},
   "outputs": [],
   "source": [
    "Questions =input(\"Enter Noof Questions:\")\n",
    "Type = input(\"Enter the type(Mcqs/True or false/Fill in the blanks)\")"
   ]
  },
  {
   "cell_type": "code",
   "execution_count": 13,
   "metadata": {},
   "outputs": [
    {
     "data": {
      "text/plain": [
       "'Generate 3 Mcqs'"
      ]
     },
     "execution_count": 13,
     "metadata": {},
     "output_type": "execute_result"
    }
   ],
   "source": [
    "Prompt = f\"Generate {Questions} {Type}\"\n",
    "Prompt\n"
   ]
  },
  {
   "cell_type": "code",
   "execution_count": 14,
   "metadata": {},
   "outputs": [
    {
     "name": "stdout",
     "output_type": "stream",
     "text": [
      "  Sure, here are three multiple-choice questions based on the context provided:\n",
      "\n",
      "1. Which team has won the most Formula 1 championships?\n",
      "A) Scuderia Ferrari\n",
      "B) McLaren\n",
      "C) Mercedes AMG\n",
      "D) Red Bull Racing\n",
      "2. Who is the greatest driver according to Michael Schumacher?\n",
      "A) Lewis Hamilton\n",
      "B) Sebastian Vettel\n",
      "C) Fernando Alonso\n",
      "D) Ayrton Senna\n",
      "3. What happened to Michael Schumacher after he retired from Formula 1 in 2014?\n",
      "A) He became a race car instructor\n",
      "B) He suffered a skiing accident and is currently in a coma\n",
      "C) He started his own racing team\n",
      "D) He became a professional golfer\n"
     ]
    }
   ],
   "source": [
    "response = qa_chain.invoke({\"query\": Prompt})\n",
    "print(response[\"result\"])"
   ]
  },
  {
   "cell_type": "code",
   "execution_count": 16,
   "metadata": {},
   "outputs": [
    {
     "name": "stdout",
     "output_type": "stream",
     "text": [
      "Saving PDF in directory: c:\\Users\\Srujana\\OneDrive\\Desktop\\MODEL\n",
      "Response saved to c:\\Users\\Srujana\\OneDrive\\Desktop\\MODEL\\Mcqs_6_494.pdf\n"
     ]
    }
   ],
   "source": [
    "from langchain.document_loaders import PyPDFLoader\n",
    "from langchain.llms import Ollama\n",
    "from fpdf import FPDF\n",
    "import os\n",
    "\n",
    "# Function to save response to a PDF\n",
    "def save_to_pdf(response, output_file):\n",
    "    pdf = FPDF()\n",
    "    pdf.set_auto_page_break(auto=True, margin=15)\n",
    "    pdf.add_page()\n",
    "    pdf.set_font(\"Arial\", size=12)\n",
    "    pdf.multi_cell(0, 10, response)\n",
    "    pdf.output(output_file)\n",
    "    print(f\"Response saved to {output_file}\")\n",
    "\n",
    "# RAG Setup and PDF Saving\n",
    "def main():\n",
    "    # Example response for testing purposes\n",
    "    # In a real scenario, you will be working with your RAG pipeline to get this result.\n",
    "    result = response[\"result\"]\n",
    "\n",
    "    # Get current working directory to save the output PDF\n",
    "    current_directory = os.getcwd()\n",
    "    print(f\"Saving PDF in directory: {current_directory}\")\n",
    "\n",
    "    x = random.randint(1, 1000)  # Use a larger range to reduce conflicts\n",
    "    output_file = os.path.join(current_directory, f\"{Type}_{Questions}_{x}.pdf\")\n",
    "    # Save result to PDF\n",
    "    save_to_pdf(result, output_file)\n",
    "\n",
    "# Run the main function\n",
    "if __name__ == \"__main__\":\n",
    "    main()\n"
   ]
  }
 ],
 "metadata": {
  "kernelspec": {
   "display_name": "base",
   "language": "python",
   "name": "python3"
  },
  "language_info": {
   "codemirror_mode": {
    "name": "ipython",
    "version": 3
   },
   "file_extension": ".py",
   "mimetype": "text/x-python",
   "name": "python",
   "nbconvert_exporter": "python",
   "pygments_lexer": "ipython3",
   "version": "3.10.9"
  }
 },
 "nbformat": 4,
 "nbformat_minor": 2
}
