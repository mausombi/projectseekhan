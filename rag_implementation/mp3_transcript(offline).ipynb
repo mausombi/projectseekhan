{
  "cells": [
    {
      "cell_type": "code",
      "execution_count": null,
      "metadata": {},
      "outputs": [
        {
          "name": "stdout",
          "output_type": "stream",
          "text": [
            "Converting C:\\Users\\Srujana\\OneDrive\\Desktop\\MODEL\\Ferrari.mp3 to WAV format...\n",
            "Converted C:\\Users\\Srujana\\OneDrive\\Desktop\\MODEL\\Ferrari.mp3 to converted_audio.wav\n",
            "Recognizing speech...\n",
            "Transcription:\n",
            "hi today we are going to learn about scuderia Ferrari Ferrari is a team in Motorsport famous for winning the lemon series and dominating the Formula 1 calendar every year in fact they were the only team which has participated in each and every Grand Prix that has been conducted by Formula 1 hence they get a heritage income of 20 million dollars every year from the Formula 1 Association because they were loyal to the brand then the most second most privileged team on the grid is McLaren has had many great drivers such as Allen Frost and return and Ferrari have had very high intense level rivalries between them ever since the beginning which is also resulted in death of the famous written Cena and vertices that Michael Schumacher still regrets and by the way Michael Schumacher is in coma or not in coma but he is not able to drive right now the greatest driver is not able to drive because he had a skiing accident back in 2014 after he retired from Formula 1 and his seat was given to lose Hamilton who is now the greatest driver and is going to Ferrari what is circle this is\n"
          ]
        }
      ],
      "source": [
        "import os\n",
        "import speech_recognition as sr\n",
        "from pydub import AudioSegment\n",
        "\n",
        "# Step 2: Specify the path to the MP3 file\n",
        "mp3_file = r\"C:\\Users\\Srujana\\OneDrive\\Desktop\\MODEL\\Ferrari.mp3\"\n",
        "\n",
        "# Initialize the wav_file variable\n",
        "wav_file = None\n",
        "\n",
        "# Step 3: Check and format the file path\n",
        "if not os.path.exists(mp3_file):\n",
        "    print(f\"Error: The file at {mp3_file} does not exist. Please check the path.\")\n",
        "    exit()\n",
        "\n",
        "# Step 4: Convert MP3 to WAV\n",
        "try:\n",
        "    print(f\"Converting {mp3_file} to WAV format...\")\n",
        "    audio = AudioSegment.from_mp3(mp3_file)\n",
        "    wav_file = \"converted_audio.wav\"\n",
        "    audio.export(wav_file, format=\"wav\")\n",
        "    print(f\"Converted {mp3_file} to {wav_file}\")\n",
        "except Exception as e:\n",
        "    print(f\"An error occurred during conversion: {e}\")\n",
        "    exit()\n",
        "\n",
        "# Step 5: Transcribe the audio\n",
        "recognizer = sr.Recognizer()\n",
        "\n",
        "if wav_file and os.path.exists(wav_file):\n",
        "    try:\n",
        "        # Load the WAV file\n",
        "        with sr.AudioFile(wav_file) as source:\n",
        "            print(\"Recognizing speech...\")\n",
        "            audio_data = recognizer.record(source)\n",
        "            try:\n",
        "                # Convert speech to text\n",
        "                text = recognizer.recognize_google(audio_data)\n",
        "                print(\"Transcription:\")\n",
        "                print(text)\n",
        "            except sr.UnknownValueError:\n",
        "                print(\"Sorry, could not understand the audio.\")\n",
        "            except sr.RequestError as e:\n",
        "                print(f\"Error with the recognition service: {e}\")\n",
        "    except Exception as e:\n",
        "        print(f\"An error occurred during recognition: {e}\")\n",
        "else:\n",
        "    print(\"Error: WAV file not found. Conversion may have failed.\")\n"
      ]
    },
    {
      "cell_type": "code",
      "execution_count": 2,
      "metadata": {},
      "outputs": [
        {
          "name": "stdout",
          "output_type": "stream",
          "text": [
            "Converting C:\\Users\\Srujana\\OneDrive\\Desktop\\MODEL\\test.mp3 to WAV format...\n",
            "Converted C:\\Users\\Srujana\\OneDrive\\Desktop\\MODEL\\test.mp3 to converted_audio.wav\n",
            "Recognizing speech...\n",
            "Transcription:\n",
            "hi how are you\n"
          ]
        }
      ],
      "source": [
        "import os\n",
        "import speech_recognition as sr\n",
        "from pydub import AudioSegment\n",
        "\n",
        "# Step 2: Specify the path to the MP3 file\n",
        "#mp3_file = r\"C:\\Users\\Srujana\\OneDrive\\Desktop\\01b5-ffd6-4eff-9b19-da7f365249da.mp3\"\n",
        "mp3_file = r\"C:\\Users\\Srujana\\OneDrive\\Desktop\\MODEL\\test.mp3\"\n",
        "# Initialize the wav_file variable\n",
        "wav_file = None\n",
        "\n",
        "# Step 3: Check and format the file path\n",
        "if not os.path.exists(mp3_file):\n",
        "    print(f\"Error: The file at {mp3_file} does not exist. Please check the path.\")\n",
        "    exit()\n",
        "\n",
        "# Step 4: Convert MP3 to WAV\n",
        "try:\n",
        "    print(f\"Converting {mp3_file} to WAV format...\")\n",
        "    audio = AudioSegment.from_mp3(mp3_file)\n",
        "    wav_file = \"converted_audio.wav\"\n",
        "    audio.export(wav_file, format=\"wav\")\n",
        "    print(f\"Converted {mp3_file} to {wav_file}\")\n",
        "except Exception as e:\n",
        "    print(f\"An error occurred during conversion: {e}\")\n",
        "    exit()\n",
        "\n",
        "# Step 5: Transcribe the audio\n",
        "recognizer = sr.Recognizer()\n",
        "\n",
        "if wav_file and os.path.exists(wav_file):\n",
        "    try:\n",
        "        # Load the WAV file\n",
        "        with sr.AudioFile(wav_file) as source:\n",
        "            print(\"Recognizing speech...\")\n",
        "            audio_data = recognizer.record(source)\n",
        "            try:\n",
        "                # Convert speech to text\n",
        "                text = recognizer.recognize_google(audio_data)\n",
        "                print(\"Transcription:\")\n",
        "                print(text)\n",
        "            except sr.UnknownValueError:\n",
        "                print(\"Sorry, could not understand the audio.\")\n",
        "            except sr.RequestError as e:\n",
        "                print(f\"Error with the recognition service: {e}\")\n",
        "    except Exception as e:\n",
        "        print(f\"An error occurred during recognition: {e}\")\n",
        "else:\n",
        "    print(\"Error: WAV file not found. Conversion may have failed.\")\n"
      ]
    }
  ],
  "metadata": {
    "colab": {
      "provenance": []
    },
    "kernelspec": {
      "display_name": "base",
      "language": "python",
      "name": "python3"
    },
    "language_info": {
      "codemirror_mode": {
        "name": "ipython",
        "version": 3
      },
      "file_extension": ".py",
      "mimetype": "text/x-python",
      "name": "python",
      "nbconvert_exporter": "python",
      "pygments_lexer": "ipython3",
      "version": "3.10.9"
    }
  },
  "nbformat": 4,
  "nbformat_minor": 0
}
