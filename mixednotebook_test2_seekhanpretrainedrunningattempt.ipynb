{
  "cells": [
    {
      "cell_type": "markdown",
      "metadata": {
        "id": "view-in-github",
        "colab_type": "text"
      },
      "source": [
        "<a href=\"https://colab.research.google.com/github/mausombi/projectseekhan/blob/main/mixednotebook_test2_seekhanpretrainedrunningattempt.ipynb\" target=\"_parent\"><img src=\"https://colab.research.google.com/assets/colab-badge.svg\" alt=\"Open In Colab\"/></a>"
      ]
    },
    {
      "cell_type": "code",
      "execution_count": null,
      "metadata": {
        "colab": {
          "base_uri": "https://localhost:8080/"
        },
        "id": "Pvq048wmdhKh",
        "outputId": "91589a68-378b-45e0-ec6e-e6629f7b6028"
      },
      "outputs": [
        {
          "name": "stdout",
          "output_type": "stream",
          "text": [
            "Collecting GPUtil\n",
            "  Downloading GPUtil-1.4.0.tar.gz (5.5 kB)\n",
            "  Preparing metadata (setup.py) ... \u001b[?25l\u001b[?25hdone\n",
            "Building wheels for collected packages: GPUtil\n",
            "  Building wheel for GPUtil (setup.py) ... \u001b[?25l\u001b[?25hdone\n",
            "  Created wheel for GPUtil: filename=GPUtil-1.4.0-py3-none-any.whl size=7392 sha256=afaaf4aa0732291019a588b8c62406b1e2b4e22c19c9d20ea7538ab9c3e6019c\n",
            "  Stored in directory: /root/.cache/pip/wheels/a9/8a/bd/81082387151853ab8b6b3ef33426e98f5cbfebc3c397a9d4d0\n",
            "Successfully built GPUtil\n",
            "Installing collected packages: GPUtil\n",
            "Successfully installed GPUtil-1.4.0\n",
            "  Installing build dependencies ... \u001b[?25l\u001b[?25hdone\n",
            "  Getting requirements to build wheel ... \u001b[?25l\u001b[?25hdone\n",
            "  Preparing metadata (pyproject.toml) ... \u001b[?25l\u001b[?25hdone\n",
            "  Building wheel for peft (pyproject.toml) ... \u001b[?25l\u001b[?25hdone\n",
            "\u001b[2K   \u001b[90m━━━━━━━━━━━━━━━━━━━━━━━━━━━━━━━━━━━━━━━━\u001b[0m \u001b[32m122.4/122.4 MB\u001b[0m \u001b[31m8.6 MB/s\u001b[0m eta \u001b[36m0:00:00\u001b[0m\n",
            "\u001b[2K     \u001b[90m━━━━━━━━━━━━━━━━━━━━━━━━━━━━━━━━━━━━━━━━\u001b[0m \u001b[32m113.6/113.6 kB\u001b[0m \u001b[31m4.6 MB/s\u001b[0m eta \u001b[36m0:00:00\u001b[0m\n",
            "\u001b[2K   \u001b[90m━━━━━━━━━━━━━━━━━━━━━━━━━━━━━━━━━━━━━━━━\u001b[0m \u001b[32m7.2/7.2 MB\u001b[0m \u001b[31m89.2 MB/s\u001b[0m eta \u001b[36m0:00:00\u001b[0m\n",
            "\u001b[2K   \u001b[90m━━━━━━━━━━━━━━━━━━━━━━━━━━━━━━━━━━━━━━━━\u001b[0m \u001b[32m7.8/7.8 MB\u001b[0m \u001b[31m110.3 MB/s\u001b[0m eta \u001b[36m0:00:00\u001b[0m\n",
            "\u001b[2K   \u001b[90m━━━━━━━━━━━━━━━━━━━━━━━━━━━━━━━━━━━━━━━━\u001b[0m \u001b[32m472.7/472.7 kB\u001b[0m \u001b[31m14.4 MB/s\u001b[0m eta \u001b[36m0:00:00\u001b[0m\n",
            "\u001b[2K   \u001b[90m━━━━━━━━━━━━━━━━━━━━━━━━━━━━━━━━━━━━━━━━\u001b[0m \u001b[32m116.3/116.3 kB\u001b[0m \u001b[31m11.3 MB/s\u001b[0m eta \u001b[36m0:00:00\u001b[0m\n",
            "\u001b[2K   \u001b[90m━━━━━━━━━━━━━━━━━━━━━━━━━━━━━━━━━━━━━━━━\u001b[0m \u001b[32m134.8/134.8 kB\u001b[0m \u001b[31m6.5 MB/s\u001b[0m eta \u001b[36m0:00:00\u001b[0m\n",
            "\u001b[2K   \u001b[90m━━━━━━━━━━━━━━━━━━━━━━━━━━━━━━━━━━━━━━━━\u001b[0m \u001b[32m194.1/194.1 kB\u001b[0m \u001b[31m15.2 MB/s\u001b[0m eta \u001b[36m0:00:00\u001b[0m\n",
            "\u001b[?25h"
          ]
        }
      ],
      "source": [
        "# Install necessary packages\n",
        "!pip install GPUtil\n",
        "!pip install -q git+https://github.com/huggingface/peft.git\n",
        "!pip install -q -i https://pypi.org/simple/ bitsandbytes\n",
        "!pip install -q transformers==4.30\n",
        "!pip install -q datasets\n",
        "\n",
        "# Import necessary libraries\n",
        "import torch\n",
        "import GPUtil\n",
        "import os\n",
        "import transformers\n",
        "from transformers import AutoTokenizer, AutoModelForCausalLM, pipeline\n",
        "from transformers import BitsAndBytesConfig, LlamaTokenizer\n",
        "from huggingface_hub import notebook_login\n",
        "from datasets import load_dataset\n",
        "from peft import prepare_model_for_kbit_training\n",
        "from peft import LoraConfig, get_peft_model\n",
        "from datetime import datetime\n",
        "\n",
        "# Check if running in Google Colab and enable custom widget manager\n",
        "if 'COLAB_GPU' in os.environ:\n",
        "    from google.colab import output\n",
        "    output.enable_custom_widget_manager()\n",
        "\n",
        "# Set the environment to UTF-8 explicitly\n",
        "import locale\n",
        "os.environ['LANG'] = 'en_US.UTF-8'\n",
        "os.environ['LC_ALL'] = 'en_US.UTF-8'\n",
        "locale.setlocale(locale.LC_ALL, 'en_US.UTF-8')\n",
        "\n",
        "# Verify if the locale is set correctly\n",
        "print(\"Locale is set to:\", locale.getpreferredencoding())"
      ]
    },
    {
      "cell_type": "code",
      "execution_count": null,
      "metadata": {
        "id": "JCOarO44AKv-"
      },
      "outputs": [],
      "source": [
        "#Before Running the below block,\n",
        "# add a secret \"hftoken_seekhan\" in secrets section."
      ]
    },
    {
      "cell_type": "code",
      "execution_count": null,
      "metadata": {
        "colab": {
          "background_save": true
        },
        "id": "Sz9Se3TMd8bu",
        "outputId": "67367b0e-cade-4f5d-e69f-3e2261caa532"
      },
      "outputs": [
        {
          "name": "stdout",
          "output_type": "stream",
          "text": [
            "The token has not been saved to the git credentials helper. Pass `add_to_git_credential=True` in this function directly or `--add-to-git-credential` if using via `huggingface-cli` if you want to set the git credential as well.\n",
            "Token is valid (permission: write).\n",
            "Your token has been saved to /root/.cache/huggingface/token\n",
            "Login successful\n",
            "Successfully logged in to Hugging Face!\n"
          ]
        }
      ],
      "source": [
        "import os\n",
        "from huggingface_hub import login\n",
        "from google.colab import userdata\n",
        "# Retrieve the token from secrets or environment variable\n",
        "HF_TOKEN = userdata.get('hftoken_seekhan')\n",
        "\n",
        "# Use the token to login\n",
        "if HF_TOKEN:\n",
        "    login(token=HF_TOKEN)\n",
        "    print(\"Successfully logged in to Hugging Face!\")\n",
        "else:\n",
        "    raise ValueError(\"Hugging Face token not found. Please check your secrets.\")\n"
      ]
    },
    {
      "cell_type": "code",
      "execution_count": null,
      "metadata": {
        "colab": {
          "background_save": true
        },
        "id": "FQaAe5X1dQeN"
      },
      "outputs": [],
      "source": [
        "\n",
        "import torch\n",
        "from peft import PeftModel, PeftConfig\n",
        "from transformers import AutoModelForCausalLM, AutoTokenizer\n",
        "\n",
        "peft_model_id = \"mausombi/seekhan_ft\"\n",
        "config = PeftConfig.from_pretrained(peft_model_id)\n",
        "model = AutoModelForCausalLM.from_pretrained(config.base_model_name_or_path, return_dict=True, load_in_8bit=True, device_map='auto')\n",
        "tokenizer = AutoTokenizer.from_pretrained(config.base_model_name_or_path)\n",
        "\n",
        "# Load the Lora model\n",
        "model = PeftModel.from_pretrained(model, peft_model_id)"
      ]
    },
    {
      "cell_type": "markdown",
      "metadata": {
        "id": "4Tbdtq-GfujH"
      },
      "source": []
    },
    {
      "cell_type": "markdown",
      "metadata": {
        "id": "jtscJnlFfuhH"
      },
      "source": []
    },
    {
      "cell_type": "code",
      "execution_count": null,
      "metadata": {
        "colab": {
          "background_save": true
        },
        "id": "_f6nRgfgfwCX"
      },
      "outputs": [],
      "source": []
    },
    {
      "cell_type": "code",
      "execution_count": null,
      "metadata": {
        "colab": {
          "background_save": true
        },
        "id": "AEjrhou7hi7c"
      },
      "outputs": [],
      "source": [
        "import torch\n",
        "from peft import PeftModel, PeftConfig\n",
        "from transformers import AutoModelForCausalLM, AutoTokenizer\n",
        "\n",
        "# Define the PEFT model ID\n",
        "peft_model_id = \"divyabindu77/seekhan_model\"\n",
        "\n",
        "# Load the PEFT configuration\n",
        "config = PeftConfig.from_pretrained(peft_model_id)\n",
        "\n",
        "# Load the base model with 8-bit precision and automatic device mapping\n",
        "model = AutoModelForCausalLM.from_pretrained(\n",
        "    config.base_model_name_or_path,\n",
        "    return_dict=True,\n",
        "    load_in_8bit=True,\n",
        "    device_map='auto'\n",
        ")\n",
        "\n",
        "# Load the tokenizer\n",
        "tokenizer = AutoTokenizer.from_pretrained(config.base_model_name_or_path)\n",
        "\n",
        "# Load the LoRA (PEFT) model\n",
        "model = PeftModel.from_pretrained(model, peft_model_id)\n",
        "\n",
        "\n"
      ]
    },
    {
      "cell_type": "code",
      "execution_count": null,
      "metadata": {
        "colab": {
          "background_save": true
        },
        "id": "_Q32Qn4igYPf"
      },
      "outputs": [],
      "source": [
        "# Define the question or topic\n",
        "question = \"Allu Arjun\"\n",
        "\n",
        "# Adjusted labels based on the content of the uploaded file\n",
        "labels = [\n",
        "    \"data structures and algorithms\",\n",
        "    \"programming concepts\",\n",
        "    \"software engineering\",\n",
        "    \"databases and data management\",\n",
        "    \"machine learning and data science\"\n",
        "]\n",
        "\n",
        "# Initialize the zero-shot classifier\n",
        "classifier = pipeline(\n",
        "    \"zero-shot-classification\",\n",
        "    model=\"facebook/bart-large-mnli\",\n",
        "    framework=\"pt\"  # Force PyTorch\n",
        ")\n",
        "\n",
        "# Classify the topic\n",
        "classification = classifier(question, labels)\n",
        "\n",
        "# Check if the topic belongs to computer science\n",
        "if classification[\"labels\"][0] in labels and classification[\"scores\"][0] > 0.7:\n",
        "    # If it belongs to computer science, proceed with question generation\n",
        "    eval_prompt = f\"The topic is this- {question}. Generate 30 Multiple choice questions on it.\\n\\n\"\n",
        "\n",
        "    # Tokenize the prompt without returning token_type_ids\n",
        "    promptTokenized = tokenizer(\n",
        "        eval_prompt,\n",
        "        return_tensors=\"pt\",\n",
        "        return_token_type_ids=False  # Disable token_type_ids\n",
        "    ).to(\"cuda\")\n",
        "\n",
        "    # Set the model to evaluation mode\n",
        "    model.eval()\n",
        "\n",
        "    # Generate the response without token_type_ids\n",
        "    with torch.no_grad():\n",
        "        output_tokens = model.generate(\n",
        "            **promptTokenized,\n",
        "            max_new_tokens=2048,\n",
        "            temperature=0.8\n",
        "        )\n",
        "        generated_text = tokenizer.decode(\n",
        "            output_tokens[0],\n",
        "            skip_special_tokens=True\n",
        "        )\n",
        "        print(generated_text)\n",
        "\n",
        "    # Clear CUDA cache\n",
        "    torch.cuda.empty_cache()\n",
        "\n",
        "else:\n",
        "    # If not related to the topics, print an appropriate message\n",
        "    print(f\"Sorry, the topic '{question}' is out of the domain of computer science. Try again with a relevant topic.\")\n"
      ]
    },
    {
      "cell_type": "code",
      "execution_count": null,
      "metadata": {
        "colab": {
          "background_save": true
        },
        "id": "xJESvgPTppBu"
      },
      "outputs": [],
      "source": [
        "# Define the question or topic\n",
        "question = \"Polymorphism\"\n",
        "\n",
        "# Adjusted labels based on the content of the uploaded file\n",
        "labels = [\n",
        "    \"data structures and algorithms\",\n",
        "    \"programming concepts\",\n",
        "    \"software engineering\",\n",
        "    \"databases and data management\",\n",
        "    \"machine learning and data science\"\n",
        "]\n",
        "\n",
        "# Classify the topic\n",
        "classification = classifier(question, labels)\n",
        "\n",
        "# Check if the topic belongs to computer science\n",
        "if classification[\"labels\"][0] in labels and classification[\"scores\"][0] > 0.3:\n",
        "    # If it belongs to computer science, proceed with question generation\n",
        "    eval_prompt = f\"The topic is this- {question}. Generate 10 Multiple choice questions on it with options and answers.\\n\\n\"\n",
        "\n",
        "    # Tokenize the prompt without returning token_type_ids\n",
        "    promptTokenized = tokenizer(\n",
        "        eval_prompt,\n",
        "        return_tensors=\"pt\",\n",
        "        return_token_type_ids=False  # Disable token_type_ids\n",
        "    ).to(\"cuda\")\n",
        "\n",
        "    # Set the model to evaluation mode\n",
        "    model.eval()\n",
        "\n",
        "    # Generate the response without token_type_ids\n",
        "    with torch.no_grad():\n",
        "      output_tokens = model.generate(\n",
        "            **promptTokenized,\n",
        "            max_new_tokens=2048,\n",
        "            temperature=0.8\n",
        "        )\n",
        "      generated_text = tokenizer.decode(\n",
        "            output_tokens[0],\n",
        "            skip_special_tokens=True\n",
        "        )\n",
        "      print(generated_text)\n",
        "\n",
        "    # Clear CUDA cache\n",
        "    torch.cuda.empty_cache()\n",
        "\n",
        "else:\n",
        "    # If not related to the topics, print an appropriate message\n",
        "    print(f\"Sorry, the topic '{question}' is out of the domain of computer science. Try again with a relevant topic.\")\n"
      ]
    },
    {
      "cell_type": "code",
      "execution_count": null,
      "metadata": {
        "colab": {
          "background_save": true
        },
        "id": "mUlgYh5gizkf",
        "outputId": "f6ad863d-ea38-4beb-d230-a345869f7f50"
      },
      "outputs": [
        {
          "ename": "SyntaxError",
          "evalue": "unterminated string literal (detected at line 28) (<ipython-input-17-7e5b4b29e14c>, line 28)",
          "output_type": "error",
          "traceback": [
            "\u001b[0;36m  File \u001b[0;32m\"<ipython-input-17-7e5b4b29e14c>\"\u001b[0;36m, line \u001b[0;32m28\u001b[0m\n\u001b[0;31m    print(\"Neil Gogte Similarity to Computer Science:classification[\"scores\"][0])\u001b[0m\n\u001b[0m                                                                           ^\u001b[0m\n\u001b[0;31mSyntaxError\u001b[0m\u001b[0;31m:\u001b[0m unterminated string literal (detected at line 28)\n"
          ]
        }
      ],
      "source": [
        "# Define your question\n",
        "question = \"Allu Arjun\"\n",
        "\n",
        "# Format the question into the prompt\n",
        "eval_prompt = f\"The topic is this- {question}, First, check if the {question} is out of the domain of computer science. If it is outside the domain of Computer Science, Just say that it is out of bound and do not generate any . If it is in the domain of computer science, You are supposed to generate 30 Multiple choice questions on it. \\n\\n\"\n",
        "\n",
        "# Tokenize the prompt without returning token_type_ids\n",
        "promptTokenized = tokenizer(\n",
        "    eval_prompt,\n",
        "    return_tensors=\"pt\",\n",
        "    return_token_type_ids=False  # Disable token_type_ids\n",
        ").to(\"cuda\")\n",
        "\n",
        "# Set the model to evaluation mode\n",
        "model.eval()\n",
        "\n",
        "# Generate the response without token_type_ids\n",
        "with torch.no_grad():\n",
        "    output_tokens = model.generate(\n",
        "        **promptTokenized,\n",
        "        max_new_tokens=2048,\n",
        "        # repetition_penalty=1.2,\n",
        "        #num_beans=5,\n",
        "        temperature=0.8\n",
        "    )\n",
        "    generated_text = tokenizer.decode(\n",
        "        output_tokens[0],\n",
        "        skip_special_tokens=True\n",
        "    )\n",
        "    print(generated_text)\n",
        "\n",
        "# Clear CUDA cache\n",
        "torch.cuda.empty_cache()\n"
      ]
    },
    {
      "cell_type": "code",
      "execution_count": null,
      "metadata": {
        "colab": {
          "background_save": true
        },
        "id": "dnhB3FC17jjM"
      },
      "outputs": [],
      "source": [
        "torch.cuda.empty_cache()\n"
      ]
    },
    {
      "cell_type": "code",
      "execution_count": null,
      "metadata": {
        "colab": {
          "background_save": true
        },
        "id": "LpZr4A5MY_nM"
      },
      "outputs": [],
      "source": []
    },
    {
      "cell_type": "code",
      "execution_count": null,
      "metadata": {
        "colab": {
          "background_save": true
        },
        "id": "dB79v07rVlL8"
      },
      "outputs": [],
      "source": [
        "classifier = pipeline(\"zero-shot-classification\", model=\"facebook/bart-large-mnli\")"
      ]
    },
    {
      "cell_type": "code",
      "execution_count": null,
      "metadata": {
        "colab": {
          "background_save": true
        },
        "id": "KWZKZTBf5-iW"
      },
      "outputs": [],
      "source": [
        "# Define the question or topic\n",
        "question = \"Python\"\n",
        "\n",
        "# Adjusted labels based on the content of the uploaded file\n",
        "labels = [\"data structures and algorithms\",\n",
        "          \"programming concepts\",\n",
        "          \"software engineering\",\n",
        "          \"databases and data management\",\n",
        "          \"machine learning and data science\"]\n",
        "\n",
        "# Classify the topic\n",
        "classification = classifier(question, labels)\n"
      ]
    },
    {
      "cell_type": "code",
      "execution_count": null,
      "metadata": {
        "colab": {
          "background_save": true
        },
        "id": "mLvqL95f6DyB"
      },
      "outputs": [],
      "source": [
        " classification[\"scores\"][0]"
      ]
    },
    {
      "cell_type": "code",
      "execution_count": null,
      "metadata": {
        "colab": {
          "background_save": true
        },
        "id": "aGtq0nXY2TXw"
      },
      "outputs": [],
      "source": [
        "\n",
        "\n",
        "# Define the question or topic\n",
        "question = \"Allu Arjun\"\n",
        "\n",
        "# Adjusted labels based on the content of the uploaded file\n",
        "labels = [\"data structures and algorithms\",\n",
        "          \"programming concepts\",\n",
        "          \"software engineering\",\n",
        "          \"databases and data management\",\n",
        "          \"machine learning and data science\"]\n",
        "\n",
        "# Classify the topic\n",
        "classification = classifier(question, labels)\n",
        "\n",
        "# Check if the topic belongs to computer science\n",
        "if classification[\"labels\"][0] in labels and classification[\"scores\"][0] > 0.7:\n",
        "    # If it belongs to computer science, proceed with question generation\n",
        "    eval_prompt = f\"The topic is this- {question}. Generate 30 Multiple choice questions on it.\\n\\n\"\n",
        "\n",
        "    # Tokenize the prompt without returning token_type_ids\n",
        "    promptTokenized = tokenizer(\n",
        "        eval_prompt,\n",
        "        return_tensors=\"pt\",\n",
        "        return_token_type_ids=False  # Disable token_type_ids\n",
        "    ).to(\"cuda\")\n",
        "\n",
        "    # Set the model to evaluation mode\n",
        "    model.eval()\n",
        "\n",
        "    # Generate the response without token_type_ids\n",
        "    with torch.no_grad():\n",
        "        output_tokens = model.generate(\n",
        "            **promptTokenized,\n",
        "            max_new_tokens=2048,\n",
        "            temperature=0.8\n",
        "        )\n",
        "        generated_text = tokenizer.decode(\n",
        "            output_tokens[0],\n",
        "            skip_special_tokens=True\n",
        "        )\n",
        "        print(generated_text)\n",
        "\n",
        "    # Clear CUDA cache\n",
        "    torch.cuda.empty_cache()\n",
        "\n",
        "else:\n",
        "    # If not related to the topics, print an appropriate message\n",
        "    print(f\"Sorry, the topic '{question}' is out of the domain of computer science. Try again with a relevant topic.\")\n"
      ]
    },
    {
      "cell_type": "code",
      "execution_count": null,
      "metadata": {
        "colab": {
          "background_save": true
        },
        "id": "69ATCLbG25aw"
      },
      "outputs": [],
      "source": [
        "pip install tensorflow==2.11 keras==2.11\n"
      ]
    },
    {
      "cell_type": "code",
      "execution_count": null,
      "metadata": {
        "colab": {
          "background_save": true
        },
        "id": "aYMxSdRw7qZz"
      },
      "outputs": [],
      "source": [
        "from transformers import pipeline\n",
        "\n",
        "# Initialize the zero-shot-classification pipeline\n",
        "classifier = pipeline(\"zero-shot-classification\", model=\"facebook/bart-large-mnli\")\n",
        "\n",
        "# Define the input topic with added context\n",
        "question = \"Binary Search\"\n",
        "\n",
        "# Broadened and more relevant labels\n",
        "labels = [\n",
        "    \"programming\",\n",
        "    \"software development\",\n",
        "    \"data science\",\n",
        "    \"computer science concepts\",\n",
        "    \"IT and software\"\n",
        "]\n",
        "\n",
        "# Classify the topic and get the top label with its score\n",
        "classification = classifier(question, labels)\n",
        "\n",
        "# Print the classification results for better understanding\n",
        "print(\"Classification Result:\", classification)\n",
        "\n",
        "# Check if the highest-scoring label meets the threshold\n",
        "if classification[\"scores\"][0] > 0.4:  # Adjusted score threshold\n",
        "    print(f\"The topic '{question}' belongs to the '{classification['labels'][0]}' domain.\")\n",
        "else:\n",
        "    print(f\"Sorry, the topic '{question}' is out of the domain of computer science. Try again with a relevant topic.\")\n"
      ]
    },
    {
      "cell_type": "code",
      "execution_count": null,
      "metadata": {
        "colab": {
          "background_save": true
        },
        "id": "p5KxyASz8hpK"
      },
      "outputs": [],
      "source": [
        "# Define the input topic with added context\n",
        "question = \"Allu Arjun\"\n",
        "\n",
        "# Broadened and more relevant labels\n",
        "labels = [\n",
        "    \"programming\",\n",
        "    \"software development\",\n",
        "    \"data science\",\n",
        "    \"computer science concepts\",\n",
        "    \"IT and software\"\n",
        "]\n",
        "\n",
        "# Classify the topic and get the top label with its score\n",
        "classification = classifier(question, labels)\n",
        "\n",
        "# Print the classification results for better understanding\n",
        "print(\"Classification Result:\", classification)\n",
        "\n",
        "# Check if the highest-scoring label meets the threshold\n",
        "if classification[\"scores\"][0] > 0.4:  # Adjusted score threshold\n",
        "    print(f\"The topic '{question}' belongs to the '{classification['labels'][0]}' domain.\")\n",
        "else:\n",
        "    print(f\"Sorry, the topic '{question}' is out of the domain of computer science. Try again with a relevant topic.\")\n"
      ]
    },
    {
      "cell_type": "code",
      "execution_count": null,
      "metadata": {
        "colab": {
          "background_save": true
        },
        "id": "cLrpzCXZhbyd"
      },
      "outputs": [],
      "source": [
        "!pip install --upgrade tensorflow keras\n",
        "!pip install transformers torch\n"
      ]
    },
    {
      "cell_type": "code",
      "execution_count": null,
      "metadata": {
        "colab": {
          "background_save": true
        },
        "id": "sHbnoSPrhst4"
      },
      "outputs": [],
      "source": [
        "import locale\n",
        "import os\n",
        "\n",
        "# Set the environment to UTF-8 explicitly\n",
        "os.environ['LANG'] = 'en_US.UTF-8'\n",
        "os.environ['LC_ALL'] = 'en_US.UTF-8'\n",
        "locale.setlocale(locale.LC_ALL, 'en_US.UTF-8')\n",
        "\n",
        "# Verify if the locale is set correctly\n",
        "print(\"Locale is set to:\", locale.getpreferredencoding())\n",
        "\n",
        "# Re-run your main logic\n",
        "from transformers import pipeline\n",
        "\n",
        "classifier = pipeline(\n",
        "    \"zero-shot-classification\",\n",
        "    model=\"facebook/bart-large-mnli\",\n",
        "    framework=\"pt\"  # Force PyTorch\n",
        ")\n",
        "\n",
        "candidate_labels = [\"education\", \"politics\", \"sports\"]\n",
        "text = \"KMIT is hosting an interactive learning event with quizzes.\"\n",
        "\n",
        "result = classifier(text, candidate_labels)\n",
        "print(result)\n"
      ]
    },
    {
      "cell_type": "code",
      "execution_count": null,
      "metadata": {
        "colab": {
          "background_save": true
        },
        "id": "mXC6RM9xfZYl"
      },
      "outputs": [],
      "source": [
        "# Step 1: Install necessary libraries\n",
        "# !pip install transformers torch\n",
        "\n",
        "# Step 2: Import required modules\n",
        "#from transformers import pipeline\n",
        "#import torch\n",
        "os.environ['LANG'] = 'en_US.UTF-8'\n",
        "os.environ['LC_ALL'] = 'en_US.UTF-8'\n",
        "locale.setlocale(locale.LC_ALL, 'en_US.UTF-8')\n",
        "# Step 3: Initialize the zero-shot classification pipeline\n",
        "classifier = pipeline(\n",
        "    \"zero-shot-classification\",\n",
        "    model=\"facebook/bart-large-mnli\",\n",
        "    framework=\"pt\"\n",
        "    # device=0 if torch.cuda.is_available() else -1  # Use GPU if available, otherwise CPU\n",
        ")"
      ]
    },
    {
      "cell_type": "markdown",
      "metadata": {
        "id": "drh9QQnIdUWT"
      },
      "source": [
        "### ENTER YOUR QUESTION BELOW\n",
        "\n",
        "question = \"What is data abstraction?\"\n",
        "\n",
        "# Format the question\n",
        "eval_prompt = f\"{question}\\n\\n\"\n",
        "\n",
        "promptTokenized = tokenizer(eval_prompt, return_tensors=\"pt\").to(\"cuda\")\n",
        "\n",
        "model.eval()\n",
        "with torch.no_grad():\n",
        "    print(tokenizer.decode(model.generate(**promptTokenized, max_new_tokens = 1024)[0], skip_special_tokens=True))\n",
        "torch.cuda.empty_cache()"
      ]
    }
  ],
  "metadata": {
    "accelerator": "GPU",
    "colab": {
      "gpuType": "T4",
      "provenance": [],
      "include_colab_link": true
    },
    "kernelspec": {
      "display_name": "Python 3",
      "name": "python3"
    },
    "language_info": {
      "name": "python"
    }
  },
  "nbformat": 4,
  "nbformat_minor": 0
}