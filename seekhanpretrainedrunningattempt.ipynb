{
  "nbformat": 4,
  "nbformat_minor": 0,
  "metadata": {
    "colab": {
      "provenance": [],
      "gpuType": "T4",
      "authorship_tag": "ABX9TyNrmwAdJfuYYjGWALin9nsS",
      "include_colab_link": true
    },
    "kernelspec": {
      "name": "python3",
      "display_name": "Python 3"
    },
    "language_info": {
      "name": "python"
    },
    "accelerator": "GPU",
    "widgets": {
      "application/vnd.jupyter.widget-state+json": {
        "d2123cee51a24b01bbdeea63598596e1": {
          "model_module": "@jupyter-widgets/controls",
          "model_name": "HBoxModel",
          "model_module_version": "1.5.0",
          "state": {
            "_dom_classes": [],
            "_model_module": "@jupyter-widgets/controls",
            "_model_module_version": "1.5.0",
            "_model_name": "HBoxModel",
            "_view_count": null,
            "_view_module": "@jupyter-widgets/controls",
            "_view_module_version": "1.5.0",
            "_view_name": "HBoxView",
            "box_style": "",
            "children": [
              "IPY_MODEL_8f10b84d4e7a4a64a28ae84b161c5cd1",
              "IPY_MODEL_a5ef6168b6414b5799a31950669c58ed",
              "IPY_MODEL_e71dc89c9c194217ad7d44a6dbf15616"
            ],
            "layout": "IPY_MODEL_5c0cb2a95b8549059573454c6a891823"
          }
        },
        "8f10b84d4e7a4a64a28ae84b161c5cd1": {
          "model_module": "@jupyter-widgets/controls",
          "model_name": "HTMLModel",
          "model_module_version": "1.5.0",
          "state": {
            "_dom_classes": [],
            "_model_module": "@jupyter-widgets/controls",
            "_model_module_version": "1.5.0",
            "_model_name": "HTMLModel",
            "_view_count": null,
            "_view_module": "@jupyter-widgets/controls",
            "_view_module_version": "1.5.0",
            "_view_name": "HTMLView",
            "description": "",
            "description_tooltip": null,
            "layout": "IPY_MODEL_424b9d36fe004b698d2f77ad53968cbb",
            "placeholder": "​",
            "style": "IPY_MODEL_746530bdec1e4a35a4b48f7f2b4af3a8",
            "value": "Loading checkpoint shards: 100%"
          }
        },
        "a5ef6168b6414b5799a31950669c58ed": {
          "model_module": "@jupyter-widgets/controls",
          "model_name": "FloatProgressModel",
          "model_module_version": "1.5.0",
          "state": {
            "_dom_classes": [],
            "_model_module": "@jupyter-widgets/controls",
            "_model_module_version": "1.5.0",
            "_model_name": "FloatProgressModel",
            "_view_count": null,
            "_view_module": "@jupyter-widgets/controls",
            "_view_module_version": "1.5.0",
            "_view_name": "ProgressView",
            "bar_style": "success",
            "description": "",
            "description_tooltip": null,
            "layout": "IPY_MODEL_34f6392c2aae4f8398de64c9b2434990",
            "max": 2,
            "min": 0,
            "orientation": "horizontal",
            "style": "IPY_MODEL_3aae35d4601b4d19b761ab696d71b7b6",
            "value": 2
          }
        },
        "e71dc89c9c194217ad7d44a6dbf15616": {
          "model_module": "@jupyter-widgets/controls",
          "model_name": "HTMLModel",
          "model_module_version": "1.5.0",
          "state": {
            "_dom_classes": [],
            "_model_module": "@jupyter-widgets/controls",
            "_model_module_version": "1.5.0",
            "_model_name": "HTMLModel",
            "_view_count": null,
            "_view_module": "@jupyter-widgets/controls",
            "_view_module_version": "1.5.0",
            "_view_name": "HTMLView",
            "description": "",
            "description_tooltip": null,
            "layout": "IPY_MODEL_ea794acd34e94d5fa744fe871e086500",
            "placeholder": "​",
            "style": "IPY_MODEL_5de66e0e94d0494eb7e3712dbd33f1ab",
            "value": " 2/2 [01:05&lt;00:00, 29.69s/it]"
          }
        },
        "5c0cb2a95b8549059573454c6a891823": {
          "model_module": "@jupyter-widgets/base",
          "model_name": "LayoutModel",
          "model_module_version": "1.2.0",
          "state": {
            "_model_module": "@jupyter-widgets/base",
            "_model_module_version": "1.2.0",
            "_model_name": "LayoutModel",
            "_view_count": null,
            "_view_module": "@jupyter-widgets/base",
            "_view_module_version": "1.2.0",
            "_view_name": "LayoutView",
            "align_content": null,
            "align_items": null,
            "align_self": null,
            "border": null,
            "bottom": null,
            "display": null,
            "flex": null,
            "flex_flow": null,
            "grid_area": null,
            "grid_auto_columns": null,
            "grid_auto_flow": null,
            "grid_auto_rows": null,
            "grid_column": null,
            "grid_gap": null,
            "grid_row": null,
            "grid_template_areas": null,
            "grid_template_columns": null,
            "grid_template_rows": null,
            "height": null,
            "justify_content": null,
            "justify_items": null,
            "left": null,
            "margin": null,
            "max_height": null,
            "max_width": null,
            "min_height": null,
            "min_width": null,
            "object_fit": null,
            "object_position": null,
            "order": null,
            "overflow": null,
            "overflow_x": null,
            "overflow_y": null,
            "padding": null,
            "right": null,
            "top": null,
            "visibility": null,
            "width": null
          }
        },
        "424b9d36fe004b698d2f77ad53968cbb": {
          "model_module": "@jupyter-widgets/base",
          "model_name": "LayoutModel",
          "model_module_version": "1.2.0",
          "state": {
            "_model_module": "@jupyter-widgets/base",
            "_model_module_version": "1.2.0",
            "_model_name": "LayoutModel",
            "_view_count": null,
            "_view_module": "@jupyter-widgets/base",
            "_view_module_version": "1.2.0",
            "_view_name": "LayoutView",
            "align_content": null,
            "align_items": null,
            "align_self": null,
            "border": null,
            "bottom": null,
            "display": null,
            "flex": null,
            "flex_flow": null,
            "grid_area": null,
            "grid_auto_columns": null,
            "grid_auto_flow": null,
            "grid_auto_rows": null,
            "grid_column": null,
            "grid_gap": null,
            "grid_row": null,
            "grid_template_areas": null,
            "grid_template_columns": null,
            "grid_template_rows": null,
            "height": null,
            "justify_content": null,
            "justify_items": null,
            "left": null,
            "margin": null,
            "max_height": null,
            "max_width": null,
            "min_height": null,
            "min_width": null,
            "object_fit": null,
            "object_position": null,
            "order": null,
            "overflow": null,
            "overflow_x": null,
            "overflow_y": null,
            "padding": null,
            "right": null,
            "top": null,
            "visibility": null,
            "width": null
          }
        },
        "746530bdec1e4a35a4b48f7f2b4af3a8": {
          "model_module": "@jupyter-widgets/controls",
          "model_name": "DescriptionStyleModel",
          "model_module_version": "1.5.0",
          "state": {
            "_model_module": "@jupyter-widgets/controls",
            "_model_module_version": "1.5.0",
            "_model_name": "DescriptionStyleModel",
            "_view_count": null,
            "_view_module": "@jupyter-widgets/base",
            "_view_module_version": "1.2.0",
            "_view_name": "StyleView",
            "description_width": ""
          }
        },
        "34f6392c2aae4f8398de64c9b2434990": {
          "model_module": "@jupyter-widgets/base",
          "model_name": "LayoutModel",
          "model_module_version": "1.2.0",
          "state": {
            "_model_module": "@jupyter-widgets/base",
            "_model_module_version": "1.2.0",
            "_model_name": "LayoutModel",
            "_view_count": null,
            "_view_module": "@jupyter-widgets/base",
            "_view_module_version": "1.2.0",
            "_view_name": "LayoutView",
            "align_content": null,
            "align_items": null,
            "align_self": null,
            "border": null,
            "bottom": null,
            "display": null,
            "flex": null,
            "flex_flow": null,
            "grid_area": null,
            "grid_auto_columns": null,
            "grid_auto_flow": null,
            "grid_auto_rows": null,
            "grid_column": null,
            "grid_gap": null,
            "grid_row": null,
            "grid_template_areas": null,
            "grid_template_columns": null,
            "grid_template_rows": null,
            "height": null,
            "justify_content": null,
            "justify_items": null,
            "left": null,
            "margin": null,
            "max_height": null,
            "max_width": null,
            "min_height": null,
            "min_width": null,
            "object_fit": null,
            "object_position": null,
            "order": null,
            "overflow": null,
            "overflow_x": null,
            "overflow_y": null,
            "padding": null,
            "right": null,
            "top": null,
            "visibility": null,
            "width": null
          }
        },
        "3aae35d4601b4d19b761ab696d71b7b6": {
          "model_module": "@jupyter-widgets/controls",
          "model_name": "ProgressStyleModel",
          "model_module_version": "1.5.0",
          "state": {
            "_model_module": "@jupyter-widgets/controls",
            "_model_module_version": "1.5.0",
            "_model_name": "ProgressStyleModel",
            "_view_count": null,
            "_view_module": "@jupyter-widgets/base",
            "_view_module_version": "1.2.0",
            "_view_name": "StyleView",
            "bar_color": null,
            "description_width": ""
          }
        },
        "ea794acd34e94d5fa744fe871e086500": {
          "model_module": "@jupyter-widgets/base",
          "model_name": "LayoutModel",
          "model_module_version": "1.2.0",
          "state": {
            "_model_module": "@jupyter-widgets/base",
            "_model_module_version": "1.2.0",
            "_model_name": "LayoutModel",
            "_view_count": null,
            "_view_module": "@jupyter-widgets/base",
            "_view_module_version": "1.2.0",
            "_view_name": "LayoutView",
            "align_content": null,
            "align_items": null,
            "align_self": null,
            "border": null,
            "bottom": null,
            "display": null,
            "flex": null,
            "flex_flow": null,
            "grid_area": null,
            "grid_auto_columns": null,
            "grid_auto_flow": null,
            "grid_auto_rows": null,
            "grid_column": null,
            "grid_gap": null,
            "grid_row": null,
            "grid_template_areas": null,
            "grid_template_columns": null,
            "grid_template_rows": null,
            "height": null,
            "justify_content": null,
            "justify_items": null,
            "left": null,
            "margin": null,
            "max_height": null,
            "max_width": null,
            "min_height": null,
            "min_width": null,
            "object_fit": null,
            "object_position": null,
            "order": null,
            "overflow": null,
            "overflow_x": null,
            "overflow_y": null,
            "padding": null,
            "right": null,
            "top": null,
            "visibility": null,
            "width": null
          }
        },
        "5de66e0e94d0494eb7e3712dbd33f1ab": {
          "model_module": "@jupyter-widgets/controls",
          "model_name": "DescriptionStyleModel",
          "model_module_version": "1.5.0",
          "state": {
            "_model_module": "@jupyter-widgets/controls",
            "_model_module_version": "1.5.0",
            "_model_name": "DescriptionStyleModel",
            "_view_count": null,
            "_view_module": "@jupyter-widgets/base",
            "_view_module_version": "1.2.0",
            "_view_name": "StyleView",
            "description_width": ""
          }
        },
        "791ef10d9c91467893d88ce3c34a6e27": {
          "model_module": "@jupyter-widgets/controls",
          "model_name": "HBoxModel",
          "model_module_version": "1.5.0",
          "state": {
            "_dom_classes": [],
            "_model_module": "@jupyter-widgets/controls",
            "_model_module_version": "1.5.0",
            "_model_name": "HBoxModel",
            "_view_count": null,
            "_view_module": "@jupyter-widgets/controls",
            "_view_module_version": "1.5.0",
            "_view_name": "HBoxView",
            "box_style": "",
            "children": [
              "IPY_MODEL_838ab7261954415cacf4d51c9b9d9df4",
              "IPY_MODEL_811bd0ab35534f89b8d2cd1318e0bd37",
              "IPY_MODEL_2833d2986cdd4141abbd088d11dfaf61"
            ],
            "layout": "IPY_MODEL_5e402c8d488842b2b282340afb90e40c"
          }
        },
        "838ab7261954415cacf4d51c9b9d9df4": {
          "model_module": "@jupyter-widgets/controls",
          "model_name": "HTMLModel",
          "model_module_version": "1.5.0",
          "state": {
            "_dom_classes": [],
            "_model_module": "@jupyter-widgets/controls",
            "_model_module_version": "1.5.0",
            "_model_name": "HTMLModel",
            "_view_count": null,
            "_view_module": "@jupyter-widgets/controls",
            "_view_module_version": "1.5.0",
            "_view_name": "HTMLView",
            "description": "",
            "description_tooltip": null,
            "layout": "IPY_MODEL_bbd48831041f493f948bbeeaacff615c",
            "placeholder": "​",
            "style": "IPY_MODEL_127d083e70d547fba44c5c34fed9aa24",
            "value": "Loading checkpoint shards: 100%"
          }
        },
        "811bd0ab35534f89b8d2cd1318e0bd37": {
          "model_module": "@jupyter-widgets/controls",
          "model_name": "FloatProgressModel",
          "model_module_version": "1.5.0",
          "state": {
            "_dom_classes": [],
            "_model_module": "@jupyter-widgets/controls",
            "_model_module_version": "1.5.0",
            "_model_name": "FloatProgressModel",
            "_view_count": null,
            "_view_module": "@jupyter-widgets/controls",
            "_view_module_version": "1.5.0",
            "_view_name": "ProgressView",
            "bar_style": "success",
            "description": "",
            "description_tooltip": null,
            "layout": "IPY_MODEL_d27ed7c146844f8b851f16f82f8f5b9f",
            "max": 2,
            "min": 0,
            "orientation": "horizontal",
            "style": "IPY_MODEL_6f6eb487fd434141ba257bdabb8b584d",
            "value": 2
          }
        },
        "2833d2986cdd4141abbd088d11dfaf61": {
          "model_module": "@jupyter-widgets/controls",
          "model_name": "HTMLModel",
          "model_module_version": "1.5.0",
          "state": {
            "_dom_classes": [],
            "_model_module": "@jupyter-widgets/controls",
            "_model_module_version": "1.5.0",
            "_model_name": "HTMLModel",
            "_view_count": null,
            "_view_module": "@jupyter-widgets/controls",
            "_view_module_version": "1.5.0",
            "_view_name": "HTMLView",
            "description": "",
            "description_tooltip": null,
            "layout": "IPY_MODEL_b388369792cb4e38bca10d20f1a10eca",
            "placeholder": "​",
            "style": "IPY_MODEL_11a4a800c17245b383df104a2b62c73d",
            "value": " 2/2 [01:07&lt;00:00, 31.36s/it]"
          }
        },
        "5e402c8d488842b2b282340afb90e40c": {
          "model_module": "@jupyter-widgets/base",
          "model_name": "LayoutModel",
          "model_module_version": "1.2.0",
          "state": {
            "_model_module": "@jupyter-widgets/base",
            "_model_module_version": "1.2.0",
            "_model_name": "LayoutModel",
            "_view_count": null,
            "_view_module": "@jupyter-widgets/base",
            "_view_module_version": "1.2.0",
            "_view_name": "LayoutView",
            "align_content": null,
            "align_items": null,
            "align_self": null,
            "border": null,
            "bottom": null,
            "display": null,
            "flex": null,
            "flex_flow": null,
            "grid_area": null,
            "grid_auto_columns": null,
            "grid_auto_flow": null,
            "grid_auto_rows": null,
            "grid_column": null,
            "grid_gap": null,
            "grid_row": null,
            "grid_template_areas": null,
            "grid_template_columns": null,
            "grid_template_rows": null,
            "height": null,
            "justify_content": null,
            "justify_items": null,
            "left": null,
            "margin": null,
            "max_height": null,
            "max_width": null,
            "min_height": null,
            "min_width": null,
            "object_fit": null,
            "object_position": null,
            "order": null,
            "overflow": null,
            "overflow_x": null,
            "overflow_y": null,
            "padding": null,
            "right": null,
            "top": null,
            "visibility": null,
            "width": null
          }
        },
        "bbd48831041f493f948bbeeaacff615c": {
          "model_module": "@jupyter-widgets/base",
          "model_name": "LayoutModel",
          "model_module_version": "1.2.0",
          "state": {
            "_model_module": "@jupyter-widgets/base",
            "_model_module_version": "1.2.0",
            "_model_name": "LayoutModel",
            "_view_count": null,
            "_view_module": "@jupyter-widgets/base",
            "_view_module_version": "1.2.0",
            "_view_name": "LayoutView",
            "align_content": null,
            "align_items": null,
            "align_self": null,
            "border": null,
            "bottom": null,
            "display": null,
            "flex": null,
            "flex_flow": null,
            "grid_area": null,
            "grid_auto_columns": null,
            "grid_auto_flow": null,
            "grid_auto_rows": null,
            "grid_column": null,
            "grid_gap": null,
            "grid_row": null,
            "grid_template_areas": null,
            "grid_template_columns": null,
            "grid_template_rows": null,
            "height": null,
            "justify_content": null,
            "justify_items": null,
            "left": null,
            "margin": null,
            "max_height": null,
            "max_width": null,
            "min_height": null,
            "min_width": null,
            "object_fit": null,
            "object_position": null,
            "order": null,
            "overflow": null,
            "overflow_x": null,
            "overflow_y": null,
            "padding": null,
            "right": null,
            "top": null,
            "visibility": null,
            "width": null
          }
        },
        "127d083e70d547fba44c5c34fed9aa24": {
          "model_module": "@jupyter-widgets/controls",
          "model_name": "DescriptionStyleModel",
          "model_module_version": "1.5.0",
          "state": {
            "_model_module": "@jupyter-widgets/controls",
            "_model_module_version": "1.5.0",
            "_model_name": "DescriptionStyleModel",
            "_view_count": null,
            "_view_module": "@jupyter-widgets/base",
            "_view_module_version": "1.2.0",
            "_view_name": "StyleView",
            "description_width": ""
          }
        },
        "d27ed7c146844f8b851f16f82f8f5b9f": {
          "model_module": "@jupyter-widgets/base",
          "model_name": "LayoutModel",
          "model_module_version": "1.2.0",
          "state": {
            "_model_module": "@jupyter-widgets/base",
            "_model_module_version": "1.2.0",
            "_model_name": "LayoutModel",
            "_view_count": null,
            "_view_module": "@jupyter-widgets/base",
            "_view_module_version": "1.2.0",
            "_view_name": "LayoutView",
            "align_content": null,
            "align_items": null,
            "align_self": null,
            "border": null,
            "bottom": null,
            "display": null,
            "flex": null,
            "flex_flow": null,
            "grid_area": null,
            "grid_auto_columns": null,
            "grid_auto_flow": null,
            "grid_auto_rows": null,
            "grid_column": null,
            "grid_gap": null,
            "grid_row": null,
            "grid_template_areas": null,
            "grid_template_columns": null,
            "grid_template_rows": null,
            "height": null,
            "justify_content": null,
            "justify_items": null,
            "left": null,
            "margin": null,
            "max_height": null,
            "max_width": null,
            "min_height": null,
            "min_width": null,
            "object_fit": null,
            "object_position": null,
            "order": null,
            "overflow": null,
            "overflow_x": null,
            "overflow_y": null,
            "padding": null,
            "right": null,
            "top": null,
            "visibility": null,
            "width": null
          }
        },
        "6f6eb487fd434141ba257bdabb8b584d": {
          "model_module": "@jupyter-widgets/controls",
          "model_name": "ProgressStyleModel",
          "model_module_version": "1.5.0",
          "state": {
            "_model_module": "@jupyter-widgets/controls",
            "_model_module_version": "1.5.0",
            "_model_name": "ProgressStyleModel",
            "_view_count": null,
            "_view_module": "@jupyter-widgets/base",
            "_view_module_version": "1.2.0",
            "_view_name": "StyleView",
            "bar_color": null,
            "description_width": ""
          }
        },
        "b388369792cb4e38bca10d20f1a10eca": {
          "model_module": "@jupyter-widgets/base",
          "model_name": "LayoutModel",
          "model_module_version": "1.2.0",
          "state": {
            "_model_module": "@jupyter-widgets/base",
            "_model_module_version": "1.2.0",
            "_model_name": "LayoutModel",
            "_view_count": null,
            "_view_module": "@jupyter-widgets/base",
            "_view_module_version": "1.2.0",
            "_view_name": "LayoutView",
            "align_content": null,
            "align_items": null,
            "align_self": null,
            "border": null,
            "bottom": null,
            "display": null,
            "flex": null,
            "flex_flow": null,
            "grid_area": null,
            "grid_auto_columns": null,
            "grid_auto_flow": null,
            "grid_auto_rows": null,
            "grid_column": null,
            "grid_gap": null,
            "grid_row": null,
            "grid_template_areas": null,
            "grid_template_columns": null,
            "grid_template_rows": null,
            "height": null,
            "justify_content": null,
            "justify_items": null,
            "left": null,
            "margin": null,
            "max_height": null,
            "max_width": null,
            "min_height": null,
            "min_width": null,
            "object_fit": null,
            "object_position": null,
            "order": null,
            "overflow": null,
            "overflow_x": null,
            "overflow_y": null,
            "padding": null,
            "right": null,
            "top": null,
            "visibility": null,
            "width": null
          }
        },
        "11a4a800c17245b383df104a2b62c73d": {
          "model_module": "@jupyter-widgets/controls",
          "model_name": "DescriptionStyleModel",
          "model_module_version": "1.5.0",
          "state": {
            "_model_module": "@jupyter-widgets/controls",
            "_model_module_version": "1.5.0",
            "_model_name": "DescriptionStyleModel",
            "_view_count": null,
            "_view_module": "@jupyter-widgets/base",
            "_view_module_version": "1.2.0",
            "_view_name": "StyleView",
            "description_width": ""
          }
        }
      }
    }
  },
  "cells": [
    {
      "cell_type": "markdown",
      "metadata": {
        "id": "view-in-github",
        "colab_type": "text"
      },
      "source": [
        "<a href=\"https://colab.research.google.com/github/mausombi/projectseekhan/blob/pret/seekhanpretrainedrunningattempt.ipynb\" target=\"_parent\"><img src=\"https://colab.research.google.com/assets/colab-badge.svg\" alt=\"Open In Colab\"/></a>"
      ]
    },
    {
      "cell_type": "code",
      "source": [
        "\n",
        "!pip install GPUtil\n",
        "\n",
        "import torch\n",
        "import GPUtil\n",
        "import os\n",
        "!pip install -q git+https://github.com/huggingface/peft.git\n",
        "!pip install -q -i https://pypi.org/simple/ bitsandbytes\n",
        "!pip install -q transformers==4.30\n",
        "!pip install -q datasets\n",
        "\n",
        "\n",
        "import torch\n",
        "import transformers\n",
        "from transformers import AutoTokenizer, AutoModelForCausalLM\n",
        "from transformers import BitsAndBytesConfig,LlamaTokenizer\n",
        "from huggingface_hub import notebook_login\n",
        "from datasets import load_dataset\n",
        "from peft import prepare_model_for_kbit_training\n",
        "from peft import LoraConfig, get_peft_model\n",
        "from datetime import datetime\n",
        "\n",
        "if 'COLAB_GPU' in os.environ:\n",
        "    from google.colab import output\n",
        "    output.enable_custom_widget_manager()"
      ],
      "metadata": {
        "colab": {
          "base_uri": "https://localhost:8080/"
        },
        "id": "Pvq048wmdhKh",
        "outputId": "f9692e2d-296c-40ff-e550-65538aababbf"
      },
      "execution_count": 1,
      "outputs": [
        {
          "output_type": "stream",
          "name": "stdout",
          "text": [
            "Requirement already satisfied: GPUtil in /usr/local/lib/python3.10/dist-packages (1.4.0)\n",
            "  Installing build dependencies ... \u001b[?25l\u001b[?25hdone\n",
            "  Getting requirements to build wheel ... \u001b[?25l\u001b[?25hdone\n",
            "  Preparing metadata (pyproject.toml) ... \u001b[?25l\u001b[?25hdone\n"
          ]
        }
      ]
    },
    {
      "cell_type": "code",
      "source": [
        "if 'COLAB_GPU' in os.environ:\n",
        "    !huggingface-cli login\n",
        "else:\n",
        "    notebook_login()"
      ],
      "metadata": {
        "colab": {
          "base_uri": "https://localhost:8080/"
        },
        "id": "Sz9Se3TMd8bu",
        "outputId": "ccc2a71e-0431-4b46-ea60-9f63f9474caf"
      },
      "execution_count": 2,
      "outputs": [
        {
          "output_type": "stream",
          "name": "stdout",
          "text": [
            "\n",
            "    _|    _|  _|    _|    _|_|_|    _|_|_|  _|_|_|  _|      _|    _|_|_|      _|_|_|_|    _|_|      _|_|_|  _|_|_|_|\n",
            "    _|    _|  _|    _|  _|        _|          _|    _|_|    _|  _|            _|        _|    _|  _|        _|\n",
            "    _|_|_|_|  _|    _|  _|  _|_|  _|  _|_|    _|    _|  _|  _|  _|  _|_|      _|_|_|    _|_|_|_|  _|        _|_|_|\n",
            "    _|    _|  _|    _|  _|    _|  _|    _|    _|    _|    _|_|  _|    _|      _|        _|    _|  _|        _|\n",
            "    _|    _|    _|_|      _|_|_|    _|_|_|  _|_|_|  _|      _|    _|_|_|      _|        _|    _|    _|_|_|  _|_|_|_|\n",
            "\n",
            "    A token is already saved on your machine. Run `huggingface-cli whoami` to get more information or `huggingface-cli logout` if you want to log out.\n",
            "    Setting a new token will erase the existing one.\n",
            "    To login, `huggingface_hub` requires a token generated from https://huggingface.co/settings/tokens .\n",
            "Enter your token (input will not be visible): \n",
            "Add token as git credential? (Y/n) n\n",
            "Token is valid (permission: fineGrained).\n",
            "Your token has been saved to /root/.cache/huggingface/token\n",
            "Login successful\n"
          ]
        }
      ]
    },
    {
      "cell_type": "code",
      "execution_count": 3,
      "metadata": {
        "colab": {
          "base_uri": "https://localhost:8080/",
          "height": 212,
          "referenced_widgets": [
            "d2123cee51a24b01bbdeea63598596e1",
            "8f10b84d4e7a4a64a28ae84b161c5cd1",
            "a5ef6168b6414b5799a31950669c58ed",
            "e71dc89c9c194217ad7d44a6dbf15616",
            "5c0cb2a95b8549059573454c6a891823",
            "424b9d36fe004b698d2f77ad53968cbb",
            "746530bdec1e4a35a4b48f7f2b4af3a8",
            "34f6392c2aae4f8398de64c9b2434990",
            "3aae35d4601b4d19b761ab696d71b7b6",
            "ea794acd34e94d5fa744fe871e086500",
            "5de66e0e94d0494eb7e3712dbd33f1ab"
          ]
        },
        "id": "FQaAe5X1dQeN",
        "outputId": "ef563401-9ea2-4500-db05-930186c6d1ba"
      },
      "outputs": [
        {
          "output_type": "stream",
          "name": "stderr",
          "text": [
            "/usr/local/lib/python3.10/dist-packages/huggingface_hub/utils/_token.py:89: UserWarning: \n",
            "The secret `HF_TOKEN` does not exist in your Colab secrets.\n",
            "To authenticate with the Hugging Face Hub, create a token in your settings tab (https://huggingface.co/settings/tokens), set it as secret in your Google Colab and restart your session.\n",
            "You will be able to reuse this secret in all of your notebooks.\n",
            "Please note that authentication is recommended but still optional to access public models or datasets.\n",
            "  warnings.warn(\n",
            "/usr/local/lib/python3.10/dist-packages/huggingface_hub/file_download.py:1150: FutureWarning: `resume_download` is deprecated and will be removed in version 1.0.0. Downloads always resume when possible. If you want to force a new download, use `force_download=True`.\n",
            "  warnings.warn(\n"
          ]
        },
        {
          "output_type": "display_data",
          "data": {
            "text/plain": [
              "Loading checkpoint shards:   0%|          | 0/2 [00:00<?, ?it/s]"
            ],
            "application/vnd.jupyter.widget-view+json": {
              "version_major": 2,
              "version_minor": 0,
              "model_id": "d2123cee51a24b01bbdeea63598596e1"
            }
          },
          "metadata": {
            "application/vnd.jupyter.widget-view+json": {
              "colab": {
                "custom_widget_manager": {
                  "url": "https://ssl.gstatic.com/colaboratory-static/widgets/colab-cdn-widget-manager/2b70e893a8ba7c0f/manager.min.js"
                }
              }
            }
          }
        }
      ],
      "source": [
        "\n",
        "import torch\n",
        "from peft import PeftModel, PeftConfig\n",
        "from transformers import AutoModelForCausalLM, AutoTokenizer\n",
        "\n",
        "peft_model_id = \"divyabindu77/seekhan_model\"\n",
        "config = PeftConfig.from_pretrained(peft_model_id)\n",
        "model = AutoModelForCausalLM.from_pretrained(config.base_model_name_or_path, return_dict=True, load_in_8bit=True, device_map='auto')\n",
        "tokenizer = AutoTokenizer.from_pretrained(config.base_model_name_or_path)\n",
        "\n",
        "# Load the Lora model\n",
        "model = PeftModel.from_pretrained(model, peft_model_id)"
      ]
    },
    {
      "cell_type": "markdown",
      "source": [],
      "metadata": {
        "id": "4Tbdtq-GfujH"
      }
    },
    {
      "cell_type": "markdown",
      "source": [],
      "metadata": {
        "id": "jtscJnlFfuhH"
      }
    },
    {
      "cell_type": "code",
      "source": [],
      "metadata": {
        "id": "_f6nRgfgfwCX"
      },
      "execution_count": 3,
      "outputs": []
    },
    {
      "cell_type": "code",
      "source": [
        "import torch\n",
        "from peft import PeftModel, PeftConfig\n",
        "from transformers import AutoModelForCausalLM, AutoTokenizer\n",
        "\n",
        "# Define the PEFT model ID\n",
        "peft_model_id = \"divyabindu77/seekhan_model\"\n",
        "\n",
        "# Load the PEFT configuration\n",
        "config = PeftConfig.from_pretrained(peft_model_id)\n",
        "\n",
        "# Load the base model with 8-bit precision and automatic device mapping\n",
        "model = AutoModelForCausalLM.from_pretrained(\n",
        "    config.base_model_name_or_path,\n",
        "    return_dict=True,\n",
        "    load_in_8bit=True,\n",
        "    device_map='auto'\n",
        ")\n",
        "\n",
        "# Load the tokenizer\n",
        "tokenizer = AutoTokenizer.from_pretrained(config.base_model_name_or_path)\n",
        "\n",
        "# Load the LoRA (PEFT) model\n",
        "model = PeftModel.from_pretrained(model, peft_model_id)\n",
        "\n",
        "# Define your question\n",
        "question = \"What is data abstraction?\"\n",
        "\n",
        "# Format the question into the prompt\n",
        "eval_prompt = f\"{question}\\n\\n\"\n",
        "\n",
        "# Tokenize the prompt without returning token_type_ids\n",
        "promptTokenized = tokenizer(\n",
        "    eval_prompt,\n",
        "    return_tensors=\"pt\",\n",
        "    return_token_type_ids=False  # Disable token_type_ids\n",
        ").to(\"cuda\")\n",
        "\n",
        "# Set the model to evaluation mode\n",
        "model.eval()\n",
        "\n",
        "# Generate the response without token_type_ids\n",
        "with torch.no_grad():\n",
        "    output_tokens = model.generate(\n",
        "        **promptTokenized,\n",
        "        max_new_tokens=1024\n",
        "    )\n",
        "    generated_text = tokenizer.decode(\n",
        "        output_tokens[0],\n",
        "        skip_special_tokens=True\n",
        "    )\n",
        "    print(generated_text)\n",
        "\n",
        "# Clear CUDA cache\n",
        "torch.cuda.empty_cache()\n"
      ],
      "metadata": {
        "colab": {
          "base_uri": "https://localhost:8080/",
          "height": 462,
          "referenced_widgets": [
            "791ef10d9c91467893d88ce3c34a6e27",
            "838ab7261954415cacf4d51c9b9d9df4",
            "811bd0ab35534f89b8d2cd1318e0bd37",
            "2833d2986cdd4141abbd088d11dfaf61",
            "5e402c8d488842b2b282340afb90e40c",
            "bbd48831041f493f948bbeeaacff615c",
            "127d083e70d547fba44c5c34fed9aa24",
            "d27ed7c146844f8b851f16f82f8f5b9f",
            "6f6eb487fd434141ba257bdabb8b584d",
            "b388369792cb4e38bca10d20f1a10eca",
            "11a4a800c17245b383df104a2b62c73d"
          ]
        },
        "id": "AEjrhou7hi7c",
        "outputId": "a3ca2ce5-ddab-47cb-8fef-fa0c6ca6f231"
      },
      "execution_count": 4,
      "outputs": [
        {
          "output_type": "display_data",
          "data": {
            "text/plain": [
              "Loading checkpoint shards:   0%|          | 0/2 [00:00<?, ?it/s]"
            ],
            "application/vnd.jupyter.widget-view+json": {
              "version_major": 2,
              "version_minor": 0,
              "model_id": "791ef10d9c91467893d88ce3c34a6e27"
            }
          },
          "metadata": {
            "application/vnd.jupyter.widget-view+json": {
              "colab": {
                "custom_widget_manager": {
                  "url": "https://ssl.gstatic.com/colaboratory-static/widgets/colab-cdn-widget-manager/2b70e893a8ba7c0f/manager.min.js"
                }
              }
            }
          }
        },
        {
          "output_type": "stream",
          "name": "stdout",
          "text": [
            "What is data abstraction?\n",
            "\n",
            "Data abstraction is a technique used in computer programming to separate the implementation details of a data type from its interface, allowing the implementation to be changed without affecting the code that uses it. This is often achieved through the use of abstract data types (ADTs), which are defined by the operations they support rather than their specific implementation, or through the use of interfaces and classes in object-oriented programming languages.\n",
            "\n",
            "Data abstraction helps to reduce the complexity of software systems by allowing code to be written in a modular and flexible way, and by hiding the underlying details of data types from the user. It is a fundamental concept in software design and is used in many areas of programming, including database design, networking, and user interface design.\n",
            "\n",
            "There are several benefits of using data abstraction, including:\n",
            "\n",
            "1. Code flexibility: Data abstraction allows code to be written in a way that is independent of the specific implementation details of a data type, making it easier to modify or replace the implementation without affecting the code.\n",
            "2. Reduced complexity: By hiding the implementation details of data types, data abstraction helps to reduce the complexity of software systems and make them easier to understand and maintain.\n",
            "3. Improved modularity: Data abstraction promotes modularity in software design by allowing different components of a system to be separated and developed independently.\n",
            "4. Better code organization: Data abstraction helps to organize code in a logical and structured way, making it easier to understand and maintain.\n",
            "5. Improved code reuse: Data abstraction allows code to be reused in different parts of a system, reducing the amount of code that needs to be written and maintained.\n",
            "\n",
            "There are several techniques used in data abstraction, including:\n",
            "\n",
            "1. Abstract data types (ADTs): ADTs are defined by the operations they support, rather than their specific implementation. This allows the implementation to be changed without affecting the code that uses the ADT.\n",
            "2. Interfaces and classes: In object-oriented programming languages, interfaces and classes are used to define the structure and behavior of data types. Interfaces define the operations that a class can support, while classes provide the implementation details of the interface.\n",
            "3. Encapsulation: Encapsulation is the practice of hiding the implementation details of a data type within the class that represents it, and exposing only the necessary interfaces through which it can be used.\n",
            "4. Composition: Composition is the practice of combining smaller data types to form larger data types, allowing the implementation of the larger data type to be separated from the implementation of the smaller data types.\n",
            "\n",
            "In summary, data abstraction is a technique used in computer programming to separate the implementation details of a data type from its interface, allowing the implementation to be changed without affecting the code that uses it. It is a fundamental concept in software design and is used in many areas of programming to reduce complexity, improve modularity, and promote code flexibility and reuse.\n"
          ]
        }
      ]
    },
    {
      "cell_type": "code",
      "source": [
        "# Define your question\n",
        "question = \"Data abstraction\"\n",
        "\n",
        "# Format the question into the prompt\n",
        "eval_prompt = f\"The topic is this- {question}, You are supposed to generate Multiple choice questions on it.\\n\\n\"\n",
        "\n",
        "# Tokenize the prompt without returning token_type_ids\n",
        "promptTokenized = tokenizer(\n",
        "    eval_prompt,\n",
        "    return_tensors=\"pt\",\n",
        "    return_token_type_ids=False  # Disable token_type_ids\n",
        ").to(\"cuda\")\n",
        "\n",
        "# Set the model to evaluation mode\n",
        "model.eval()\n",
        "\n",
        "# Generate the response without token_type_ids\n",
        "with torch.no_grad():\n",
        "    output_tokens = model.generate(\n",
        "        **promptTokenized,\n",
        "        max_new_tokens=1024\n",
        "    )\n",
        "    generated_text = tokenizer.decode(\n",
        "        output_tokens[0],\n",
        "        skip_special_tokens=True\n",
        "    )\n",
        "    print(generated_text)\n",
        "\n",
        "# Clear CUDA cache\n",
        "torch.cuda.empty_cache()\n"
      ],
      "metadata": {
        "colab": {
          "base_uri": "https://localhost:8080/"
        },
        "id": "mUlgYh5gizkf",
        "outputId": "dd7fe90b-f351-4b61-c02a-86bd97e424da"
      },
      "execution_count": 5,
      "outputs": [
        {
          "output_type": "stream",
          "name": "stdout",
          "text": [
            "The topic is this- Data abstraction, You are supposed to generate Multiple choice questions on it.\n",
            "\n",
            "Data abstraction is a technique used in computer programming to separate the implementation details of a data type from its interface, allowing the implementation to be changed without affecting the code that uses it.\n",
            "\n",
            "Here are some multiple choice questions on data abstraction:\n",
            "\n",
            "1. What is data abstraction?\n",
            "a) A technique for hiding the implementation details of data types\n",
            "b) A technique for exposing the implementation details of data types\n",
            "c) A technique for creating complex data types\n",
            "d) A technique for simplifying code\n",
            "\n",
            "Answer: a) A technique for hiding the implementation details of data types\n",
            "\n",
            "2. What is the purpose of data abstraction?\n",
            "a) To make code more complex\n",
            "b) To make code easier to understand\n",
            "c) To hide the implementation details of data types\n",
            "d) To expose the implementation details of data types\n",
            "\n",
            "Answer: c) To hide the implementation details of data types\n",
            "\n",
            "3. How does data abstraction separate the implementation details of a data type from its interface?\n",
            "a) By using global variables\n",
            "b) By using function templates\n",
            "c) By using abstract classes\n",
            "d) By using interfaces\n",
            "\n",
            "Answer: c) By using abstract classes\n",
            "\n",
            "4. What is an abstract class?\n",
            "a) A class that cannot be instantiated\n",
            "b) A class that has no attributes\n",
            "c) A class that has no methods\n",
            "d) A class that is used to define the interface of a data type\n",
            "\n",
            "Answer: d) A class that is used to define the interface of a data type\n",
            "\n",
            "5. What is a concrete class?\n",
            "a) A class that is a subclass of an abstract class\n",
            "b) A class that is not a subclass of an abstract class\n",
            "c) A class that has no attributes\n",
            "d) A class that has no methods\n",
            "\n",
            "Answer: a) A class that is a subclass of an abstract class\n",
            "\n",
            "6. How does data abstraction help in code maintenance?\n",
            "a) It makes the code harder to understand\n",
            "b) It makes the code easier to modify\n",
            "c) It makes the code easier to extend\n",
            "d) It makes the code easier to debug\n",
            "\n",
            "Answer: b) It makes the code easier to modify\n",
            "\n",
            "7. What is encapsulation?\n",
            "a) A technique for hiding the implementation details of data types\n",
            "b) A technique for exposing the implementation details of data types\n",
            "c) A technique for combining data and functions into a single unit\n",
            "d) A technique for simplifying code\n",
            "\n",
            "Answer: a) A technique for hiding the implementation details of data types\n",
            "\n",
            "8. What is a function template?\n",
            "a) A template for functions that can operate on different data types\n",
            "b) A template for classes that can operate on different data types\n",
            "c) A template for data types that can operate on different functions\n",
            "d) A template for data types that can operate on different classes\n",
            "\n",
            "Answer: a) A template for functions that can operate on different data types\n",
            "\n",
            "9. How does data abstraction help in code reuse?\n",
            "a) It makes the code harder to understand\n",
            "b) It makes the code easier to modify\n",
            "c) It makes the code easier to extend\n",
            "d) It makes the code easier to debug\n",
            "\n",
            "Answer: c) It makes the code easier to extend\n",
            "\n",
            "10. What is a class template?\n",
            "a) A template for classes that can operate on different data types\n",
            "b) A template for functions that can operate on different data types\n",
            "c) A template for data types that can operate on different functions\n",
            "d) A template for data types that can operate on different classes\n",
            "\n",
            "Answer: a) A template for classes that can operate on different data types\n"
          ]
        }
      ]
    },
    {
      "cell_type": "code",
      "source": [
        "import torch\n",
        "torch.cuda.empty_cache()\n"
      ],
      "metadata": {
        "id": "-qGTU1zakvvM"
      },
      "execution_count": 6,
      "outputs": []
    },
    {
      "cell_type": "markdown",
      "source": [
        "### ENTER YOUR QUESTION BELOW\n",
        "\n",
        "question = \"What is data abstraction?\"\n",
        "\n",
        "# Format the question\n",
        "eval_prompt = f\"{question}\\n\\n\"\n",
        "\n",
        "promptTokenized = tokenizer(eval_prompt, return_tensors=\"pt\").to(\"cuda\")\n",
        "\n",
        "model.eval()\n",
        "with torch.no_grad():\n",
        "    print(tokenizer.decode(model.generate(**promptTokenized, max_new_tokens = 1024)[0], skip_special_tokens=True))\n",
        "torch.cuda.empty_cache()"
      ],
      "metadata": {
        "id": "drh9QQnIdUWT"
      }
    }
  ]
}