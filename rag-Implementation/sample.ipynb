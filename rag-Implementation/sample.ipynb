{
  "cells": [
    {
      "cell_type": "markdown",
      "metadata": {
        "id": "view-in-github",
        "colab_type": "text"
      },
      "source": [
        "<a href=\"https://colab.research.google.com/github/mausombi/projectseekhan/blob/main/rag-Implementation/sample.ipynb\" target=\"_parent\"><img src=\"https://colab.research.google.com/assets/colab-badge.svg\" alt=\"Open In Colab\"/></a>"
      ]
    },
    {
      "cell_type": "code",
      "execution_count": 2,
      "metadata": {
        "id": "Nb4releINAOA"
      },
      "outputs": [],
      "source": [
        "!pip install -q torch transformers transformers accelerate bitsandbytes langchain sentence-transformers faiss-gpu openpyxl pacmap datasets langchain-community ragatouille"
      ]
    },
    {
      "cell_type": "code",
      "execution_count": 3,
      "metadata": {
        "id": "5ehrwoILNR1f"
      },
      "outputs": [],
      "source": [
        "from tqdm.notebook import tqdm\n",
        "import pandas as pd\n",
        "from typing import Optional, List, Tuple\n",
        "from datasets import Dataset\n",
        "import matplotlib.pyplot as plt\n",
        "\n",
        "\n",
        "pd.set_option(\n",
        "    \"display.max_colwidth\", None\n",
        ")  # This will be helpful when visualizing retriever outputs"
      ]
    },
    {
      "cell_type": "code",
      "execution_count": 4,
      "metadata": {
        "colab": {
          "base_uri": "https://localhost:8080/",
          "height": 88
        },
        "id": "EQ6QdeXMOayz",
        "outputId": "20349bc2-212a-468a-e509-443f02935366"
      },
      "outputs": [
        {
          "output_type": "execute_result",
          "data": {
            "text/plain": [
              "'import os\\nfrom datasets import load_dataset\\n\\n# Clone the repository (if not already cloned)\\nif not os.path.exists(\"projectseekhan\"):\\n    os.system(\"git clone https://github.com/mausombi/projectseekhan.git\")\\n\\n# Path to the dataset folder\\ndir_path = \"projectseekhan/dataset\"\\n\\n# Load dataset\\nds = load_dataset(\\n    \"text\",\\n    data_files={\"train\": [os.path.join(dir_path, \"Exception Handling.txt\")]},\\n    split=\\'train\\'\\n)\\n\\nprint(ds)'"
            ],
            "application/vnd.google.colaboratory.intrinsic+json": {
              "type": "string"
            }
          },
          "metadata": {},
          "execution_count": 4
        }
      ],
      "source": [
        "'''import os\n",
        "from datasets import load_dataset\n",
        "\n",
        "# Clone the repository (if not already cloned)\n",
        "if not os.path.exists(\"projectseekhan\"):\n",
        "    os.system(\"git clone https://github.com/mausombi/projectseekhan.git\")\n",
        "\n",
        "# Path to the dataset folder\n",
        "dir_path = \"projectseekhan/dataset\"\n",
        "\n",
        "# Load dataset\n",
        "ds = load_dataset(\n",
        "    \"text\",\n",
        "    data_files={\"train\": [os.path.join(dir_path, \"Exception Handling.txt\")]},\n",
        "    split='train'\n",
        ")\n",
        "\n",
        "print(ds)'''"
      ]
    },
    {
      "cell_type": "code",
      "execution_count": 5,
      "metadata": {
        "colab": {
          "base_uri": "https://localhost:8080/"
        },
        "id": "dCD5Xo1nr-Dn",
        "outputId": "2b3d7af8-4c76-4287-b0f9-e23bdf83e533"
      },
      "outputs": [
        {
          "output_type": "stream",
          "name": "stdout",
          "text": [
            "Drive already mounted at /content/drive; to attempt to forcibly remount, call drive.mount(\"/content/drive\", force_remount=True).\n"
          ]
        }
      ],
      "source": [
        "from google.colab import drive\n",
        "drive.mount('/content/drive')"
      ]
    },
    {
      "cell_type": "code",
      "execution_count": 6,
      "metadata": {
        "colab": {
          "base_uri": "https://localhost:8080/"
        },
        "id": "-VAI7fZ-yi_y",
        "outputId": "48aa98d9-6088-462e-b9e6-2ec2059789ea"
      },
      "outputs": [
        {
          "output_type": "stream",
          "name": "stdout",
          "text": [
            "Requirement already satisfied: pypdf2 in /usr/local/lib/python3.10/dist-packages (3.0.1)\n"
          ]
        }
      ],
      "source": [
        "pip install pypdf2\n"
      ]
    },
    {
      "cell_type": "code",
      "execution_count": 7,
      "metadata": {
        "colab": {
          "base_uri": "https://localhost:8080/"
        },
        "id": "f0XcolI4RgJI",
        "outputId": "aaf59ee1-a64a-40b4-fef8-38e8ce0f6b0d"
      },
      "outputs": [
        {
          "output_type": "stream",
          "name": "stderr",
          "text": [
            "Extracting text from PDF pages: 100%|██████████| 35/35 [00:03<00:00, 10.06it/s]\n",
            "Converting to LangchainDocument objects: 100%|██████████| 35/35 [00:00<00:00, 109963.03it/s]\n"
          ]
        }
      ],
      "source": [
        "'''from langchain.docstore.document import Document as LangchainDocument\n",
        "\n",
        "RAW_KNOWLEDGE_BASE = [\n",
        "    LangchainDocument(page_content=doc[\"text\"])\n",
        "    for doc in tqdm(ds)\n",
        "\n",
        "]'''\n",
        "from PyPDF2 import PdfReader\n",
        "from langchain.docstore.document import Document as LangchainDocument\n",
        "from tqdm import tqdm\n",
        "\n",
        "# Step 1: Load your PDF file\n",
        "pdf_file = \"/content/drive/MyDrive/recursion.pdf\"  # Update with your file's path\n",
        "reader = PdfReader(pdf_file)\n",
        "\n",
        "# Step 2: Extract text from the PDF and prepare `ds`\n",
        "ds = []  # Each page's content will be stored as a dictionary in this list\n",
        "for page in tqdm(reader.pages, desc=\"Extracting text from PDF pages\"):\n",
        "    text = page.extract_text()  # Extract text from the current page\n",
        "    if text:  # Only include non-empty pages\n",
        "        ds.append({\"text\": text})  # Store each page's text as a dictionary\n",
        "\n",
        "# Step 3: Convert the extracted text into LangchainDocument objects\n",
        "RAW_KNOWLEDGE_BASE = [\n",
        "    LangchainDocument(page_content=doc[\"text\"])  # Use the \"text\" key from each dictionary in `ds`\n",
        "    for doc in tqdm(ds, desc=\"Converting to LangchainDocument objects\")\n",
        "]\n",
        "\n",
        "\n"
      ]
    },
    {
      "cell_type": "code",
      "execution_count": 8,
      "metadata": {
        "colab": {
          "base_uri": "https://localhost:8080/"
        },
        "id": "QMI2YteuUxIm",
        "outputId": "3fe98b62-ab9e-4c8c-c90c-a9febbea47ae"
      },
      "outputs": [
        {
          "output_type": "stream",
          "name": "stdout",
          "text": [
            "[Document(metadata={}, page_content='Chapter\\n5Recursion\\nContents\\n5 . 1 I l l u s t r a t i v e E x a m p l e s ...................... 1 9 1\\n5.1.1 The Factorial Function . . . . . . . . . . . . . . . . . . . 191\\n5 . 1 . 2 D r a w i n ga nE n g l i s hR u l e r..................1 9 3\\n5 . 1 . 3 B i n a r yS e a r c h........................1 9 65 . 1 . 4 F i l eS y s t e m s.........................1 9 8\\n5 . 2 A n a l y z i n g R e c u r s i v e A l g o r i t h m s ............... 2 0 25 . 3 F u r t h e r E x a m p l e s o f R e c u r s i o n................ 2 0 6\\n5.3.1 Linear Recursion . . . . . . . . . . . . . . . . . . . . . . . 206\\n5.3.2 Binary Recursion . . . . . . . . . . . . . . . . . . . . . . 211\\n5.3.3 Multiple Recursion . . . . . . . . . . . . . . . . . . . . . 212\\n5 . 4 D e s i g n i n g R e c u r s i v e A l g o r i t h m s ............... 2 1 45 . 5 R e c u r s i o n R u n A m o k ..................... 2 1 5\\n5.5.1 Maximum Recursive Depth in Java . . . . . . . . . . . . . 218\\n5.6 Eliminating Tail Recursion . . . ............... 2 1 9\\n5 . 7 E x e r c i s e s ............................ 2 2 1\\nwww.it-ebooks.info'), Document(metadata={}, page_content='190 Chapter 5. Recursion\\nOne way to describe repetition within a computer program is the use of loops,\\nsuch as Java’s while -loop and for-loop constructs described in Section 1.5.2. An\\nentirely different way to achieve repetition is through a process known as recursion .\\nRecursion is a technique by which a method makes one or more calls to itself\\nduring execution, or by which a data structure relies upon smaller instances of\\nthe very same type of structure in its representation. There are many examples ofrecursion in art and nature. For example, fractal patterns are naturally recursive. Aphysical example of recursion used in art is in the Russian Matryoshka dolls. Each\\ndoll is either made of solid wood, or is hollow and contains another Matryoshka\\ndoll inside it.\\nIn computing, recursion provides an elegant and powerful alternative for per-\\nforming repetitive tasks. In fact, a few programming languages (e.g., Scheme,Smalltalk) do not explicitly support looping constructs and instead rely directlyon recursion to express repetition. Most modern programming languages supportfunctional recursion using the identical mechanism that is used to support tradi-\\ntional forms of method calls. When one invocation of the method makes a recursive\\ncall, that invocation is suspended until the recursive call completes.\\nRecursion is an important technique in the study of data structures and algo-\\nrithms. We will use it prominently in several later chapters of this book (mostnotably, Chapters 8 and 12). In this chapter, we begin with the following four illus-trative examples of the use of recursion, providing a Java implementation for each.\\n•The factorial function (commonly denoted as n!) is a classic mathematical\\nfunction that has a natural recursive deﬁnition.\\n•An English ruler has a recursive pattern that is a simple example of a fractal\\nstructure.\\n•Binary search is among the most important computer algorithms. It allows\\nus to efﬁciently locate a desired value in a data set with upwards of billionsof entries.\\n•The ﬁle system for a computer has a recursive structure in which directories\\ncan be nested arbitrarily deeply within other directories. Recursive algo-\\nrithms are widely used to explore and manage these ﬁle systems.\\nWe then describe how to perform a formal analysis of the running time of a\\nrecursive algorithm, and we discuss some potential pitfalls when deﬁning recur-sions. In the balance of the chapter, we provide many more examples of recursive\\nalgorithms, organized to highlight some common forms of design.\\nwww.it-ebooks.info'), Document(metadata={}, page_content='5.1. Illustrative Examples 191\\n5.1 Illustrative Examples\\n5.1.1 The Factorial Function\\nTo demonstrate the mechanics of recursion, we begin with a simple mathematical\\nexample of computing the value of the factorial function . The factorial of a posi-\\ntive integer n, denoted n!, is deﬁned as the product of the integers from 1 to n.I f\\nn=0, then n! is deﬁned as 1 by convention. More formally, for any integer n≥0,\\nn!=/braceleftbigg1i f n=0\\nn·(n−1)·(n−2)···3·2·1i f n≥1.\\nFor example, 5! =5·4·3·2·1=120. The factorial function is important because\\nit is known to equal the number of ways in which ndistinct items can be arranged\\ninto a sequence, that is, the number of permutations ofnitems. For example, the\\nthree characters a,b,a n d ccan be arranged in 3! =3·2·1=6 ways: abc ,acb ,\\nbac ,bca ,cab ,a n d cba .\\nThere is a natural recursive deﬁnition for the factorial function. To see this,\\nobserve that 5! =5·(4·3·2·1)= 5·4!. More generally, for a positive integer n,\\nwe can deﬁne n!t ob e n·(n−1)!. This recursive deﬁnition can be formalized as\\nn!=/braceleftbigg1i f n=0\\nn·(n−1)!i f n≥1.\\nThis deﬁnition is typical of many recursive deﬁnitions of functions. First, we\\nhave one or more base cases , which refer to ﬁxed values of the function. The above\\ndeﬁnition has one base case stating that n!=1f o r n=0. Second, we have one\\nor more recursive cases , which deﬁne the function in terms of itself. In the above\\ndeﬁnition, there is one recursive case, which indicates that n!=n·(n−1)!f o r n≥1.\\nA Recursive Implementation of the Factorial Function\\nRecursion is not just a mathematical notation; we can use recursion to design a Java\\nimplementation of the factorial function, as shown in Code Fragment 5.1.\\n1public static int factorial( intn)throwsIllegalArgumentException {\\n2 if(n<0)\\n3 throw new IllegalArgumentException(); // argument must be nonnegative\\n4 else if(n == 0)\\n5 return1; // base case\\n6 else\\n7 returnn∗factorial(n −1); // recursive case\\n8}\\nCode Fragment 5.1: A recursive implementation of the factorial function.\\nwww.it-ebooks.info'), Document(metadata={}, page_content='192 Chapter 5. Recursion\\nThis method does not use any explicit loops. Repetition is achieved through\\nrepeated recursive invocations of the method. The process is ﬁnite because each\\ntime the method is invoked, its argument is smaller by one, and when a base case\\nis reached, no further recursive calls are made.\\nWe illustrate the execution of a recursive method using a recursion trace . Each\\nentry of the trace corresponds to a recursive call. Each new recursive method call\\nis indicated by a downward arrow to a new invocation. When the method returns,an arrow showing this return is drawn and the return value may be indicated along-side this arrow. An example of such a trace for the factorial function is shown in\\nFigure 5.1.\\nreturn4∗6=2 4\\nfactorial(1)\\nfactorial(0)factorial(3)\\nfactorial(2)factorial(5)\\nfactorial(4)\\nreturn1return1∗1=1return2∗1=2return3∗2=6return5∗24 = 120\\nFigure 5.1: A recursion trace for the call factorial(5) .\\nA recursion trace closely mirrors a programming language’s execution of the\\nrecursion. In Java, each time a method (recursive or otherwise) is called, a structureknown as an activation record oractivation frame is created to store information\\nabout the progress of that invocation of the method. This frame stores the parame-\\nters and local variables speciﬁc to a given call of the method, and information about\\nwhich command in the body of the method is currently executing.\\nWhen the execution of a method leads to a nested method call, the execution\\nof the former call is suspended and its frame stores the place in the source code at\\nwhich the ﬂow of control should continue upon return of the nested call. A newframe is then created for the nested method call. This process is used both in thestandard case of one method calling a different method, or in the recursive casewhere a method invokes itself. The key point is to have a separate frame for each\\nactive call.\\nwww.it-ebooks.info'), Document(metadata={}, page_content='5.1. Illustrative Examples 193\\n5.1.2 Drawing an English Ruler\\nIn the case of computing the factorial function, there is no compelling reason for\\npreferring recursion over a direct iteration with a loop. As a more complex example\\nof the use of recursion, consider how to draw the markings of a typical English\\nruler. For each inch, we place a tick with a numeric label. We denote the lengthof the tick designating a whole inch as the major tick length . Between the marks\\nfor whole inches, the ruler contains a series of minor ticks , placed at intervals of\\n1/2 inch, 1 /4 inch, and so on. As the size of the interval decreases by half, the tick\\nlength decreases by one. Figure 5.2 demonstrates several such rulers with varying\\nmajor tick lengths (although not drawn to scale).\\n---- 0 ----- 0 --- 0----- -- -----\\n--- --- --- 1\\n---\\n-- -- --\\n---\\n---- 1 ---- --- 2\\n---\\n-- -- -----\\n--- --- --- 3\\n--\\n-- --\\n--\\n---- 2 ----- 1\\n(a) (b) (c)\\nFigure 5.2: Three sample outputs of an English ruler drawing: (a) a 2-inch ruler\\nwith major tick length 4; (b) a 1-inch ruler with major tick length 5; (c) a 3-inchruler with major tick length 3.\\nA Recursive Approach to Ruler Drawing\\nThe English ruler pattern is a simple example of a fractal , that is, a shape that has\\na self-recursive structure at various levels of magniﬁcation. Consider the rule withmajor tick length 5 shown in Figure 5.2(b). Ignoring the lines containing 0 and 1,let us consider how to draw the sequence of ticks lying between these lines. Thecentral tick (at 1/2 inch) has length 4. Observe that the two patterns of ticks above\\nand below this central tick are identical, and each has a central tick of length 3.\\nwww.it-ebooks.info'), Document(metadata={}, page_content='194 Chapter 5. Recursion\\nIn general, an interval with a central tick length L≥1 is composed of:\\n•An interval with a central tick length L−1\\n•A single tick of length L\\n•An interval with a central tick length L−1\\nAlthough it is possible to draw such a ruler using an iterative process (see Ex-\\nercise P-5.29), the task is considerably easier to accomplish with recursion. Our\\nimplementation consists of three methods, as shown in Code Fragment 5.2.\\nThe main method, drawRuler , manages the construction of the entire ruler. Its\\narguments specify the total number of inches in the ruler and the major tick length.The utility method, drawLine , draws a single tick with a speciﬁed number of dashes\\n(and an optional integer label that is printed to the right of the tick).\\nThe interesting work is done by the recursive drawInterval method. This method\\ndraws the sequence of minor ticks within some interval, based upon the length ofthe interval’s central tick. We rely on the intuition shown at the top of this page,and with a base case when L=0 that draws nothing. For L≥1, the ﬁrst and last\\nsteps are performed by recursively calling drawInterval( L−1). The middle step is\\nperformed by calling method drawLine( L).\\n1/∗∗Draws an English ruler for the given number of inches and major tick length. ∗/\\n2public static void drawRuler( intnInches, intmajorLength) {\\n3drawLine(majorLength, 0); // draw inch 0 line and label\\n4 for(intj=1 ;j <= nInches; j++) {\\n5drawInterval(majorLength −1); // draw interior ticks for inch\\n6drawLine(majorLength, j); // draw inch j line and label\\n7}\\n8}\\n9private static void drawInterval( intcentralLength) {\\n10 if(centralLength >=1 ){ // otherwise, do nothing\\n11drawInterval(centralLength −1); // recursively draw top interval\\n12drawLine(centralLength); // draw center tick line (without label)\\n13drawInterval(centralLength −1); // recursively draw bottom interval\\n14}\\n15}\\n16 private static void drawLine( inttickLength, inttickLabel) {\\n17 for(intj=0 ;j <tickLength; j++)\\n18System.out.print( \"-\");\\n19 if(tickLabel >=0 )\\n20System.out.print( \"\"+ tickLabel);\\n21System.out.print( \"\\\\n\");\\n22}\\n23/∗∗Draws a line with the given tick length (but no label). ∗/\\n24 private static void drawLine( inttickLength) {\\n25drawLine(tickLength, −1);\\n26}\\nCode Fragment 5.2: A recursive implementation of a method that draws a ruler.\\nwww.it-ebooks.info'), Document(metadata={}, page_content='5.1. Illustrative Examples 195\\nIllustrating Ruler Drawing Using a Recursion Trace\\nThe execution of the recursive drawInterval method can be visualized using a re-\\ncursion trace. The trace for drawInterval is more complicated than in the factorial\\nexample, however, because each instance makes two recursive calls. To illustratethis, we will show the recursion trace in a form that is reminiscent of an outline for\\na document. See Figure 5.3.\\n(previous pattern repeats)drawInterval(3)\\ndrawInterval(2)\\ndrawInterval(1)\\ndrawInterval(1)drawInterval(0)\\ndrawLine(1)\\ndrawInterval(0)\\ndrawInterval(0)\\ndrawLine(1)\\ndrawInterval(0)\\ndrawLine(3)\\ndrawInterval(2)drawLine(2)Output\\nFigure 5.3: A partial recursion trace for the call drawInterval(3) . The second pattern\\nof calls for drawInterval(2) is not shown, but it is identical to the ﬁrst.\\nwww.it-ebooks.info'), Document(metadata={}, page_content='196 Chapter 5. Recursion\\n5.1.3 Binary Search\\nIn this section, we describe a classic recursive algorithm, binary search , used to\\nefﬁciently locate a target value within a sorted sequence of nelements stored in\\nan array. This is among the most important of computer algorithms, and it is the\\nreason that we so often store data in sorted order (as in Figure 5.4).\\n375 01234 6789 1 0 1 1 1 2 1 3 1 4 1 5\\n9 24578 1 2 1 4 1 7 1 9 2 2 2 5 2 7 2 8 3 3\\nFigure 5.4: Values stored in sorted order within an array. The numbers at top are\\nthe indices.\\nWhen the sequence is unsorted , the standard approach to search for a target\\nvalue is to use a loop to examine every element, until either ﬁnding the target orexhausting the data set. This algorithm is known as linear search ,o r sequential\\nsearch , and it runs in O(n)time (i.e., linear time) since every element is inspected\\nin the worst case.\\nWhen the sequence is sorted and indexable , there is a more efﬁcient algorithm.\\n(For intuition, think about how you would accomplish this task by hand!) If weconsider an arbitrary element of the sequence with value v, we can be sure that all\\nelements prior to that in the sequence have values less than or equal to v, and that all\\nelements after that element in the sequence have values greater than or equal to v.\\nThis observation allows us to quickly “home in” on a search target using a variantof the children’s game “high-low.” We call an element of the sequence a candidate\\nif, at the current stage of the search, we cannot rule out that this item matches the\\ntarget. The algorithm maintains two parameters, low andhigh , such that all the\\ncandidate elements have index at least low and at most high . Initially, low=0a n d\\nhigh =n−1. We then compare the target value to the median candidate ,t h a ti s ,\\nthe element with index\\nmid=⌊(low+high)/2⌋.\\nWe consider three cases:\\n•If the target equals the median candidate, then we have found the item we are\\nlooking for, and the search terminates successfully.\\n•If the target is less than the median candidate, then we recur on the ﬁrst half\\nof the sequence, that is, on the interval of indices from low tomid−1.\\n•If the target is greater than the median candidate, then we recur on the second\\nhalf of the sequence, that is, on the interval of indices from mid+1t ohigh .\\nAn unsuccessful search occurs if low>high , as the interval [low,high]is empty.\\nwww.it-ebooks.info'), Document(metadata={}, page_content='5.1. Illustrative Examples 197\\nThis algorithm is known as binary search . W eg i v eaJ a v ai m p l e m e n t a t i o ni n\\nCode Fragment 5.3, and an illustration of the execution of the algorithm in Fig-\\nure 5.5. Whereas sequential search runs in O(n)time, the more efﬁcient binary\\nsearch runs in O(logn)time. This is a signiﬁcant improvement, given that if nis\\n1 billion, log nis only 30. (We defer our formal analysis of binary search’s running\\ntime to Proposition 5.2 in Section 5.2.)\\n1/∗∗\\n2∗Returns true if the target value is found in the indicated portion of the data array.\\n3∗This search only considers the array portion from data[low] to data[high] inclusive.\\n4∗/\\n5public static boolean binarySearch( int[ ] data, inttarget, intlow, inthigh){\\n6 if(low >high)\\n7 return false ; // interval empty; no match\\n8 else{\\n9 intmid = (low + high) / 2;\\n10 if(target == data[mid])\\n11 return true ; // found a match\\n12 else if(target <data[mid])\\n13 returnbinarySearch(data, target, low, mid −1);// recur left of the middle\\n14 else\\n15 returnbinarySearch(data, target, mid + 1, high); // recur right of the middle\\n16}\\n17}\\nCode Fragment 5.3: An implementation of the binary search algorithm on a sorted\\narray.\\nmidhigh\\nhigh low\\nlow midlow mid\\nlow=mid=highhigh14 19 22 25 27 28 33 376789 1 0 1 1 1 2 1 3 1 4 1 5\\n7 5 4 29 8\\n9 24578 1 2 1 4 1 737 33 28 27 25 22 19\\n9 24578 1 2 1 4 1 7 1 9 2 2 2 5 2 7 2 8 3 3 3 7\\n19 22 25 27 28 33 375 01234\\n17 14 12\\n9 24578 1 2 1 7\\nFigure 5.5: Example of a binary search for target value 22 on a sorted array with 16\\nelements.\\nwww.it-ebooks.info'), Document(metadata={}, page_content='198 Chapter 5. Recursion\\n5.1.4 File Systems\\nModern operating systems deﬁne ﬁle-system directories (also called “folders”) in\\na recursive way. Namely, a ﬁle system consists of a top-level directory, and thecontents of this directory consists of ﬁles and other directories, which in turn can\\ncontain ﬁles and other directories, and so on. The operating system allows directo-\\nries to be nested arbitrarily deeply (as long as there is enough memory), althoughby necessity there must be some base directories that contain only ﬁles, not fur-ther subdirectories. A representation of a portion of such a ﬁle system is given inFigure 5.6.\\n/user/rt/courses/\\ncs016/ cs252/\\nprograms/ homeworks/ projects/\\npapers/ demos/hw1 hw2 hw3 pr1 pr2 pr3grades\\nmarket buylow sellhighgrades\\nFigure 5.6: A portion of a ﬁle system demonstrating a nested organization.\\nGiven the recursive nature of the ﬁle-system representation, it should not come\\nas a surprise that many common behaviors of an operating system, such as copyinga directory or deleting a directory, are implemented with recursive algorithms. Inthis section, we consider one such algorithm: computing the total disk usage for all\\nﬁles and directories nested within a particular directory.\\nFor illustration, Figure 5.7 portrays the disk space being used by all entries in\\nour sample ﬁle system. We differentiate between the immediate disk space used by\\neach entry and the cumulative disk space used by that entry and all nested features.\\nFor example, the cs016 directory uses only 2K of immediate space, but a total of\\n249K of cumulative space.\\nwww.it-ebooks.info'), Document(metadata={}, page_content='5.1. Illustrative Examples 199\\n/user/rt/courses/\\ncs016/ cs252/\\nprograms/ homeworks/ projects/\\npapers/ demos/ hw1\\n3Khw2\\n2Khw3\\n4Kpr1\\n57Kpr2\\n97Kpr3\\n74Kgrades\\n8K\\nmarket\\n4786Kbuylow\\n26Ksellhigh\\n55Kgrades\\n3K2K 1K1K\\n1K 1K 1K\\n1K 1K10K 229K 4870K\\n82K 4787K5124K\\n249K 4874K\\nFigure 5.7: The same portion of a ﬁle system given in Figure 5.6, but with additional\\nannotations to describe the amount of disk space that is used. Within the icon foreach ﬁle or directory is the amount of space directly used by that artifact. Above\\nthe icon for each directory is an indication of the cumulative disk space used by\\nthat directory and all its (recursive) contents.\\nThe cumulative disk space for an entry can be computed with a simple recursive\\nalgorithm. It is equal to the immediate disk space used by the entry plus the sum\\nof the cumulative disk space usage of any entries that are stored directly within\\nthe entry. For example, the cumulative disk space for cs016 is 249K because it\\nuses 2K itself, 8K cumulatively in grades , 10K cumulatively in homeworks ,a n d\\n229K cumulatively in programs . Pseudocode for this algorithm is given in Code\\nFragment 5.4.\\nAlgorithm DiskUsage( path):\\nInput: A string designating a path to a ﬁle-system entry\\nOutput: The cumulative disk space used by that entry and any nested entries\\ntotal =size(path ) {immediate disk space used by the entry }\\nifpath represents a directory then\\nforeach child entry stored within directory path do\\ntotal =total +DiskUsage (child ) {recursive call }\\nreturn total\\nCode Fragment 5.4: An algorithm for computing the cumulative disk space usage\\nnested at a ﬁle-system entry. We presume that method size returns the immediate\\ndisk space of an entry.\\nwww.it-ebooks.info'), Document(metadata={}, page_content='200 Chapter 5. Recursion\\nThe java.io.File Class\\nTo implement a recursive algorithm for computing disk usage in Java, we rely on\\nthejava.io.File class. An instance of this class represents an abstract pathname in\\nthe operating system and allows for properties of that operating system entry to bequeried. We will rely on the following methods of the class:\\n•new File(pathString) ornew File(parentFile, childString)\\nAn e wFile instance can be constructed either by providing the full path as\\na string, or by providing an existing File instance that represents a directory\\nand a string that designates the name of a child entry within that directory.\\n•ﬁle.length()\\nReturns the immediate disk usage (measured in bytes) for the operating sys-tem entry represented by the File instance (e.g., /user/rt/courses ).\\n•ﬁle.isDirectory()\\nReturnstrue if theFile instance represents a directory; false otherwise.\\n•ﬁle.list()\\nReturns an array of strings designating the names of all entries within the\\ngiven directory. In our sample ﬁle system, if we call this method on the\\nFile associated with path /user/rt/courses/cs016 , it returns an array with\\ncontents: {\"grades\" ,\"homeworks\" ,\"programs\" }.\\nJava Implementation\\nWith use of the File class, we now convert the algorithm from Code Fragment 5.4\\ninto the Java implementation of Code Fragment 5.5.\\n1/∗∗\\n2∗Calculates the total disk usage (in bytes) of the portion of the ﬁle system rooted\\n3∗at the given path, while printing a summary akin to the standard \\'du\\'Unix tool.\\n4∗/\\n5public static long diskUsage(File root) {\\n6 longtotal = root.length(); // start with direct disk usage\\n7 if(root.isDirectory()) { // and if this is a directory,\\n8 for(String childname : root.list()) { // then for each child\\n9 File child = newFile(root, childname); // compose full path to child\\n10 total += diskUsage(child); // add child’s usage to total\\n11}\\n12}\\n13System.out.println(total + \"\\\\t\"+r o o t ) ; // descriptive output\\n14 returntotal; // return the grand total\\n15}\\nCode Fragment 5.5: A recursive method for reporting disk usage of a ﬁle system.\\nwww.it-ebooks.info'), Document(metadata={}, page_content='5.1. Illustrative Examples 201\\nRecursion Trace\\nTo produce a different form of a recursion trace, we have included an extraneous\\nprint statement within our Java implementation (line 13 of Code Fragment 5.5).\\nThe precise format of that output intentionally mirrors the output that is produced\\nby a classic Unix/Linux utility named du(for “disk usage”). It reports the amount\\nof disk space used by a directory and all contents nested within, and can produce averbose report, as given in Figure 5.8.\\nWhen executed on the sample ﬁle system portrayed in Figure 5.7, our imple-\\nmentation of the diskUsage method produces the result given in Figure 5.8. During\\nthe execution of the algorithm, exactly one recursive call is made for each entry inthe portion of the ﬁle system that is considered. Because each line is printed justbefore returning from a recursive call, the lines of output reﬂect the order in which\\nthe recursive calls are completed . Notice that it computes and reports the cumula-\\ntive disk space for a nested entry before computing and reporting the cumulativedisk space for the directory that contains it. For example, the recursive calls regard-ing entries grades ,homeworks ,a n dprograms are computed before the cumulative\\ntotal for the directory /user/rt/courses/cs016 that contains them.\\n8 /user/rt/courses/cs016/grades\\n3 /user/rt/courses/cs016/homeworks/hw12 /user/rt/courses/cs016/homeworks/hw24 /user/rt/courses/cs016/homeworks/hw3\\n10 /user/rt/courses/cs016/homeworks\\n57 /user/rt/courses/cs016/programs/pr197 /user/rt/courses/cs016/programs/pr274 /user/rt/courses/cs016/programs/pr3229 /user/rt/courses/cs016/programs\\n249 /user/rt/courses/cs016\\n26 /user/rt/courses/cs 252/projects/papers/buylow\\n55 /user/rt/courses/cs252/projects/papers/sellhigh82 /user/rt/courses/cs252/projects/papers4786 /user/rt/courses/cs252/projects/demos/market\\n4787 /user/rt/courses/cs252/projects/demos\\n4870 /user/rt/courses/cs252/projects3 /user/rt/courses/cs252/grades4874 /user/rt/courses/cs252\\n5124 /user/rt/courses/\\nFigure 5.8: A report of the disk usage for the ﬁle system shown in Figure 5.7, as\\ngenerated by our diskUsage method from Code Fragment 5.5, or equivalently by\\nthe Unix/Linux command duwith option -a(which lists both directories and ﬁles).\\nwww.it-ebooks.info'), Document(metadata={}, page_content='202 Chapter 5. Recursion\\n5.2 Analyzing Recursive Algorithms\\nIn Chapter 4, we introduced mathematical techniques for analyzing the efﬁciency\\nof an algorithm, based upon an estimate of the number of primitive operations that\\nare executed by the algorithm. We use notations such as big-Oh to summarize therelationship between the number of operations and the input size for a problem. Inthis section, we demonstrate how to perform this type of running-time analysis torecursive algorithms.\\nWith a recursive algorithm, we will account for each operation that is performed\\nbased upon the particular activation of the method that manages the ﬂow of control\\nat the time it is executed. Stated another way, for each invocation of the method,we only account for the number of operations that are performed within the body ofthat activation. We can then account for the overall number of operations that are\\nexecuted as part of the recursive algorithm by taking the sum, over all activations,\\nof the number of operations that take place during each individual activation. (Asan aside, this is also the way we analyze a nonrecursive method that calls othermethods from within its body.)\\nTo demonstrate this style of analysis, we revisit the four recursive algorithms\\npresented in Sections 5.1.1 through 5.1.4: factorial computation, drawing an En-\\nglish ruler, binary search, and computation of the cumulative size of a ﬁle system.In general, we may rely on the intuition afforded by a recursion trace in recogniz-\\ning how many recursive activations occur, and how the parameterization of each\\nactivation can be used to estimate the number of primitive operations that occur\\nwithin the body of that activation. However, each of these recursive algorithms hasa unique structure and form.\\nComputing Factorials\\nIt is relatively easy to analyze the efﬁciency of our method for computing factorials,as described in Section 5.1.1. A sample recursion trace for our factorial method was\\ngiven in Figure 5.1. To compute factorial(n) , we see that there are a total of n+1\\nactivations, as the parameter decreases from nin the ﬁrst call, to n−1 in the second\\ncall, and so on, until reaching the base case with parameter 0.\\nIt is also clear, given an examination of the method body in Code Fragment 5.1,\\nthat each individual activation of factorial executes a constant number of opera-\\ntions. Therefore, we conclude that the overall number of operations for computing\\nfactorial(n) isO(n),a st h e r ea r e n+1 activations, each of which accounts for O(1)\\noperations.\\nwww.it-ebooks.info'), Document(metadata={}, page_content='5.2. Analyzing Recursive Algorithms 203\\nDrawing an English Ruler\\nIn analyzing the English ruler application from Section 5.1.2, we consider the fun-\\ndamental question of how many total lines of output are generated by an initial call\\ntodrawInterval( c),w h e r e cdenotes the center length. This is a reasonable bench-\\nmark for the overall efﬁciency of the algorithm as each line of output is based upona call to the drawLine utility, and each recursive call to drawInterval with nonzero\\nparameter makes exactly one direct call to drawLine .\\nSome intuition may be gained by examining the source code and the recur-\\nsion trace. We know that a call to drawInterval( c)for c>0 spawns two calls to\\ndrawInterval( c−1)and a single call to drawLine . We will rely on this intuition to\\nprove the following claim.\\nProposition 5.1: For c≥0, a call to drawInterval( c)results in precisely 2c−1\\nlines of output.\\nJustiﬁcation: We provide a formal proof of this claim by induction (see Sec-\\ntion 4.4.3). In fact, induction is a natural mathematical technique for proving the\\ncorrectness and efﬁciency of a recursive process. In the case of the ruler, we note\\nthat an application of drawInterval( 0)generates no output, and that 20−1=1−1=\\n0. This serves as a base case for our claim.\\nMore generally, the number of lines printed by drawInterval( c)is one more\\nthan twice the number generated by a call to drawInterval( c−1), as one center line\\nis printed between two such recursive calls. By induction, we have that the numberof lines is thus 1 +2·(2\\nc−1−1)= 1+2c−2=2c−1.\\nThis proof is indicative of a more mathematically rigorous tool, known as a\\nrecurrence equation , that can be used to analyze the running time of a recursive\\nalgorithm. That technique is discussed in Section 12.1.4, in the context of recursivesorting algorithms.\\nPerforming a Binary Search\\nWhen considering the running time of the binary search algorithm, as presentedin Section 5.1.3, we observe that a constant number of primitive operations areexecuted during each recursive call of the binary search method. Hence, the runningtime is proportional to the number of recursive calls performed. We will show thatat most⌊logn⌋+1 recursive calls are made during a binary search of a sequence\\nhaving nelements, leading to the following claim.\\nProposition 5.2: The binary search algorithm runs in O(logn)time for a sorted\\narray with nelements.\\nwww.it-ebooks.info'), Document(metadata={}, page_content='204 Chapter 5. Recursion\\nJustiﬁcation: To prove this claim, a crucial fact is that with each recursive call\\nthe number of candidate elements still to be searched is given by the value\\nhigh−low+1.\\nMoreover, the number of remaining candidates is reduced by at least one-half with\\neach recursive call. Speciﬁcally, from the deﬁnition of mid, the number of remain-\\ning candidates is either\\n(mid−1)−low+1=/floorleftbigglow+high\\n2/floorrightbigg\\n−low≤high−low+1\\n2\\nor\\nhigh−(mid+1)+1=high−/floorleftbigglow+high\\n2/floorrightbigg\\n≤high−low+1\\n2.\\nInitially, the number of candidates is n; after the ﬁrst call in a binary search, it is\\nat most n/2; after the second call, it is at most n/4; and so on. In general, after\\nthe jthcall in a binary search, the number of candidate elements remaining is at\\nmost n/2j. In the worst case (an unsuccessful search), the recursive calls stop when\\nthere are no more candidate elements. Hence, the maximum number of recursive\\ncalls performed, is the smallest integer rsuch thatn\\n2r<1.\\nIn other words (recalling that we omit a logarithm’s base when it is 2), ris the\\nsmallest integer such that r>logn. Thus, we have\\nr=⌊logn⌋+1,\\nwhich implies that binary search runs in O(logn)time.\\nComputing Disk Space Usage\\nOur ﬁnal recursive algorithm from Section 5.1 was that for computing the overall\\ndisk space usage in a speciﬁed portion of a ﬁle system. To characterize the “prob-lem size” for our analysis, we let ndenote the number of ﬁle-system entries in the\\nportion of the ﬁle system that is considered. (For example, the ﬁle system portrayed\\nin Figure 5.6 has n=19 entries.)\\nTo characterize the cumulative time spent for an initial call to diskUsage ,w e\\nmust analyze the total number of recursive invocations that are made, as well as thenumber of operations that are executed within those invocations.\\nWe begin by showing that there are precisely nrecursive invocations of the\\nmethod, in particular, one for each entry in the relevant portion of the ﬁle system.Intuitively, this is because a call to diskUsage for a particular entry eof the ﬁle\\nsystem is only made from within the for loop of Code Fragment 5.5 when process-ing the entry for the unique directory that contains e, and that entry will only be\\nexplored once.\\nwww.it-ebooks.info'), Document(metadata={}, page_content='5.2. Analyzing Recursive Algorithms 205\\nTo formalize this argument, we can deﬁne the nesting level of each entry such\\nthat the entry on which we begin has nesting level 0, entries stored directly within\\nit have nesting level 1, entries stored within those entries have nesting level 2, andso on. We can prove by induction that there is exactly one recursive invocation ofdiskUsage upon each entry at nesting level k. As a base case, when k=0, the only\\nrecursive invocation made is the initial one. As the inductive step, once we know\\nthere is exactly one recursive invocation for each entry at nesting level k, we can\\nclaim that there is exactly one invocation for each entry eat nesting level k+1,\\nmade within the for loop for the entry at level kthat contains e.\\nHaving established that there is one recursive call for each entry of the ﬁle\\nsystem, we return to the question of the overall computation time for the algorithm.\\nIt would be great if we could argue that we spend O(1)time in any single invocation\\nof the method, but that is not the case. While there is a constant number of stepsreﬂected in the call to root.length() to compute the disk usage directly at that entry,\\nwhen the entry is a directory, the body of the diskUsage method includes a for loop\\nthat iterates over all entries that are contained within that directory. In the worst\\ncase, it is possible that one entry includes n−1 others.\\nBased on this reasoning, we could conclude that there are O(n)recursive calls,\\neach of which runs in O(n)time, leading to an overall running time that is O(n\\n2).\\nWhile this upper bound is technically true, it is not a tight upper bound. Remark-ably, we can prove the stronger bound that the recursive algorithm for diskUsage\\ncompletes in O(n)time! The weaker bound was pessimistic because it assumed\\na worst-case number of entries for each directory. While it is possible that somedirectories contain a number of entries proportional to n, they cannot all contain\\nthat many. To prove the stronger claim, we choose to consider the overall number\\nof iterations of the for loop across all recursive calls. We claim there are precisely\\nn−1 such iterations of that loop overall. We base this claim on the fact that each\\niteration of that loop makes a recursive call to diskUsage , and yet we have already\\nconcluded that there are a total of ncalls todiskUsage (including the original call).\\nWe therefore conclude that there are O(n)recursive calls, each of which uses O(1)\\ntime outside the loop, and that the overall number of operations due to the loop\\nisO(n). Summing all of these bounds, the overall number of operations is O(n).\\nThe argument we have made is more advanced than with the earlier examples\\nof recursion. The idea that we can sometimes get a tighter bound on a series ofoperations by considering the cumulative effect, rather than assuming that each\\nachieves a worst case is a technique called amortization ; we will see another ex-\\nample of such analysis in Section 7.2.3. Furthermore, a ﬁle system is an implicitexample of a data structure known as a tree, and our disk usage algorithm is really\\na manifestation of a more general algorithm known as a tree traversal . Trees will\\nbe the focus of Chapter 8, and our argument about the O(n)running time of the\\ndisk usage algorithm will be generalized for tree traversals in Section 8.4.\\nwww.it-ebooks.info'), Document(metadata={}, page_content='206 Chapter 5. Recursion\\n5.3 Further Examples of Recursion\\nIn this section, we provide additional examples of the use of recursion. We organize\\nour presentation by considering the maximum number of recursive calls that maybe started from within the body of a single activation.\\n•If a recursive call starts at most one other, we call this a linear recursion .\\n•If a recursive call may start two others, we call this a binary recursion .\\n•If a recursive call may start three or more others, this is multiple recursion .\\n5.3.1 Linear Recursion\\nIf a recursive method is designed so that each invocation of the body makes at\\nmost one new recursive call, this is know as linear recursion . Of the recursions\\nwe have seen so far, the implementation of the factorial method (Section 5.1.1) is aclear example of linear recursion. More interestingly, the binary search algorithm(Section 5.1.3) is also an example of linear recursion , despite the term “binary”\\nin the name. The code for binary search (Code Fragment 5.3) includes a case\\nanalysis, with two branches that lead to a further recursive call, but only one branch\\nis followed during a particular execution of the body.\\nA consequence of the deﬁnition of linear recursion is that any recursion trace\\nwill appear as a single sequence of calls, as we originally portrayed for the factorialmethod in Figure 5.1 of Section 5.1.1. Note that the linear recursion terminol-\\nogy reﬂects the structure of the recursion trace, not the asymptotic analysis of the\\nrunning time; for example, we have seen that binary search runs in O(logn)time.\\nSumming the Elements of an Array Recursively\\nLinear recursion can be a useful tool for processing a sequence, such as a Java array.\\nSuppose, for example, that we want to compute the sum of an array of nintegers.\\nWe can solve this summation problem using linear recursion by observing that if\\nn=0 the sum is trivially 0, and otherwise it is the sum of the ﬁrst n−1i n t e g e r si n\\nthe array plus the last value in the array. (See Figure 5.9.)\\n4362893285172835\\n701234 6789 1 0 1 1 1 2 1 3 1 4 1 5\\nFigure 5.9: Computing the sum of a sequence recursively, by adding the last number\\nto the sum of the ﬁrst n−1.\\nwww.it-ebooks.info'), Document(metadata={}, page_content='5.3. Further Examples of Recursion 207\\nA recursive algorithm for computing the sum of an array of integers based on\\nthis intuition is implemented in Code Fragment 5.6.\\n1/∗∗Returns the sum of the ﬁrst n integers of the given array. ∗/\\n2public static int linearSum( int[ ] data, intn){\\n3 if(n == 0)\\n4 return0;\\n5 else\\n6 returnlinearSum(data, n −1) + data[n −1];\\n7}\\nCode Fragment 5.6: Summing an array of integers using linear recursion.\\nA recursion trace of the linearSum method for a small example is given in\\nFigure 5.10. For an input of size n,t h elinearSum algorithm makes n+1 method\\ncalls. Hence, it will take O(n)time, because it spends a constant amount of time\\nperforming the nonrecursive part of each call. Moreover, we can also see that the\\nmemory space used by the algorithm (in addition to the array) is also O(n),a sw e\\nuse a constant amount of memory space for each of the n+1 frames in the trace at\\nthe time we make the ﬁnal recursive call (with n=0).\\nreturn15 + data[4] = 15 + 8 = 23\\nlinearSum(data, 4)\\nlinearSum(data, 3)\\nlinearSum(data, 2)\\nlinearSum(data, 1)\\nlinearSum(data, 0)linearSum(data, 5)\\nreturn0return0+d a t a [ 0 ]=0+4=4return4+d a t a [ 1 ]=4+3=7return7+d a t a [ 2 ]=7+6=1 3return13 + data[3] = 13 + 2 = 15\\nFigure 5.10: Recursion trace for an execution of linearSum(data, 5) with input\\nparameter d a t a=4 ,3 ,6 ,2 ,8 .\\nwww.it-ebooks.info'), Document(metadata={}, page_content='208 Chapter 5. Recursion\\nReversing a Sequence with Recursion\\nNext, let us consider the problem of reversing the nelements of an array, so that\\nthe ﬁrst element becomes the last, the second element becomes second to the last,\\nand so on. We can solve this problem using linear recursion, by observing that thereversal of a sequence can be achieved by swapping the ﬁrst and last elements andthen recursively reversing the remaining elements. We present an implementationof this algorithm in Code Fragment 5.7, using the convention that the ﬁrst time we\\ncall this algorithm we do so as reverseArray(data, 0, n −1).\\n1/∗∗Reverses the contents of subarray data[low] through data[high] inclusive. ∗/\\n2public static void reverseArray( int[ ] data, intlow, inthigh){\\n3 if(low <high){ // if at least two elements in subarray\\n4 inttemp = data[low]; // swap data[low] and data[high]\\n5data[low] = data[high];\\n6data[high] = temp;\\n7reverseArray(data, low + 1, high −1);// recur on the rest\\n8}\\n9}\\nCode Fragment 5.7: Reversing the elements of an array using linear recursion.\\nWe note that whenever a recursive call is made, there will be two fewer elements\\nin the relevant portion of the array. (See Figure 5.11.) Eventually a base case is\\nreached when the condition low<high fails, either because low == high in the\\ncase that nis odd, or because low == high + 1 in the case that nis even.\\nThe above argument implies that the recursive algorithm of Code Fragment 5.7\\nis guaranteed to terminate after a total of 1 +/floorleftbign\\n2/floorrightbig\\nrecursive calls. Because each call\\ninvolves a constant amount of work, the entire process runs in O(n)time.\\n94895\\n77775 01234 6\\n5985985965367\\n436\\n72222\\n26346348348\\nFigure 5.11: A trace of the recursion for reversing a sequence. The highlighted\\nportion has yet to be reversed.\\nwww.it-ebooks.info'), Document(metadata={}, page_content='5.3. Further Examples of Recursion 209\\nRecursive Algorithms for Computing Powers\\nAs another interesting example of the use of linear recursion, we consider the prob-\\nlem of raising a number xto an arbitrary nonnegative integer n. That is, we wish\\nto compute the power function ,d e ﬁ n e da s power (x,n)= xn. (We use the name\\n“power” for this discussion, to differentiate from the pow method of the Math class,\\nwhich provides such functionality.) We will consider two different recursive for-mulations for the problem that lead to algorithms with very different performance.\\nA trivial recursive deﬁnition follows from the fact that x\\nn=x·xn−1forn>0.\\npower (x,n)=/braceleftbigg1i f n=0\\nx·power (x,n−1)otherwise.\\nThis deﬁnition leads to a recursive algorithm shown in Code Fragment 5.8.\\n1/∗∗Computes the value of x raised to the nth power, for nonnegative integer n. ∗/\\n2public static double power( doublex,intn){\\n3 if(n == 0)\\n4 return1;\\n5 else\\n6 returnx∗power(x, n −1);\\n7}\\nCode Fragment 5.8: Computing the power function using trivial recursion.\\nA recursive call to this version of power (x,n)runs in O(n)time. Its recursion\\ntrace has structure very similar to that of the factorial function from Figure 5.1,with the parameter decreasing by one with each call, and constant work performedat each of n+1 levels.\\nHowever, there is a much faster way to compute the power function using an\\nalternative deﬁnition that employs a squaring technique. Let k=/floorleftbig\\nn\\n2/floorrightbig\\ndenote the\\nﬂoor of the integer division (equivalent to n/2 in Java when nis anint). We consider\\nthe expression/parenleftbig\\nxk/parenrightbig2.W h e n nis even,/floorleftbign\\n2/floorrightbig\\n=n\\n2and therefore/parenleftbig\\nxk/parenrightbig2=/parenleftBig\\nxn\\n2/parenrightBig2\\n=xn.\\nWhen nis odd,/floorleftbign\\n2/floorrightbig\\n=n−1\\n2and/parenleftbig\\nxk/parenrightbig2=xn−1, and therefore xn=/parenleftbig\\nxk/parenrightbig2·x,j u s ta s\\n213=/parenleftbig\\n26·26/parenrightbig\\n·2. This analysis leads to the following recursive deﬁnition:\\npower (x,n)=⎧\\n⎪⎨\\n⎪⎩1i f n=0/parenleftbig\\npower/parenleftbig\\nx,/floorleftbign\\n2/floorrightbig/parenrightbig/parenrightbig2·xifn>0 is odd/parenleftbig\\npower/parenleftbig\\nx,/floorleftbign\\n2/floorrightbig/parenrightbig/parenrightbig2ifn>0i se v e n\\nIf we were to implement this recursion making two recursive calls to compute\\npower (x,/floorleftbign\\n2/floorrightbig\\n)·power (x,/floorleftbign\\n2/floorrightbig\\n), a trace of the recursion would demonstrate O(n)\\ncalls. We can perform signiﬁcantly fewer operations by computing power (x,/floorleftbign\\n2/floorrightbig\\n)\\nand storing it in a variable as a partial result, and then multiplying it by itself. An\\nimplementation based on this recursive deﬁnition is given in Code Fragment 5.9.\\nwww.it-ebooks.info'), Document(metadata={}, page_content='210 Chapter 5. Recursion\\n1/∗∗Computes the value of x raised to the nth power, for nonnegative integer n. ∗/\\n2public static double power( doublex,intn){\\n3 if(n == 0)\\n4 return1;\\n5 else{\\n6 doublepartial = power(x, n/2); // rely on truncated division of n\\n7 doubleresult = partial ∗partial;\\n8 if(n % 2 == 1) // if n odd, include extra factor of x\\n9 result ∗=x ;\\n10 returnresult;\\n11}\\n12}\\nCode Fragment 5.9: Computing the power function using repeated squaring.\\nTo illustrate the execution of our improved algorithm, Figure 5.12 provides a\\nrecursion trace of the computation power(2, 13) .\\nreturn 64∗64∗2 = 8192\\npower(2, 13)\\npower(2, 6)\\npower(2, 3)\\npower(2, 1)\\npower(2, 0)return 1return 1∗1∗2=2return 2∗2∗2=8return 8∗8=6 4\\nFigure 5.12: Recursion trace for an execution of power(2, 13) .\\nTo analyze the running time of the revised algorithm, we observe that the ex-\\nponent in each recursive call of method power(x,n) is at most half of the preceding\\nexponent. As we saw with the analysis of binary search, the number of times that\\nwe can divide nby two before getting to one or less is O(logn). Therefore, our new\\nformulation of power results in O(logn)recursive calls. Each individual activation\\nof the method uses O(1)operations (excluding the recursive call), and so the total\\nnumber of operations for computing power(x,n) isO(logn). T h i si sas i g n i ﬁ c a n t\\nimprovement over the original O(n)-time algorithm.\\nThe improved version also provides signiﬁcant saving in reducing the memory\\nusage. The ﬁrst version has a recursive depth of O(n), and therefore, O(n)frames\\nare simultaneously stored in memory. Because the recursive depth of the improved\\nversion is O(logn), its memory usage is O(logn)as well.\\nwww.it-ebooks.info'), Document(metadata={}, page_content='5.3. Further Examples of Recursion 211\\n5.3.2 Binary Recursion\\nWhen a method makes two recursive calls, we say that it uses binary recursion .\\nWe have already seen an example of binary recursion when drawing the Englishruler (Section 5.1.2). As another application of binary recursion, let us revisit theproblem of summing the nintegers of an array. Computing the sum of one or zero\\nvalues is trivial. With two or more values, we can recursively compute the sum of\\nthe ﬁrst half, and the sum of the second half, and add those sums together. Ourimplementation of such an algorithm, in Code Fragment 5.10, is initially invokedasbinarySum(data, 0, n −1).\\n1/∗∗Returns the sum of subarray data[low] through data[high] inclusive. ∗/\\n2public static int binarySum( int[ ] data, intlow, inthigh){\\n3 if(low >high) // zero elements in subarray\\n4 return0;\\n5 else if(low == high) // one element in subarray\\n6 returndata[low];\\n7 else{\\n8 intmid = (low + high) / 2;\\n9 returnbinarySum(data, low, mid) + binarySum(data, mid+1, high);\\n10}\\n11}\\nCode Fragment 5.10: Summing the elements of a sequence using binary recursion.\\nTo analyze algorithm binarySum , we consider, for simplicity, the case where\\nnis a power of two. Figure 5.13 shows the recursion trace of an execution of\\nbinarySum(data, 0, 7) . We label each box with the values of parameters low and\\nhigh for that call. The size of the range is divided in half at each recursive call,\\nand so the depth of the recursion is 1 +log2n. Therefore, binarySum uses O(logn)\\namount of additional space, which is a big improvement over the O(n)space used\\nby thelinearSum method of Code Fragment 5.6. However, the running time of\\nbinarySum isO(n),a st h e r ea r e2 n−1 method calls, each requiring constant time.\\n0,0 1,1 2,2 4,4 6,6 7,7 3,3 5,50,1 4,5 6,7 2,30,3 4,70,7\\nFigure 5.13: Recursion trace for the execution of binarySum(data, 0, 7) .\\nwww.it-ebooks.info'), Document(metadata={}, page_content='212 Chapter 5. Recursion\\n5.3.3 Multiple Recursion\\nGeneralizing from binary recursion, we deﬁne multiple recursion as a process in\\nwhich a method may make more than two recursive calls. Our recursion for an-\\nalyzing the disk space usage of a ﬁle system (see Section 5.1.4) is an example of\\nmultiple recursion, because the number of recursive calls made during one invoca-tion was equal to the number of entries within a given directory of the ﬁle system.\\nAnother common application of multiple recursion is when we want to enumer-\\nate various conﬁgurations in order to solve a combinatorial puzzle. For example,\\nthe following are all instances of what are known as summation puzzles :\\npot+pan = bib\\ndog+cat = pig\\nboy+girl = baby\\nTo solve such a puzzle, we need to assign a unique digit (that is, 0 ,1,..., 9) to each\\nletter in the equation, in order to make the equation true. Typically, we solve sucha puzzle by using our human observations of the particular puzzle we are trying tosolve to eliminate conﬁgurations (that is, possible partial assignments of digits to\\nletters) until we can work through the feasible conﬁgurations that remain, testing\\nfor the correctness of each one.\\nIf the number of possible conﬁgurations is not too large, however, we can use\\na computer to simply enumerate all the possibilities and test each one, without em-ploying any human observations. Such an algorithm can use multiple recursion\\nto work through the conﬁgurations in a systematic way. To keep the description\\ngeneral enough to be used with other puzzles, we consider an algorithm that enu-merates and tests all k-length sequences, without repetitions, chosen from a given\\nuniverse U. We show pseudocode for such an algorithm in Code Fragment 5.11,\\nbuilding the sequence of kelements with the following steps:\\n1.Recursively generating the sequences of k−1e l e m e n t s\\n2.Appending to each such sequence an element not already contained in it.\\nThroughout the execution of the algorithm, we use a set Uto keep track of the\\nelements not contained in the current sequence, so that an element ehas not been\\nused yet if and only if eis in U.\\nAnother way to look at the algorithm of Code Fragment 5.11 is that it enumer-\\nates every possible size- kordered subset of U, and tests each subset for being a\\npossible solution to our puzzle.\\nFor summation puzzles, U={0,1,2,3,4,5,6,7,8,9}and each position in the\\nsequence corresponds to a given letter. For example, the ﬁrst position could stand\\nforb, the second for o, the third for y, and so on.\\nwww.it-ebooks.info'), Document(metadata={}, page_content='5.3. Further Examples of Recursion 213\\nAlgorithm PuzzleSolve( k,S,U):\\nInput: An integer k, sequence S, and set U\\nOutput: An enumeration of all k-length extensions to Susing elements in U\\nwithout repetitions\\nforeach einUdo\\nAdd eto the end of S\\nRemove efrom U {eis now being used }\\nifk==1then\\nTest whether Sis a conﬁguration that solves the puzzle\\nifSsolves the puzzle then\\nadd Sto output {a solution }\\nelse\\nPuzzleSolve (k−1,S,U) {a recursive call }\\nRemove efrom the end of S\\nAdd eback to U {eis now considered as unused }\\nCode Fragment 5.11: Solving a combinatorial puzzle by enumerating and testing\\nall possible conﬁgurations.\\nIn Figure 5.14, we show a recursion trace of a call to PuzzleSolve( 3,S,U),\\nwhere Sis empty and U={a,b,c}. During the execution, all the permutations\\nof the three characters are generated and tested. Note that the initial call makesthree recursive calls, each of which in turn makes two more. If we had executed\\nPuzzleSolve( 3,S,U)on a set Uconsisting of four elements, the initial call would\\nhave made four recursive calls, each of which would have a trace looking like theone in Figure 5.14.\\ninitial call\\nPuzzleSolve(3, (), {a,b,c })\\nPuzzleSolve(2, b, {a,c}) PuzzleSolve(2, c, {a,b})\\nPuzzleSolve(1, ca, {b})PuzzleSolve(2, a, {b,c})\\nPuzzleSolve(1, ab, {c}) PuzzleSolve(1, ba, {c})\\nPuzzleSolve(1, bc, {a}) PuzzleSolve(1, ac, {b}) PuzzleSolve(1, cb, {a})\\nacbabc bac cab\\nbca cba\\nFigure 5.14: Recursion trace for an execution of PuzzleSolve( 3,S,U),w h e r e Sis\\nempty and U={a,b,c}. This execution generates and tests all permutations of a,b,\\nand c. We show the permutations generated directly below their respective boxes.\\nwww.it-ebooks.info'), Document(metadata={}, page_content='214 Chapter 5. Recursion\\n5.4 Designing Recursive Algorithms\\nAn algorithm that uses recursion typically has the following form:\\n•Test for base cases. We begin by testing for a set of base cases (there should\\nbe at least one). These base cases should be deﬁned so that every possible\\nchain of recursive calls will eventually reach a base case, and the handling of\\neach base case should not use recursion.\\n•Recur. If not a base case, we perform one or more recursive calls. This recur-\\nsive step may involve a test that decides which of several possible recursive\\ncalls to make. We should deﬁne each possible recursive call so that it makes\\nprogress towards a base case.\\nParameterizing a Recursion\\nTo design a recursive algorithm for a given problem, it is useful to think of thedifferent ways we might deﬁne subproblems that have the same general structure\\nas the original problem. If one has difﬁculty ﬁnding the repetitive structure needed\\nto design a recursive algorithm, it is sometimes useful to work out the problem ona few concrete examples to see how the subproblems should be deﬁned.\\nA successful recursive design sometimes requires that we redeﬁne the origi-\\nnal problem to facilitate similar-looking subproblems. Often, this involved repa-rameterizing the signature of the method. For example, when performing a bi-\\nnary search in an array, a natural method signature for a caller would appear as\\nbinarySearch(data, target) . However, in Section 5.1.3, we deﬁned our method\\nwith calling signature binarySearch(data, target, low, high) , using the additional\\nparameters to demarcate subarrays as the recursion proceeds. This change in pa-\\nrameterization is critical for binary search. Several other examples in this chapter\\n(e.g.,reverseArray ,linearSum ,binarySum ) also demonstrated the use of additional\\nparameters in deﬁning recursive subproblems.\\nIf we wish to provide a cleaner public interface to an algorithm without expos-\\ning the user to the recursive parameterization, a standard technique is to make therecursive version private, and to introduce a cleaner public method (that calls the\\nprivate one with appropriate parameters). For example, we might offer the follow-\\ning simpler version of binarySearch for public use:\\n/∗∗Returns true if the target value is found in the data array. ∗/\\npublic static boolean binarySearch( int[ ] data, inttarget){\\nreturnbinarySearch(data, target, 0, data.length −1);// use parameterized version\\n}\\nwww.it-ebooks.info'), Document(metadata={}, page_content='5.5. Recursion Run Amok 215\\n5.5 Recursion Run Amok\\nAlthough recursion is a very powerful tool, it can easily be misused in various\\nways. In this section, we examine several cases in which a poorly implemented re-cursion causes drastic inefﬁciency, and we discuss some strategies for recognizing\\nand avoid such pitfalls.\\nWe begin by revisiting the element uniqueness problem , deﬁned on page 174\\nof Section 4.3.3. We can use the following recursive formulation to determine if\\nallnelements of a sequence are unique. As a base case, when n=1, the elements\\nare trivially unique. For n≥2, the elements are unique if and only if the ﬁrst n−1\\nelements are unique, the last n−1 items are unique, and the ﬁrst and last elements\\nare different (as that is the only pair that was not already checked as a subcase). A\\nrecursive implementation based on this idea is given in Code Fragment 5.12, named\\nunique3 (to differentiate it from unique1 andunique2 from Chapter 4).\\n1/∗∗Returns true if there are no duplicate values from data[low] through data[high]. ∗/\\n2public static boolean unique3( int[ ] data, intlow, inthigh){\\n3 if(low >=h i g h ) return true ; // at most one item\\n4 else if(!unique3(data, low, high −1))return false ;// duplicate in ﬁrst n −1\\n5 else if(!unique3(data, low+1, high)) return false ;// duplicate in last n −1\\n6 else return (data[low] != data[high]); // do ﬁrst and last diﬀer?\\n7}\\nCode Fragment 5.12: Recursive unique3 for testing element uniqueness.\\nUnfortunately, this is a terribly inefﬁcient use of recursion. The nonrecursive\\npart of each call uses O(1)time, so the overall running time will be proportional to\\nthe total number of recursive invocations. To analyze the problem, we let ndenote\\nthe number of entries under consideration, that is, let n=1+h i g h −low.\\nIfn=1, then the running time of unique3 isO(1), since there are no recursive\\ncalls for this case. In the general case, the important observation is that a single calltounique3 for a problem of size nmay result in two recursive calls on problems of\\nsize n−1. Those two calls with size n−1 could in turn result in four calls (two\\neach) with a range of size n−2, and thus eight calls with size n−3 and so on.\\nThus, in the worst case, the total number of method calls is given by the geometricsummation\\n1+2+4+···+2\\nn−1,\\nw h i c hi se q u a lt o2n−1 by Proposition 4.5. Thus, the running time of method\\nunique3 isO(2n). This is an incredibly inefﬁcient method for solving the ele-\\nment uniqueness problem. Its inefﬁciency comes not from the fact that it usesrecursion—it comes from the fact that it uses recursion poorly, which is something\\nwe address in Exercise C-5.12.\\nwww.it-ebooks.info'), Document(metadata={}, page_content='216 Chapter 5. Recursion\\nAn Ineﬃcient Recursion for Computing Fibonacci Numbers\\nIn Section 2.2.3, we introduced a process for generating the progression of Fi-\\nbonacci numbers, which can be deﬁned recursively as follows:\\nF0= 0\\nF1= 1\\nFn= Fn−2+Fn−1forn>1.\\nIronically, a recursive implementation based directly on this deﬁnition results in the\\nmethodﬁbonacciBad shown in Code Fragment 5.13, which computes a Fibonacci\\nnumber by making two recursive calls in each non-base case.\\n1/∗∗Returns the nth Fibonacci number (ineﬃciently). ∗/\\n2public static long ﬁbonacciBad( intn){\\n3 if(n<=1 )\\n4 returnn;\\n5 else\\n6 returnﬁbonacciBad(n −2) + ﬁbonacciBad(n −1);\\n7}\\nCode Fragment 5.13: Computing the nthFibonacci number using binary recursion.\\nUnfortunately, such a direct implementation of the Fibonacci formula results\\nin a terribly inefﬁcient method. Computing the nthFibonacci number in this way\\nrequires an exponential number of calls to the method. Speciﬁcally, let cndenote\\nthe number of calls performed in the execution of ﬁbonacciBad (n). Then, we have\\nthe following values for the cn’s:\\nc0= 1\\nc1= 1\\nc2= 1+c0+c1=1+1+1=3\\nc3= 1+c1+c2=1+1+3=5\\nc4= 1+c2+c3=1+3+5=9\\nc5= 1+c3+c4=1+5+9=15\\nc6= 1+c4+c5=1+9+15=25\\nc7= 1+c5+c6=1+15+25=41\\nc8= 1+c6+c7=1+25+41=67\\nIf we follow the pattern forward, we see that the number of calls more than doubles\\nfor each two consecutive indices. That is, c4is more than twice c2,c5is more than\\ntwice c3,c6is more than twice c4, and so on. Thus, cn>2n/2, which means that\\nﬁbonacciBad (n)makes a number of calls that is exponential in n.\\nwww.it-ebooks.info'), Document(metadata={}, page_content='5.5. Recursion Run Amok 217\\nAn Eﬃcient Recursion for Computing Fibonacci Numbers\\nWe were tempted into using the bad recursive formulation because of the way the\\nnthFibonacci number, Fn, depends on the two previous values, Fn−2and Fn−1.B u t\\nnotice that after computing Fn−2, the call to compute Fn−1requires its own recursive\\ncall to compute Fn−2, as it does not have knowledge of the value of Fn−2that was\\ncomputed at the earlier level of recursion. That is duplicative work. Worse yet, both\\nof those calls will need to (re)compute the value of Fn−3, as will the computation\\nofFn−1. This snowballing effect is what leads to the exponential running time of\\nﬁbonacciBad .\\nWe can compute Fnmuch more efﬁciently using a recursion in which each\\ninvocation makes only one recursive call. To do so, we need to redeﬁne the expec-tations of the method. Rather than having the method return a single value, whichis the n\\nthFibonacci number, we deﬁne a recursive method that returns an array with\\ntwo consecutive Fibonacci numbers {Fn,Fn−1}, using the convention F−1=0. Al-\\nthough it seems to be a greater burden to report two consecutive Fibonacci numbersinstead of one, passing this extra information from one level of the recursion to thenext makes it much easier to continue the process. (It allows us to avoid having\\nto recompute the second value that was already known within the recursion.) An\\nimplementation based on this strategy is given in Code Fragment 5.14.\\n1/∗∗Returns array containing the pair of Fibonacci numbers, F(n) and F(n −1).∗/\\n2public static long [ ] ﬁbonacciGood( intn){\\n3 if(n<=1 ){\\n4 long[ ] answer = {n, 0};\\n5 returnanswer;\\n6}else{\\n7 long[ ] temp = ﬁbonacciGood(n −1); // returns {Fn−1,Fn−2}\\n8 long[ ] answer = {temp[0] + temp[1], temp[0] };// we want {Fn,Fn−1}\\n9 returnanswer;\\n10}\\n11}\\nCode Fragment 5.14: Computing the nthFibonacci number using linear recursion.\\nIn terms of efﬁciency, the difference between the bad and good recursions for\\nthis problem is like night and day. The ﬁbonacciBad method uses exponential\\ntime. We claim that the execution of method ﬁbonacciGood( n)runs in O(n)time.\\nEach recursive call to ﬁbonacciGood decreases the argument nby 1; therefore, a\\nrecursion trace includes a series of nmethod calls. Because the nonrecursive work\\nfor each call uses constant time, the overall computation executes in O(n)time.\\nwww.it-ebooks.info'), Document(metadata={}, page_content=\"218 Chapter 5. Recursion\\n5.5.1 Maximum Recursive Depth in Java\\nAnother danger in the misuse of recursion is known as inﬁnite recursion . If each\\nrecursive call makes another recursive call, without ever reaching a base case, thenwe have an inﬁnite series of such calls. This is a fatal error. An inﬁnite recursion\\ncan quickly swamp computing resources, not only due to rapid use of the CPU,\\nbut because each successive call creates a frame requiring additional memory. Ablatant example of an ill-formed recursion is the following:\\n1/∗∗Don't call this (inﬁnite) version. ∗/\\n2public static int ﬁbonacci( intn){\\n3 returnﬁbonacci(n); // After all Fndoes equal Fn\\n4}\\nHowever, there are far more subtle errors that can lead to an inﬁnite recursion.\\nRevisiting our implementation of binary search (Code Fragment 5.3), when we\\nmake a recursive call on the right portion of the sequence (line 15), we specify the\\nsubarray from index mid+1 tohigh . Had that line instead been written as\\nreturnbinarySearch(data, target, mid, high); // sending mid, not mid+1\\nthis could result in an inﬁnite recursion. In particular, when searching a range of\\ntwo elements, it becomes possible to make a recursive call on the identical range.\\nA programmer should ensure that each recursive call is in some way progress-\\ning toward a base case (for example, by having a parameter value that decreases\\nwith each call). To combat against inﬁnite recursions, the designers of Java madean intentional decision to limit the overall space used to store activation framesfor simultaneously active method calls. If this limit is reached, the Java Virtual\\nMachine throws a StackOverﬂowError . (We will further discuss the “stack” data\\nstructure in Section 6.1.) The precise value of this limit depends upon the Javainstallation, but a typical value might allow upward of 1000 simultaneous calls.\\nFor many applications of recursion, allowing up to 1000 nested calls sufﬁces.\\nFor example, our binarySearch method (Section 5.1.3) has O(logn)recursive depth,\\nand so for the default recursive limit to be reached, there would need to be 2\\n1000\\nelements (far, far more than the estimated number of atoms in the universe). How-\\never, we have seen several linear recursions that have recursive depth proportionalton. Java’s limit on the recursive depth might disrupt such computations.\\nIt is possible to reconﬁgure the Java Virtual Machine so that it allows for greater\\nspace to be devoted to nested method calls. This is done by setting the -Xss runtime\\noption when starting Java, either as a command-line option or through the settingsof an IDE. But it often possible to rely upon the intuition of a recursive algorithm,yet to reimplement it more directly using traditional loops rather than method callsto express the necessary repetition. We discuss just such an approach to conclude\\nthe chapter.\\nwww.it-ebooks.info\"), Document(metadata={}, page_content='5.6. Eliminating Tail Recursion 219\\n5.6 Eliminating Tail Recursion\\nThe main beneﬁt of a recursive approach to algorithm design is that it allows us to\\nsuccinctly take advantage of a repetitive structure present in many problems. Bymaking our algorithm description exploit the repetitive structure in a recursive way,we can often avoid complex case analyses and nested loops. This approach can\\nlead to more readable algorithm descriptions, while still being quite efﬁcient.\\nHowever, the usefulness of recursion comes at a modest cost. In particular,\\nthe Java Virtual Machine must maintain frames that keep track of the state of each\\nnested call. When computer memory is at a premium, it can be beneﬁcial to derive\\nnonrecursive implementations of recursive algorithms.\\nIn general, we can use the stack data structure, which we will introduce in\\nSection 6.1, to convert a recursive algorithm into a nonrecursive algorithm by man-\\naging the nesting of the recursive structure ourselves, rather than relying on theinterpreter to do so. Although this only shifts the memory usage from the inter-preter to our stack, we may be able to further reduce the memory usage by storingthe minimal information necessary.\\nEven better, some forms of recursion can be eliminated without any use of aux-\\niliary memory. One such form is known as tail recursion . A recursion is a tail\\nrecursion if any recursive call that is made from one context is the very last opera-\\ntion in that context, with the return value of the recursive call (if any) immediately\\nreturned by the enclosing recursion. By necessity, a tail recursion must be a lin-ear recursion (since there is no way to make a second recursive call if you mustimmediately return the result of the ﬁrst).\\nOf the recursive methods demonstrated in this chapter, the binarySearch method\\nof Code Fragment 5.3 and the reverseArray method of Code Fragment 5.7 are ex-\\namples of tail recursion. Several others of our linear recursions are almost liketail recursion, but not technically so. For example, our factorial method of Code\\nFragment 5.1 is nota tail recursion. It concludes with the command:\\nreturnn∗factorial(n −1);\\nThis is not a tail recursion because an additional multiplication is performed after\\nthe recursive call is completed, and the result returned is not the same. For similar\\nreasons, the linearSum method of Code Fragment 5.6, both power methods from\\nCode Fragments 5.8 and 5.9, and the ﬁbonacciGood method of Code Fragment 5.13\\nfail to be tail recursions.\\nTail recursions are special, as they can be automatically reimplemented nonre-\\ncursively by enclosing the body in a loop for repetition, and replacing a recursivecall with new parameters by a reassignment of the existing parameters to thosevalues. In fact, many programming language implementations may convert tail\\nrecursions in this way as an optimization.\\nwww.it-ebooks.info'), Document(metadata={}, page_content='220 Chapter 5. Recursion\\n1/∗∗Returns true if the target value is found in the data array. ∗/\\n2public static boolean binarySearchIterative( int[ ] data, inttarget){\\n3 intlow = 0;\\n4 inthigh = data.length −1;\\n5 while(low <=h i g h ){\\n6 intmid = (low + high) / 2;\\n7 if(target == data[mid]) // found a match\\n8 return true ;\\n9 else if(target <data[mid])\\n10 high = mid −1; // only consider values left of mid\\n11 else\\n12 low = mid + 1; // only consider values right of mid\\n13}\\n14 return false ; // loop ended without success\\n15}\\nCode Fragment 5.15: A nonrecursive implementation of binary search.\\nAs a tangible example, our binarySearch method can be reimplemented as\\nshown in Code Fragment 5.15. We initialize variables low andhigh to represent\\nthe full extent of the array just prior to our while loop. Then, during each pass of\\nthe loop, we either ﬁnd the target, or we narrow the range of the candidate subar-\\nray. Where we made the recursive call binarySearch(data, target, low, mid −1)\\nin the original version, we simply replace high = mid −1in our new version\\nand then continue to the next iteration of the loop. Our original base case con-dition of low>high has simply been replaced by the opposite loop condition,\\nwhilelow<=h i g h . In our new implementation, we return false to designate a\\nfailed search if the while loop ends without having ever returned true from within.\\nMost other linear recursions can be expressed quite efﬁciently with iteration,\\neven if they were not formally tail recursions. For example, there are trivial nonre-cursive implementations for computing factorials, computing Fibonacci numbers,\\nsumming elements of an array, or reversing the contents of an array. For example,\\nCode Fragment 5.16 provides a nonrecursive method to reverse the contents of anarray (as compared to the earlier recursive method from Code Fragment 5.7).\\n1/∗∗Reverses the contents of the given array. ∗/\\n2public static void reverseIterative( int[ ] data) {\\n3 intlow = 0, high = data.length −1;\\n4 while(low <high){ // swap data[low] and data[high]\\n5 inttemp = data[low];\\n6data[low++] = data[high]; // post-increment of low\\n7data[high −−] = temp; // post-decrement of high\\n8}\\n9}\\nCode Fragment 5.16: Reversing the elements of a sequence using iteration.\\nwww.it-ebooks.info'), Document(metadata={}, page_content=\"5.7. Exercises 221\\n5.7 Exercises\\nReinforcement\\nR-5.1 Describe a recursive algorithm for ﬁnding the maximum element in an array, A,\\nofnelements. What is your running time and space usage?\\nR-5.2 Explain how to modify the recursive binar y search algorithm so that it returns the\\nindex of the target in the sequence or −1 (if the target is not found).\\nR-5.3 Draw the recursion trace for the computation of power (2,5), using the traditional\\nalgorithm implemented in Code Fragment 5.8.\\nR-5.4 Draw the recursion trace for the computation of power (2,18), using the repeated\\nsquaring algorithm, as implemented in Code Fragment 5.9.\\nR-5.5 Draw the recursion trace for the execution of reverseArray(data, 0, 4) , from\\nCode Fragment 5.7, on array data = 4, 3, 6, 2, 6 .\\nR-5.6 Draw the recursion trace for the execution of method PuzzleSolve (3,S,U), from\\nCode Fragment 5.11, where Sis empty and U={a,b,c,d}.\\nR-5.7 Describe a recursive algorithm for computing the nthHarmonic number ,d e ﬁ n e d\\nasHn=∑n\\nk=11/k.\\nR-5.8 Describe a recursive algorithm for converting a string of digits into the integer it\\nrepresents. For example, '13531 'represents the integer 13 ,531.\\nR-5.9 Develop a nonrecursive implementation of the version of the power method from\\nCode Fragment 5.9 that uses repeated squaring.\\nR-5.10 Describe a way to use recursion to compute the sum of all the elements in an\\nn×n(two-dimensional) array of integers.\\nCreativity\\nC-5.11 Describe a recursive algorithm to compute the integer part of the base-two loga-\\nrithm of nusing only addition and integer division.\\nC-5.12 Describe an efﬁcient recursive algorithm for solving the element uniqueness\\nproblem, which runs in time that is at most O(n2)in the worst case without using\\nsorting.\\nC-5.13 Give a recursive algorithm to compute the product of two positive integers, mand\\nn, using only addition and subtraction.\\nC-5.14 In Section 5.2 we prove by induction that the number of lines printed by a call to\\ndrawInterval( c)is 2c−1. Another interesting question is how many dashes are\\nprinted during that process. Prove by induction that the number of dashes printed\\nbydrawInterval( c)is 2c+1−c−2.\\nwww.it-ebooks.info\"), Document(metadata={}, page_content=\"222 Chapter 5. Recursion\\nC-5.15 Write a recursive method that will output all the subsets of a set of nelements\\n(without repeating any subsets).\\nC-5.16 In the Towe r s o f H a n o i puzzle, we are given a platform with three pegs, a,b,a n d\\nc, sticking out of it. On peg ais a stack of ndisks, each larger than the next, so\\nthat the smallest is on the top and the largest is on the bottom. The puzzle is to\\nmove all the disks from peg ato peg c, moving one disk at a time, so that we\\nnever place a larger disk on top of a smaller one. See Figure 5.15 for an example\\nof the case n=4. Describe a recursive algorithm for solving the Towers of Hanoi\\npuzzle for arbitrary n. (Hint: Consider ﬁrst the subproblem of moving all but\\nthe nthdisk from peg ato another peg using the third as “temporary storage.”)\\nFigure 5.15: An illustration of the Towers of Hanoi puzzle.\\nC-5.17 Write a short recursive Java method that takes a character string sand outputs its\\nreverse. For example, the reverse of 'pots&pans 'would be 'snap&stop '.\\nC-5.18 Write a short recursive Java method that determines if a string sis a palindrome,\\nthat is, it is equal to its reverse. Examples of palindromes include 'racecar '\\nand'gohangasalamiimalasagnahog '.\\nC-5.19 Use recursion to write a Java method for determining if a string shas more vowels\\nthan consonants.\\nC-5.20 Write a short recursive Java method that rearranges an array of integer values sothat all the even values appear before all the odd values.\\nC-5.21 Given an unsorted array, A, of integers and an integer k, describe a recursive\\nalgorithm for rearranging the elements in Aso that all elements less than or equal\\ntokcome before any elements larger than k. What is the running time of your\\na l g o r i t h mo na na r r a yo f nvalues?\\nC-5.22 Suppose you are given an array, A, containing ndistinct integers that are listed\\nin increasing order. Given a number k, describe a recursive algorithm to ﬁnd two\\nintegers in Athat sum to k, if such a pair exists. What is the running time of your\\nalgorithm?\\nC-5.23 Describe a recursive algorithm that will check if an array Aof integers contains\\nan integer A[i]that is the sum of two integers that appear earlier in A, that is, such\\nthat A[i]= A[j]+A[k]for j,k<i.\\nwww.it-ebooks.info\"), Document(metadata={}, page_content='Chapter Notes 223\\nC-5.24 Isabel has an interesting way of summing up the values in an array Aofnintegers,\\nwhere nis a power of two. She creates an array Bof half the size of Aand sets\\nB[i]= A[2i]+A[2i+1],f o r i=0,1,..., (n/2)−1. If Bhas size 1, then she\\noutputs B[0]. Otherwise, she replaces Awith B, and repeats the process. What is\\nthe running time of her algorithm?\\nC-5.25 Describe a fast recursive algorithm for reversing a singly linked list L, so that the\\nordering of the nodes becomes opposite of what it was before.\\nC-5.26 Give a recursive deﬁnition of a singly linked list class that does not use any Nodeclass.\\nProjects\\nP-5.27 Implement a recursive method with calling signature ﬁnd(path, ﬁlename) that\\nreports all entries of the ﬁle system rooted at the given path having the given ﬁlename.\\nP-5.28 Write a program for solving summation puzzles by enumerating and testing allpossible conﬁgurations. Using your program, solve the three puzzles given in\\nSection 5.3.3.\\nP-5.29 Provide a nonrecursive implementation of the drawInterval method for the En-\\nglish ruler project of Section 5.1.2. There should be precisely 2c−1 lines of\\noutput if crepresents the length of the center tick. If incrementing a counter from\\n0t o2c−2, the number of dashes for each tick line should be exactly one more\\nthan the number of consecutive 1’s at the end of the binary representation of the\\ncounter.\\nP-5.30 Write a program that can solve instances of the Tower of Hanoi problem (fromExercise C-5.16).\\nChapter Notes\\nThe use of recursion in programs belongs to the folklore of computer science (for example,\\nsee the article of Dijkstra [31]). It is also at the heart of functional programming languages(for example, see the book by Abelson, Sussman, and Sussman [1]). Interestingly, binary\\nsearch was ﬁrst published in 1946, but was not published in a fully correct form until 1962.\\nFor further discussions on lessons learned, see papers by Bentley [13] and Lesuisse [64].\\nwww.it-ebooks.info')]\n"
          ]
        }
      ],
      "source": [
        "print(RAW_KNOWLEDGE_BASE)"
      ]
    },
    {
      "cell_type": "code",
      "execution_count": 9,
      "metadata": {
        "id": "R82UjikfZbLC"
      },
      "outputs": [],
      "source": [
        "from langchain.text_splitter import RecursiveCharacterTextSplitter\n",
        "\n",
        "# We use a hierarchical list of separators specifically tailored for splitting Markdown documents\n",
        "# This list is taken from LangChain's MarkdownTextSplitter class\n",
        "MARKDOWN_SEPARATORS = [\n",
        "    \"\\n#{1,6} \",\n",
        "    \"```\\n\",\n",
        "    \"\\n\\\\*\\\\*\\\\*+\\n\",\n",
        "    \"\\n---+\\n\",\n",
        "    \"\\n___+\\n\",\n",
        "    \"\\n\\n\",\n",
        "    \"\\n\",\n",
        "    \" \",\n",
        "    \"\",\n",
        "]\n",
        "\n",
        "text_splitter = RecursiveCharacterTextSplitter(\n",
        "    chunk_size=1000,  # The maximum number of characters in a chunk: we selected this value arbitrarily\n",
        "    chunk_overlap=100,  # The number of characters to overlap between chunks\n",
        "    add_start_index=True,  # If `True`, includes chunk's start index in metadata\n",
        "    strip_whitespace=True,  # If `True`, strips whitespace from the start and end of every document\n",
        "    separators=MARKDOWN_SEPARATORS,\n",
        ")\n",
        "\n",
        "docs_processed = []\n",
        "for doc in RAW_KNOWLEDGE_BASE:\n",
        "    docs_processed += text_splitter.split_documents([doc])"
      ]
    },
    {
      "cell_type": "code",
      "execution_count": 10,
      "metadata": {
        "colab": {
          "base_uri": "https://localhost:8080/"
        },
        "id": "rGS5jkw6r4pK",
        "outputId": "faa2c2ae-5a1c-4847-a097-6f8688674506"
      },
      "outputs": [
        {
          "output_type": "execute_result",
          "data": {
            "text/plain": [
              "95"
            ]
          },
          "metadata": {},
          "execution_count": 10
        }
      ],
      "source": [
        "len(docs_processed)"
      ]
    },
    {
      "cell_type": "code",
      "execution_count": 11,
      "metadata": {
        "colab": {
          "base_uri": "https://localhost:8080/"
        },
        "id": "jojWLVsJsYDX",
        "outputId": "677be768-b543-44a2-dc69-0b5496940da4"
      },
      "outputs": [
        {
          "output_type": "stream",
          "name": "stdout",
          "text": [
            "[Document(metadata={'start_index': 0}, page_content='Chapter\\n5Recursion\\nContents\\n5 . 1 I l l u s t r a t i v e E x a m p l e s ...................... 1 9 1\\n5.1.1 The Factorial Function . . . . . . . . . . . . . . . . . . . 191\\n5 . 1 . 2 D r a w i n ga nE n g l i s hR u l e r..................1 9 3\\n5 . 1 . 3 B i n a r yS e a r c h........................1 9 65 . 1 . 4 F i l eS y s t e m s.........................1 9 8\\n5 . 2 A n a l y z i n g R e c u r s i v e A l g o r i t h m s ............... 2 0 25 . 3 F u r t h e r E x a m p l e s o f R e c u r s i o n................ 2 0 6\\n5.3.1 Linear Recursion . . . . . . . . . . . . . . . . . . . . . . . 206\\n5.3.2 Binary Recursion . . . . . . . . . . . . . . . . . . . . . . 211\\n5.3.3 Multiple Recursion . . . . . . . . . . . . . . . . . . . . . 212\\n5 . 4 D e s i g n i n g R e c u r s i v e A l g o r i t h m s ............... 2 1 45 . 5 R e c u r s i o n R u n A m o k ..................... 2 1 5\\n5.5.1 Maximum Recursive Depth in Java . . . . . . . . . . . . . 218'), Document(metadata={'start_index': 895}, page_content='5.5.1 Maximum Recursive Depth in Java . . . . . . . . . . . . . 218\\n5.6 Eliminating Tail Recursion . . . ............... 2 1 9\\n5 . 7 E x e r c i s e s ............................ 2 2 1\\nwww.it-ebooks.info'), Document(metadata={'start_index': 0}, page_content='190 Chapter 5. Recursion\\nOne way to describe repetition within a computer program is the use of loops,\\nsuch as Java’s while -loop and for-loop constructs described in Section 1.5.2. An\\nentirely different way to achieve repetition is through a process known as recursion .\\nRecursion is a technique by which a method makes one or more calls to itself\\nduring execution, or by which a data structure relies upon smaller instances of\\nthe very same type of structure in its representation. There are many examples ofrecursion in art and nature. For example, fractal patterns are naturally recursive. Aphysical example of recursion used in art is in the Russian Matryoshka dolls. Each\\ndoll is either made of solid wood, or is hollow and contains another Matryoshka\\ndoll inside it.\\nIn computing, recursion provides an elegant and powerful alternative for per-'), Document(metadata={'start_index': 758}, page_content='doll inside it.\\nIn computing, recursion provides an elegant and powerful alternative for per-\\nforming repetitive tasks. In fact, a few programming languages (e.g., Scheme,Smalltalk) do not explicitly support looping constructs and instead rely directlyon recursion to express repetition. Most modern programming languages supportfunctional recursion using the identical mechanism that is used to support tradi-\\ntional forms of method calls. When one invocation of the method makes a recursive\\ncall, that invocation is suspended until the recursive call completes.\\nRecursion is an important technique in the study of data structures and algo-\\nrithms. We will use it prominently in several later chapters of this book (mostnotably, Chapters 8 and 12). In this chapter, we begin with the following four illus-trative examples of the use of recursion, providing a Java implementation for each.\\n•The factorial function (commonly denoted as n!) is a classic mathematical'), Document(metadata={'start_index': 1648}, page_content='•The factorial function (commonly denoted as n!) is a classic mathematical\\nfunction that has a natural recursive deﬁnition.\\n•An English ruler has a recursive pattern that is a simple example of a fractal\\nstructure.\\n•Binary search is among the most important computer algorithms. It allows\\nus to efﬁciently locate a desired value in a data set with upwards of billionsof entries.\\n•The ﬁle system for a computer has a recursive structure in which directories\\ncan be nested arbitrarily deeply within other directories. Recursive algo-\\nrithms are widely used to explore and manage these ﬁle systems.\\nWe then describe how to perform a formal analysis of the running time of a\\nrecursive algorithm, and we discuss some potential pitfalls when deﬁning recur-sions. In the balance of the chapter, we provide many more examples of recursive\\nalgorithms, organized to highlight some common forms of design.\\nwww.it-ebooks.info'), Document(metadata={'start_index': 0}, page_content='5.1. Illustrative Examples 191\\n5.1 Illustrative Examples\\n5.1.1 The Factorial Function\\nTo demonstrate the mechanics of recursion, we begin with a simple mathematical\\nexample of computing the value of the factorial function . The factorial of a posi-\\ntive integer n, denoted n!, is deﬁned as the product of the integers from 1 to n.I f\\nn=0, then n! is deﬁned as 1 by convention. More formally, for any integer n≥0,\\nn!=/braceleftbigg1i f n=0\\nn·(n−1)·(n−2)···3·2·1i f n≥1.\\nFor example, 5! =5·4·3·2·1=120. The factorial function is important because\\nit is known to equal the number of ways in which ndistinct items can be arranged\\ninto a sequence, that is, the number of permutations ofnitems. For example, the\\nthree characters a,b,a n d ccan be arranged in 3! =3·2·1=6 ways: abc ,acb ,\\nbac ,bca ,cab ,a n d cba .\\nThere is a natural recursive deﬁnition for the factorial function. To see this,\\nobserve that 5! =5·(4·3·2·1)= 5·4!. More generally, for a positive integer n,'), Document(metadata={'start_index': 889}, page_content='observe that 5! =5·(4·3·2·1)= 5·4!. More generally, for a positive integer n,\\nwe can deﬁne n!t ob e n·(n−1)!. This recursive deﬁnition can be formalized as\\nn!=/braceleftbigg1i f n=0\\nn·(n−1)!i f n≥1.\\nThis deﬁnition is typical of many recursive deﬁnitions of functions. First, we\\nhave one or more base cases , which refer to ﬁxed values of the function. The above\\ndeﬁnition has one base case stating that n!=1f o r n=0. Second, we have one\\nor more recursive cases , which deﬁne the function in terms of itself. In the above\\ndeﬁnition, there is one recursive case, which indicates that n!=n·(n−1)!f o r n≥1.\\nA Recursive Implementation of the Factorial Function\\nRecursion is not just a mathematical notation; we can use recursion to design a Java\\nimplementation of the factorial function, as shown in Code Fragment 5.1.\\n1public static int factorial( intn)throwsIllegalArgumentException {\\n2 if(n<0)\\n3 throw new IllegalArgumentException(); // argument must be nonnegative\\n4 else if(n == 0)'), Document(metadata={'start_index': 1773}, page_content='2 if(n<0)\\n3 throw new IllegalArgumentException(); // argument must be nonnegative\\n4 else if(n == 0)\\n5 return1; // base case\\n6 else\\n7 returnn∗factorial(n −1); // recursive case\\n8}\\nCode Fragment 5.1: A recursive implementation of the factorial function.\\nwww.it-ebooks.info'), Document(metadata={'start_index': 0}, page_content='192 Chapter 5. Recursion\\nThis method does not use any explicit loops. Repetition is achieved through\\nrepeated recursive invocations of the method. The process is ﬁnite because each\\ntime the method is invoked, its argument is smaller by one, and when a base case\\nis reached, no further recursive calls are made.\\nWe illustrate the execution of a recursive method using a recursion trace . Each\\nentry of the trace corresponds to a recursive call. Each new recursive method call\\nis indicated by a downward arrow to a new invocation. When the method returns,an arrow showing this return is drawn and the return value may be indicated along-side this arrow. An example of such a trace for the factorial function is shown in\\nFigure 5.1.\\nreturn4∗6=2 4\\nfactorial(1)\\nfactorial(0)factorial(3)\\nfactorial(2)factorial(5)\\nfactorial(4)\\nreturn1return1∗1=1return2∗1=2return3∗2=6return5∗24 = 120\\nFigure 5.1: A recursion trace for the call factorial(5) .'), Document(metadata={'start_index': 877}, page_content='Figure 5.1: A recursion trace for the call factorial(5) .\\nA recursion trace closely mirrors a programming language’s execution of the\\nrecursion. In Java, each time a method (recursive or otherwise) is called, a structureknown as an activation record oractivation frame is created to store information\\nabout the progress of that invocation of the method. This frame stores the parame-\\nters and local variables speciﬁc to a given call of the method, and information about\\nwhich command in the body of the method is currently executing.\\nWhen the execution of a method leads to a nested method call, the execution\\nof the former call is suspended and its frame stores the place in the source code at'), Document(metadata={'start_index': 1487}, page_content='of the former call is suspended and its frame stores the place in the source code at\\nwhich the ﬂow of control should continue upon return of the nested call. A newframe is then created for the nested method call. This process is used both in thestandard case of one method calling a different method, or in the recursive casewhere a method invokes itself. The key point is to have a separate frame for each\\nactive call.\\nwww.it-ebooks.info'), Document(metadata={'start_index': 0}, page_content='5.1. Illustrative Examples 193\\n5.1.2 Drawing an English Ruler\\nIn the case of computing the factorial function, there is no compelling reason for\\npreferring recursion over a direct iteration with a loop. As a more complex example\\nof the use of recursion, consider how to draw the markings of a typical English\\nruler. For each inch, we place a tick with a numeric label. We denote the lengthof the tick designating a whole inch as the major tick length . Between the marks\\nfor whole inches, the ruler contains a series of minor ticks , placed at intervals of\\n1/2 inch, 1 /4 inch, and so on. As the size of the interval decreases by half, the tick\\nlength decreases by one. Figure 5.2 demonstrates several such rulers with varying\\nmajor tick lengths (although not drawn to scale).\\n---- 0 ----- 0 --- 0----- -- -----\\n--- --- --- 1\\n---\\n-- -- --\\n---\\n---- 1 ---- --- 2\\n---\\n-- -- -----\\n--- --- --- 3\\n--\\n-- --\\n--\\n---- 2 ----- 1\\n(a) (b) (c)'), Document(metadata={'start_index': 830}, page_content='-- -- --\\n---\\n---- 1 ---- --- 2\\n---\\n-- -- -----\\n--- --- --- 3\\n--\\n-- --\\n--\\n---- 2 ----- 1\\n(a) (b) (c)\\nFigure 5.2: Three sample outputs of an English ruler drawing: (a) a 2-inch ruler\\nwith major tick length 4; (b) a 1-inch ruler with major tick length 5; (c) a 3-inchruler with major tick length 3.\\nA Recursive Approach to Ruler Drawing\\nThe English ruler pattern is a simple example of a fractal , that is, a shape that has\\na self-recursive structure at various levels of magniﬁcation. Consider the rule withmajor tick length 5 shown in Figure 5.2(b). Ignoring the lines containing 0 and 1,let us consider how to draw the sequence of ticks lying between these lines. Thecentral tick (at 1/2 inch) has length 4. Observe that the two patterns of ticks above\\nand below this central tick are identical, and each has a central tick of length 3.\\nwww.it-ebooks.info'), Document(metadata={'start_index': 0}, page_content='194 Chapter 5. Recursion\\nIn general, an interval with a central tick length L≥1 is composed of:\\n•An interval with a central tick length L−1\\n•A single tick of length L\\n•An interval with a central tick length L−1\\nAlthough it is possible to draw such a ruler using an iterative process (see Ex-\\nercise P-5.29), the task is considerably easier to accomplish with recursion. Our\\nimplementation consists of three methods, as shown in Code Fragment 5.2.\\nThe main method, drawRuler , manages the construction of the entire ruler. Its\\narguments specify the total number of inches in the ruler and the major tick length.The utility method, drawLine , draws a single tick with a speciﬁed number of dashes\\n(and an optional integer label that is printed to the right of the tick).\\nThe interesting work is done by the recursive drawInterval method. This method'), Document(metadata={'start_index': 768}, page_content='The interesting work is done by the recursive drawInterval method. This method\\ndraws the sequence of minor ticks within some interval, based upon the length ofthe interval’s central tick. We rely on the intuition shown at the top of this page,and with a base case when L=0 that draws nothing. For L≥1, the ﬁrst and last\\nsteps are performed by recursively calling drawInterval( L−1). The middle step is\\nperformed by calling method drawLine( L).\\n1/∗∗Draws an English ruler for the given number of inches and major tick length. ∗/\\n2public static void drawRuler( intnInches, intmajorLength) {\\n3drawLine(majorLength, 0); // draw inch 0 line and label\\n4 for(intj=1 ;j <= nInches; j++) {\\n5drawInterval(majorLength −1); // draw interior ticks for inch\\n6drawLine(majorLength, j); // draw inch j line and label\\n7}\\n8}\\n9private static void drawInterval( intcentralLength) {\\n10 if(centralLength >=1 ){ // otherwise, do nothing\\n11drawInterval(centralLength −1); // recursively draw top interval'), Document(metadata={'start_index': 1682}, page_content='11drawInterval(centralLength −1); // recursively draw top interval\\n12drawLine(centralLength); // draw center tick line (without label)\\n13drawInterval(centralLength −1); // recursively draw bottom interval\\n14}\\n15}\\n16 private static void drawLine( inttickLength, inttickLabel) {\\n17 for(intj=0 ;j <tickLength; j++)\\n18System.out.print( \"-\");\\n19 if(tickLabel >=0 )\\n20System.out.print( \"\"+ tickLabel);\\n21System.out.print( \"\\\\n\");\\n22}\\n23/∗∗Draws a line with the given tick length (but no label). ∗/\\n24 private static void drawLine( inttickLength) {\\n25drawLine(tickLength, −1);\\n26}\\nCode Fragment 5.2: A recursive implementation of a method that draws a ruler.\\nwww.it-ebooks.info'), Document(metadata={'start_index': 0}, page_content='5.1. Illustrative Examples 195\\nIllustrating Ruler Drawing Using a Recursion Trace\\nThe execution of the recursive drawInterval method can be visualized using a re-\\ncursion trace. The trace for drawInterval is more complicated than in the factorial\\nexample, however, because each instance makes two recursive calls. To illustratethis, we will show the recursion trace in a form that is reminiscent of an outline for\\na document. See Figure 5.3.\\n(previous pattern repeats)drawInterval(3)\\ndrawInterval(2)\\ndrawInterval(1)\\ndrawInterval(1)drawInterval(0)\\ndrawLine(1)\\ndrawInterval(0)\\ndrawInterval(0)\\ndrawLine(1)\\ndrawInterval(0)\\ndrawLine(3)\\ndrawInterval(2)drawLine(2)Output\\nFigure 5.3: A partial recursion trace for the call drawInterval(3) . The second pattern\\nof calls for drawInterval(2) is not shown, but it is identical to the ﬁrst.\\nwww.it-ebooks.info'), Document(metadata={'start_index': 0}, page_content='196 Chapter 5. Recursion\\n5.1.3 Binary Search\\nIn this section, we describe a classic recursive algorithm, binary search , used to\\nefﬁciently locate a target value within a sorted sequence of nelements stored in\\nan array. This is among the most important of computer algorithms, and it is the\\nreason that we so often store data in sorted order (as in Figure 5.4).\\n375 01234 6789 1 0 1 1 1 2 1 3 1 4 1 5\\n9 24578 1 2 1 4 1 7 1 9 2 2 2 5 2 7 2 8 3 3\\nFigure 5.4: Values stored in sorted order within an array. The numbers at top are\\nthe indices.\\nWhen the sequence is unsorted , the standard approach to search for a target\\nvalue is to use a loop to examine every element, until either ﬁnding the target orexhausting the data set. This algorithm is known as linear search ,o r sequential\\nsearch , and it runs in O(n)time (i.e., linear time) since every element is inspected\\nin the worst case.\\nWhen the sequence is sorted and indexable , there is a more efﬁcient algorithm.'), Document(metadata={'start_index': 867}, page_content='in the worst case.\\nWhen the sequence is sorted and indexable , there is a more efﬁcient algorithm.\\n(For intuition, think about how you would accomplish this task by hand!) If weconsider an arbitrary element of the sequence with value v, we can be sure that all\\nelements prior to that in the sequence have values less than or equal to v, and that all\\nelements after that element in the sequence have values greater than or equal to v.\\nThis observation allows us to quickly “home in” on a search target using a variantof the children’s game “high-low.” We call an element of the sequence a candidate\\nif, at the current stage of the search, we cannot rule out that this item matches the\\ntarget. The algorithm maintains two parameters, low andhigh , such that all the\\ncandidate elements have index at least low and at most high . Initially, low=0a n d\\nhigh =n−1. We then compare the target value to the median candidate ,t h a ti s ,\\nthe element with index\\nmid=⌊(low+high)/2⌋.\\nWe consider three cases:'), Document(metadata={'start_index': 1797}, page_content='the element with index\\nmid=⌊(low+high)/2⌋.\\nWe consider three cases:\\n•If the target equals the median candidate, then we have found the item we are\\nlooking for, and the search terminates successfully.\\n•If the target is less than the median candidate, then we recur on the ﬁrst half\\nof the sequence, that is, on the interval of indices from low tomid−1.\\n•If the target is greater than the median candidate, then we recur on the second\\nhalf of the sequence, that is, on the interval of indices from mid+1t ohigh .\\nAn unsuccessful search occurs if low>high , as the interval [low,high]is empty.\\nwww.it-ebooks.info'), Document(metadata={'start_index': 0}, page_content='5.1. Illustrative Examples 197\\nThis algorithm is known as binary search . W eg i v eaJ a v ai m p l e m e n t a t i o ni n\\nCode Fragment 5.3, and an illustration of the execution of the algorithm in Fig-\\nure 5.5. Whereas sequential search runs in O(n)time, the more efﬁcient binary\\nsearch runs in O(logn)time. This is a signiﬁcant improvement, given that if nis\\n1 billion, log nis only 30. (We defer our formal analysis of binary search’s running\\ntime to Proposition 5.2 in Section 5.2.)\\n1/∗∗\\n2∗Returns true if the target value is found in the indicated portion of the data array.\\n3∗This search only considers the array portion from data[low] to data[high] inclusive.\\n4∗/\\n5public static boolean binarySearch( int[ ] data, inttarget, intlow, inthigh){\\n6 if(low >high)\\n7 return false ; // interval empty; no match\\n8 else{\\n9 intmid = (low + high) / 2;\\n10 if(target == data[mid])\\n11 return true ; // found a match\\n12 else if(target <data[mid])'), Document(metadata={'start_index': 849}, page_content='10 if(target == data[mid])\\n11 return true ; // found a match\\n12 else if(target <data[mid])\\n13 returnbinarySearch(data, target, low, mid −1);// recur left of the middle\\n14 else\\n15 returnbinarySearch(data, target, mid + 1, high); // recur right of the middle\\n16}\\n17}\\nCode Fragment 5.3: An implementation of the binary search algorithm on a sorted\\narray.\\nmidhigh\\nhigh low\\nlow midlow mid\\nlow=mid=highhigh14 19 22 25 27 28 33 376789 1 0 1 1 1 2 1 3 1 4 1 5\\n7 5 4 29 8\\n9 24578 1 2 1 4 1 737 33 28 27 25 22 19\\n9 24578 1 2 1 4 1 7 1 9 2 2 2 5 2 7 2 8 3 3 3 7\\n19 22 25 27 28 33 375 01234\\n17 14 12\\n9 24578 1 2 1 7\\nFigure 5.5: Example of a binary search for target value 22 on a sorted array with 16\\nelements.\\nwww.it-ebooks.info'), Document(metadata={'start_index': 0}, page_content='198 Chapter 5. Recursion\\n5.1.4 File Systems\\nModern operating systems deﬁne ﬁle-system directories (also called “folders”) in\\na recursive way. Namely, a ﬁle system consists of a top-level directory, and thecontents of this directory consists of ﬁles and other directories, which in turn can\\ncontain ﬁles and other directories, and so on. The operating system allows directo-\\nries to be nested arbitrarily deeply (as long as there is enough memory), althoughby necessity there must be some base directories that contain only ﬁles, not fur-ther subdirectories. A representation of a portion of such a ﬁle system is given inFigure 5.6.\\n/user/rt/courses/\\ncs016/ cs252/\\nprograms/ homeworks/ projects/\\npapers/ demos/hw1 hw2 hw3 pr1 pr2 pr3grades\\nmarket buylow sellhighgrades\\nFigure 5.6: A portion of a ﬁle system demonstrating a nested organization.\\nGiven the recursive nature of the ﬁle-system representation, it should not come'), Document(metadata={'start_index': 843}, page_content='Given the recursive nature of the ﬁle-system representation, it should not come\\nas a surprise that many common behaviors of an operating system, such as copyinga directory or deleting a directory, are implemented with recursive algorithms. Inthis section, we consider one such algorithm: computing the total disk usage for all\\nﬁles and directories nested within a particular directory.\\nFor illustration, Figure 5.7 portrays the disk space being used by all entries in\\nour sample ﬁle system. We differentiate between the immediate disk space used by\\neach entry and the cumulative disk space used by that entry and all nested features.\\nFor example, the cs016 directory uses only 2K of immediate space, but a total of\\n249K of cumulative space.\\nwww.it-ebooks.info'), Document(metadata={'start_index': 0}, page_content='5.1. Illustrative Examples 199\\n/user/rt/courses/\\ncs016/ cs252/\\nprograms/ homeworks/ projects/\\npapers/ demos/ hw1\\n3Khw2\\n2Khw3\\n4Kpr1\\n57Kpr2\\n97Kpr3\\n74Kgrades\\n8K\\nmarket\\n4786Kbuylow\\n26Ksellhigh\\n55Kgrades\\n3K2K 1K1K\\n1K 1K 1K\\n1K 1K10K 229K 4870K\\n82K 4787K5124K\\n249K 4874K\\nFigure 5.7: The same portion of a ﬁle system given in Figure 5.6, but with additional\\nannotations to describe the amount of disk space that is used. Within the icon foreach ﬁle or directory is the amount of space directly used by that artifact. Above\\nthe icon for each directory is an indication of the cumulative disk space used by\\nthat directory and all its (recursive) contents.\\nThe cumulative disk space for an entry can be computed with a simple recursive\\nalgorithm. It is equal to the immediate disk space used by the entry plus the sum\\nof the cumulative disk space usage of any entries that are stored directly within\\nthe entry. For example, the cumulative disk space for cs016 is 249K because it'), Document(metadata={'start_index': 889}, page_content='the entry. For example, the cumulative disk space for cs016 is 249K because it\\nuses 2K itself, 8K cumulatively in grades , 10K cumulatively in homeworks ,a n d\\n229K cumulatively in programs . Pseudocode for this algorithm is given in Code\\nFragment 5.4.\\nAlgorithm DiskUsage( path):\\nInput: A string designating a path to a ﬁle-system entry\\nOutput: The cumulative disk space used by that entry and any nested entries\\ntotal =size(path ) {immediate disk space used by the entry }\\nifpath represents a directory then\\nforeach child entry stored within directory path do\\ntotal =total +DiskUsage (child ) {recursive call }\\nreturn total\\nCode Fragment 5.4: An algorithm for computing the cumulative disk space usage\\nnested at a ﬁle-system entry. We presume that method size returns the immediate\\ndisk space of an entry.\\nwww.it-ebooks.info'), Document(metadata={'start_index': 0}, page_content='200 Chapter 5. Recursion\\nThe java.io.File Class\\nTo implement a recursive algorithm for computing disk usage in Java, we rely on\\nthejava.io.File class. An instance of this class represents an abstract pathname in\\nthe operating system and allows for properties of that operating system entry to bequeried. We will rely on the following methods of the class:\\n•new File(pathString) ornew File(parentFile, childString)\\nAn e wFile instance can be constructed either by providing the full path as\\na string, or by providing an existing File instance that represents a directory\\nand a string that designates the name of a child entry within that directory.\\n•ﬁle.length()\\nReturns the immediate disk usage (measured in bytes) for the operating sys-tem entry represented by the File instance (e.g., /user/rt/courses ).\\n•ﬁle.isDirectory()\\nReturnstrue if theFile instance represents a directory; false otherwise.\\n•ﬁle.list()\\nReturns an array of strings designating the names of all entries within the'), Document(metadata={'start_index': 899}, page_content='•ﬁle.list()\\nReturns an array of strings designating the names of all entries within the\\ngiven directory. In our sample ﬁle system, if we call this method on the\\nFile associated with path /user/rt/courses/cs016 , it returns an array with\\ncontents: {\"grades\" ,\"homeworks\" ,\"programs\" }.\\nJava Implementation\\nWith use of the File class, we now convert the algorithm from Code Fragment 5.4\\ninto the Java implementation of Code Fragment 5.5.\\n1/∗∗\\n2∗Calculates the total disk usage (in bytes) of the portion of the ﬁle system rooted\\n3∗at the given path, while printing a summary akin to the standard \\'du\\'Unix tool.\\n4∗/\\n5public static long diskUsage(File root) {\\n6 longtotal = root.length(); // start with direct disk usage\\n7 if(root.isDirectory()) { // and if this is a directory,\\n8 for(String childname : root.list()) { // then for each child\\n9 File child = newFile(root, childname); // compose full path to child\\n10 total += diskUsage(child); // add child’s usage to total\\n11}\\n12}'), Document(metadata={'start_index': 1807}, page_content='10 total += diskUsage(child); // add child’s usage to total\\n11}\\n12}\\n13System.out.println(total + \"\\\\t\"+r o o t ) ; // descriptive output\\n14 returntotal; // return the grand total\\n15}\\nCode Fragment 5.5: A recursive method for reporting disk usage of a ﬁle system.\\nwww.it-ebooks.info'), Document(metadata={'start_index': 0}, page_content='5.1. Illustrative Examples 201\\nRecursion Trace\\nTo produce a different form of a recursion trace, we have included an extraneous\\nprint statement within our Java implementation (line 13 of Code Fragment 5.5).\\nThe precise format of that output intentionally mirrors the output that is produced\\nby a classic Unix/Linux utility named du(for “disk usage”). It reports the amount\\nof disk space used by a directory and all contents nested within, and can produce averbose report, as given in Figure 5.8.\\nWhen executed on the sample ﬁle system portrayed in Figure 5.7, our imple-\\nmentation of the diskUsage method produces the result given in Figure 5.8. During\\nthe execution of the algorithm, exactly one recursive call is made for each entry inthe portion of the ﬁle system that is considered. Because each line is printed justbefore returning from a recursive call, the lines of output reﬂect the order in which\\nthe recursive calls are completed . Notice that it computes and reports the cumula-'), Document(metadata={'start_index': 906}, page_content='the recursive calls are completed . Notice that it computes and reports the cumula-\\ntive disk space for a nested entry before computing and reporting the cumulativedisk space for the directory that contains it. For example, the recursive calls regard-ing entries grades ,homeworks ,a n dprograms are computed before the cumulative\\ntotal for the directory /user/rt/courses/cs016 that contains them.\\n8 /user/rt/courses/cs016/grades\\n3 /user/rt/courses/cs016/homeworks/hw12 /user/rt/courses/cs016/homeworks/hw24 /user/rt/courses/cs016/homeworks/hw3\\n10 /user/rt/courses/cs016/homeworks\\n57 /user/rt/courses/cs016/programs/pr197 /user/rt/courses/cs016/programs/pr274 /user/rt/courses/cs016/programs/pr3229 /user/rt/courses/cs016/programs\\n249 /user/rt/courses/cs016\\n26 /user/rt/courses/cs 252/projects/papers/buylow\\n55 /user/rt/courses/cs252/projects/papers/sellhigh82 /user/rt/courses/cs252/projects/papers4786 /user/rt/courses/cs252/projects/demos/market\\n4787 /user/rt/courses/cs252/projects/demos'), Document(metadata={'start_index': 1855}, page_content='4787 /user/rt/courses/cs252/projects/demos\\n4870 /user/rt/courses/cs252/projects3 /user/rt/courses/cs252/grades4874 /user/rt/courses/cs252\\n5124 /user/rt/courses/\\nFigure 5.8: A report of the disk usage for the ﬁle system shown in Figure 5.7, as\\ngenerated by our diskUsage method from Code Fragment 5.5, or equivalently by\\nthe Unix/Linux command duwith option -a(which lists both directories and ﬁles).\\nwww.it-ebooks.info'), Document(metadata={'start_index': 0}, page_content='202 Chapter 5. Recursion\\n5.2 Analyzing Recursive Algorithms\\nIn Chapter 4, we introduced mathematical techniques for analyzing the efﬁciency\\nof an algorithm, based upon an estimate of the number of primitive operations that\\nare executed by the algorithm. We use notations such as big-Oh to summarize therelationship between the number of operations and the input size for a problem. Inthis section, we demonstrate how to perform this type of running-time analysis torecursive algorithms.\\nWith a recursive algorithm, we will account for each operation that is performed\\nbased upon the particular activation of the method that manages the ﬂow of control\\nat the time it is executed. Stated another way, for each invocation of the method,we only account for the number of operations that are performed within the body ofthat activation. We can then account for the overall number of operations that are\\nexecuted as part of the recursive algorithm by taking the sum, over all activations,'), Document(metadata={'start_index': 898}, page_content='executed as part of the recursive algorithm by taking the sum, over all activations,\\nof the number of operations that take place during each individual activation. (Asan aside, this is also the way we analyze a nonrecursive method that calls othermethods from within its body.)\\nTo demonstrate this style of analysis, we revisit the four recursive algorithms\\npresented in Sections 5.1.1 through 5.1.4: factorial computation, drawing an En-\\nglish ruler, binary search, and computation of the cumulative size of a ﬁle system.In general, we may rely on the intuition afforded by a recursion trace in recogniz-\\ning how many recursive activations occur, and how the parameterization of each\\nactivation can be used to estimate the number of primitive operations that occur\\nwithin the body of that activation. However, each of these recursive algorithms hasa unique structure and form.\\nComputing Factorials'), Document(metadata={'start_index': 1776}, page_content='Computing Factorials\\nIt is relatively easy to analyze the efﬁciency of our method for computing factorials,as described in Section 5.1.1. A sample recursion trace for our factorial method was\\ngiven in Figure 5.1. To compute factorial(n) , we see that there are a total of n+1\\nactivations, as the parameter decreases from nin the ﬁrst call, to n−1 in the second\\ncall, and so on, until reaching the base case with parameter 0.\\nIt is also clear, given an examination of the method body in Code Fragment 5.1,\\nthat each individual activation of factorial executes a constant number of opera-\\ntions. Therefore, we conclude that the overall number of operations for computing\\nfactorial(n) isO(n),a st h e r ea r e n+1 activations, each of which accounts for O(1)\\noperations.\\nwww.it-ebooks.info'), Document(metadata={'start_index': 0}, page_content='5.2. Analyzing Recursive Algorithms 203\\nDrawing an English Ruler\\nIn analyzing the English ruler application from Section 5.1.2, we consider the fun-\\ndamental question of how many total lines of output are generated by an initial call\\ntodrawInterval( c),w h e r e cdenotes the center length. This is a reasonable bench-\\nmark for the overall efﬁciency of the algorithm as each line of output is based upona call to the drawLine utility, and each recursive call to drawInterval with nonzero\\nparameter makes exactly one direct call to drawLine .\\nSome intuition may be gained by examining the source code and the recur-\\nsion trace. We know that a call to drawInterval( c)for c>0 spawns two calls to\\ndrawInterval( c−1)and a single call to drawLine . We will rely on this intuition to\\nprove the following claim.\\nProposition 5.1: For c≥0, a call to drawInterval( c)results in precisely 2c−1\\nlines of output.\\nJustiﬁcation: We provide a formal proof of this claim by induction (see Sec-'), Document(metadata={'start_index': 883}, page_content='lines of output.\\nJustiﬁcation: We provide a formal proof of this claim by induction (see Sec-\\ntion 4.4.3). In fact, induction is a natural mathematical technique for proving the\\ncorrectness and efﬁciency of a recursive process. In the case of the ruler, we note\\nthat an application of drawInterval( 0)generates no output, and that 20−1=1−1=\\n0. This serves as a base case for our claim.\\nMore generally, the number of lines printed by drawInterval( c)is one more\\nthan twice the number generated by a call to drawInterval( c−1), as one center line\\nis printed between two such recursive calls. By induction, we have that the numberof lines is thus 1 +2·(2\\nc−1−1)= 1+2c−2=2c−1.\\nThis proof is indicative of a more mathematically rigorous tool, known as a\\nrecurrence equation , that can be used to analyze the running time of a recursive\\nalgorithm. That technique is discussed in Section 12.1.4, in the context of recursivesorting algorithms.\\nPerforming a Binary Search'), Document(metadata={'start_index': 1819}, page_content='Performing a Binary Search\\nWhen considering the running time of the binary search algorithm, as presentedin Section 5.1.3, we observe that a constant number of primitive operations areexecuted during each recursive call of the binary search method. Hence, the runningtime is proportional to the number of recursive calls performed. We will show thatat most⌊logn⌋+1 recursive calls are made during a binary search of a sequence\\nhaving nelements, leading to the following claim.\\nProposition 5.2: The binary search algorithm runs in O(logn)time for a sorted\\narray with nelements.\\nwww.it-ebooks.info'), Document(metadata={'start_index': 0}, page_content='204 Chapter 5. Recursion\\nJustiﬁcation: To prove this claim, a crucial fact is that with each recursive call\\nthe number of candidate elements still to be searched is given by the value\\nhigh−low+1.\\nMoreover, the number of remaining candidates is reduced by at least one-half with\\neach recursive call. Speciﬁcally, from the deﬁnition of mid, the number of remain-\\ning candidates is either\\n(mid−1)−low+1=/floorleftbigglow+high\\n2/floorrightbigg\\n−low≤high−low+1\\n2\\nor\\nhigh−(mid+1)+1=high−/floorleftbigglow+high\\n2/floorrightbigg\\n≤high−low+1\\n2.\\nInitially, the number of candidates is n; after the ﬁrst call in a binary search, it is\\nat most n/2; after the second call, it is at most n/4; and so on. In general, after\\nthe jthcall in a binary search, the number of candidate elements remaining is at\\nmost n/2j. In the worst case (an unsuccessful search), the recursive calls stop when\\nthere are no more candidate elements. Hence, the maximum number of recursive'), Document(metadata={'start_index': 874}, page_content='there are no more candidate elements. Hence, the maximum number of recursive\\ncalls performed, is the smallest integer rsuch thatn\\n2r<1.\\nIn other words (recalling that we omit a logarithm’s base when it is 2), ris the\\nsmallest integer such that r>logn. Thus, we have\\nr=⌊logn⌋+1,\\nwhich implies that binary search runs in O(logn)time.\\nComputing Disk Space Usage\\nOur ﬁnal recursive algorithm from Section 5.1 was that for computing the overall\\ndisk space usage in a speciﬁed portion of a ﬁle system. To characterize the “prob-lem size” for our analysis, we let ndenote the number of ﬁle-system entries in the\\nportion of the ﬁle system that is considered. (For example, the ﬁle system portrayed\\nin Figure 5.6 has n=19 entries.)\\nTo characterize the cumulative time spent for an initial call to diskUsage ,w e\\nmust analyze the total number of recursive invocations that are made, as well as thenumber of operations that are executed within those invocations.'), Document(metadata={'start_index': 1826}, page_content='We begin by showing that there are precisely nrecursive invocations of the\\nmethod, in particular, one for each entry in the relevant portion of the ﬁle system.Intuitively, this is because a call to diskUsage for a particular entry eof the ﬁle\\nsystem is only made from within the for loop of Code Fragment 5.5 when process-ing the entry for the unique directory that contains e, and that entry will only be\\nexplored once.\\nwww.it-ebooks.info'), Document(metadata={'start_index': 0}, page_content='5.2. Analyzing Recursive Algorithms 205\\nTo formalize this argument, we can deﬁne the nesting level of each entry such\\nthat the entry on which we begin has nesting level 0, entries stored directly within\\nit have nesting level 1, entries stored within those entries have nesting level 2, andso on. We can prove by induction that there is exactly one recursive invocation ofdiskUsage upon each entry at nesting level k. As a base case, when k=0, the only\\nrecursive invocation made is the initial one. As the inductive step, once we know\\nthere is exactly one recursive invocation for each entry at nesting level k, we can\\nclaim that there is exactly one invocation for each entry eat nesting level k+1,\\nmade within the for loop for the entry at level kthat contains e.\\nHaving established that there is one recursive call for each entry of the ﬁle\\nsystem, we return to the question of the overall computation time for the algorithm.'), Document(metadata={'start_index': 843}, page_content='system, we return to the question of the overall computation time for the algorithm.\\nIt would be great if we could argue that we spend O(1)time in any single invocation\\nof the method, but that is not the case. While there is a constant number of stepsreﬂected in the call to root.length() to compute the disk usage directly at that entry,\\nwhen the entry is a directory, the body of the diskUsage method includes a for loop\\nthat iterates over all entries that are contained within that directory. In the worst\\ncase, it is possible that one entry includes n−1 others.\\nBased on this reasoning, we could conclude that there are O(n)recursive calls,\\neach of which runs in O(n)time, leading to an overall running time that is O(n\\n2).\\nWhile this upper bound is technically true, it is not a tight upper bound. Remark-ably, we can prove the stronger bound that the recursive algorithm for diskUsage\\ncompletes in O(n)time! The weaker bound was pessimistic because it assumed'), Document(metadata={'start_index': 1734}, page_content='completes in O(n)time! The weaker bound was pessimistic because it assumed\\na worst-case number of entries for each directory. While it is possible that somedirectories contain a number of entries proportional to n, they cannot all contain\\nthat many. To prove the stronger claim, we choose to consider the overall number\\nof iterations of the for loop across all recursive calls. We claim there are precisely\\nn−1 such iterations of that loop overall. We base this claim on the fact that each\\niteration of that loop makes a recursive call to diskUsage , and yet we have already\\nconcluded that there are a total of ncalls todiskUsage (including the original call).\\nWe therefore conclude that there are O(n)recursive calls, each of which uses O(1)\\ntime outside the loop, and that the overall number of operations due to the loop\\nisO(n). Summing all of these bounds, the overall number of operations is O(n).\\nThe argument we have made is more advanced than with the earlier examples'), Document(metadata={'start_index': 2637}, page_content='The argument we have made is more advanced than with the earlier examples\\nof recursion. The idea that we can sometimes get a tighter bound on a series ofoperations by considering the cumulative effect, rather than assuming that each\\nachieves a worst case is a technique called amortization ; we will see another ex-\\nample of such analysis in Section 7.2.3. Furthermore, a ﬁle system is an implicitexample of a data structure known as a tree, and our disk usage algorithm is really\\na manifestation of a more general algorithm known as a tree traversal . Trees will\\nbe the focus of Chapter 8, and our argument about the O(n)running time of the\\ndisk usage algorithm will be generalized for tree traversals in Section 8.4.\\nwww.it-ebooks.info'), Document(metadata={'start_index': 0}, page_content='206 Chapter 5. Recursion\\n5.3 Further Examples of Recursion\\nIn this section, we provide additional examples of the use of recursion. We organize\\nour presentation by considering the maximum number of recursive calls that maybe started from within the body of a single activation.\\n•If a recursive call starts at most one other, we call this a linear recursion .\\n•If a recursive call may start two others, we call this a binary recursion .\\n•If a recursive call may start three or more others, this is multiple recursion .\\n5.3.1 Linear Recursion\\nIf a recursive method is designed so that each invocation of the body makes at\\nmost one new recursive call, this is know as linear recursion . Of the recursions\\nwe have seen so far, the implementation of the factorial method (Section 5.1.1) is aclear example of linear recursion. More interestingly, the binary search algorithm(Section 5.1.3) is also an example of linear recursion , despite the term “binary”'), Document(metadata={'start_index': 951}, page_content='in the name. The code for binary search (Code Fragment 5.3) includes a case\\nanalysis, with two branches that lead to a further recursive call, but only one branch\\nis followed during a particular execution of the body.\\nA consequence of the deﬁnition of linear recursion is that any recursion trace\\nwill appear as a single sequence of calls, as we originally portrayed for the factorialmethod in Figure 5.1 of Section 5.1.1. Note that the linear recursion terminol-\\nogy reﬂects the structure of the recursion trace, not the asymptotic analysis of the\\nrunning time; for example, we have seen that binary search runs in O(logn)time.\\nSumming the Elements of an Array Recursively\\nLinear recursion can be a useful tool for processing a sequence, such as a Java array.\\nSuppose, for example, that we want to compute the sum of an array of nintegers.\\nWe can solve this summation problem using linear recursion by observing that if'), Document(metadata={'start_index': 1792}, page_content='We can solve this summation problem using linear recursion by observing that if\\nn=0 the sum is trivially 0, and otherwise it is the sum of the ﬁrst n−1i n t e g e r si n\\nthe array plus the last value in the array. (See Figure 5.9.)\\n4362893285172835\\n701234 6789 1 0 1 1 1 2 1 3 1 4 1 5\\nFigure 5.9: Computing the sum of a sequence recursively, by adding the last number\\nto the sum of the ﬁrst n−1.\\nwww.it-ebooks.info'), Document(metadata={'start_index': 0}, page_content='5.3. Further Examples of Recursion 207\\nA recursive algorithm for computing the sum of an array of integers based on\\nthis intuition is implemented in Code Fragment 5.6.\\n1/∗∗Returns the sum of the ﬁrst n integers of the given array. ∗/\\n2public static int linearSum( int[ ] data, intn){\\n3 if(n == 0)\\n4 return0;\\n5 else\\n6 returnlinearSum(data, n −1) + data[n −1];\\n7}\\nCode Fragment 5.6: Summing an array of integers using linear recursion.\\nA recursion trace of the linearSum method for a small example is given in\\nFigure 5.10. For an input of size n,t h elinearSum algorithm makes n+1 method\\ncalls. Hence, it will take O(n)time, because it spends a constant amount of time\\nperforming the nonrecursive part of each call. Moreover, we can also see that the\\nmemory space used by the algorithm (in addition to the array) is also O(n),a sw e\\nuse a constant amount of memory space for each of the n+1 frames in the trace at\\nthe time we make the ﬁnal recursive call (with n=0).\\nreturn15 + data[4] = 15 + 8 = 23'), Document(metadata={'start_index': 912}, page_content='the time we make the ﬁnal recursive call (with n=0).\\nreturn15 + data[4] = 15 + 8 = 23\\nlinearSum(data, 4)\\nlinearSum(data, 3)\\nlinearSum(data, 2)\\nlinearSum(data, 1)\\nlinearSum(data, 0)linearSum(data, 5)\\nreturn0return0+d a t a [ 0 ]=0+4=4return4+d a t a [ 1 ]=4+3=7return7+d a t a [ 2 ]=7+6=1 3return13 + data[3] = 13 + 2 = 15\\nFigure 5.10: Recursion trace for an execution of linearSum(data, 5) with input\\nparameter d a t a=4 ,3 ,6 ,2 ,8 .\\nwww.it-ebooks.info'), Document(metadata={'start_index': 0}, page_content='208 Chapter 5. Recursion\\nReversing a Sequence with Recursion\\nNext, let us consider the problem of reversing the nelements of an array, so that\\nthe ﬁrst element becomes the last, the second element becomes second to the last,\\nand so on. We can solve this problem using linear recursion, by observing that thereversal of a sequence can be achieved by swapping the ﬁrst and last elements andthen recursively reversing the remaining elements. We present an implementationof this algorithm in Code Fragment 5.7, using the convention that the ﬁrst time we\\ncall this algorithm we do so as reverseArray(data, 0, n −1).\\n1/∗∗Reverses the contents of subarray data[low] through data[high] inclusive. ∗/\\n2public static void reverseArray( int[ ] data, intlow, inthigh){\\n3 if(low <high){ // if at least two elements in subarray\\n4 inttemp = data[low]; // swap data[low] and data[high]\\n5data[low] = data[high];\\n6data[high] = temp;\\n7reverseArray(data, low + 1, high −1);// recur on the rest\\n8}\\n9}'), Document(metadata={'start_index': 895}, page_content='6data[high] = temp;\\n7reverseArray(data, low + 1, high −1);// recur on the rest\\n8}\\n9}\\nCode Fragment 5.7: Reversing the elements of an array using linear recursion.\\nWe note that whenever a recursive call is made, there will be two fewer elements\\nin the relevant portion of the array. (See Figure 5.11.) Eventually a base case is\\nreached when the condition low<high fails, either because low == high in the\\ncase that nis odd, or because low == high + 1 in the case that nis even.\\nThe above argument implies that the recursive algorithm of Code Fragment 5.7\\nis guaranteed to terminate after a total of 1 +/floorleftbign\\n2/floorrightbig\\nrecursive calls. Because each call\\ninvolves a constant amount of work, the entire process runs in O(n)time.\\n94895\\n77775 01234 6\\n5985985965367\\n436\\n72222\\n26346348348\\nFigure 5.11: A trace of the recursion for reversing a sequence. The highlighted\\nportion has yet to be reversed.\\nwww.it-ebooks.info'), Document(metadata={'start_index': 0}, page_content='5.3. Further Examples of Recursion 209\\nRecursive Algorithms for Computing Powers\\nAs another interesting example of the use of linear recursion, we consider the prob-\\nlem of raising a number xto an arbitrary nonnegative integer n. That is, we wish\\nto compute the power function ,d e ﬁ n e da s power (x,n)= xn. (We use the name\\n“power” for this discussion, to differentiate from the pow method of the Math class,\\nwhich provides such functionality.) We will consider two different recursive for-mulations for the problem that lead to algorithms with very different performance.\\nA trivial recursive deﬁnition follows from the fact that x\\nn=x·xn−1forn>0.\\npower (x,n)=/braceleftbigg1i f n=0\\nx·power (x,n−1)otherwise.\\nThis deﬁnition leads to a recursive algorithm shown in Code Fragment 5.8.\\n1/∗∗Computes the value of x raised to the nth power, for nonnegative integer n. ∗/\\n2public static double power( doublex,intn){\\n3 if(n == 0)\\n4 return1;\\n5 else\\n6 returnx∗power(x, n −1);\\n7}'), Document(metadata={'start_index': 913}, page_content='3 if(n == 0)\\n4 return1;\\n5 else\\n6 returnx∗power(x, n −1);\\n7}\\nCode Fragment 5.8: Computing the power function using trivial recursion.\\nA recursive call to this version of power (x,n)runs in O(n)time. Its recursion\\ntrace has structure very similar to that of the factorial function from Figure 5.1,with the parameter decreasing by one with each call, and constant work performedat each of n+1 levels.\\nHowever, there is a much faster way to compute the power function using an\\nalternative deﬁnition that employs a squaring technique. Let k=/floorleftbig\\nn\\n2/floorrightbig\\ndenote the\\nﬂoor of the integer division (equivalent to n/2 in Java when nis anint). We consider\\nthe expression/parenleftbig\\nxk/parenrightbig2.W h e n nis even,/floorleftbign\\n2/floorrightbig\\n=n\\n2and therefore/parenleftbig\\nxk/parenrightbig2=/parenleftBig\\nxn\\n2/parenrightBig2\\n=xn.\\nWhen nis odd,/floorleftbign\\n2/floorrightbig\\n=n−1\\n2and/parenleftbig\\nxk/parenrightbig2=xn−1, and therefore xn=/parenleftbig\\nxk/parenrightbig2·x,j u s ta s'), Document(metadata={'start_index': 1826}, page_content='xk/parenrightbig2=xn−1, and therefore xn=/parenleftbig\\nxk/parenrightbig2·x,j u s ta s\\n213=/parenleftbig\\n26·26/parenrightbig\\n·2. This analysis leads to the following recursive deﬁnition:\\npower (x,n)=⎧\\n⎪⎨\\n⎪⎩1i f n=0/parenleftbig\\npower/parenleftbig\\nx,/floorleftbign\\n2/floorrightbig/parenrightbig/parenrightbig2·xifn>0 is odd/parenleftbig\\npower/parenleftbig\\nx,/floorleftbign\\n2/floorrightbig/parenrightbig/parenrightbig2ifn>0i se v e n\\nIf we were to implement this recursion making two recursive calls to compute\\npower (x,/floorleftbign\\n2/floorrightbig\\n)·power (x,/floorleftbign\\n2/floorrightbig\\n), a trace of the recursion would demonstrate O(n)\\ncalls. We can perform signiﬁcantly fewer operations by computing power (x,/floorleftbign\\n2/floorrightbig\\n)\\nand storing it in a variable as a partial result, and then multiplying it by itself. An\\nimplementation based on this recursive deﬁnition is given in Code Fragment 5.9.\\nwww.it-ebooks.info'), Document(metadata={'start_index': 0}, page_content='210 Chapter 5. Recursion\\n1/∗∗Computes the value of x raised to the nth power, for nonnegative integer n. ∗/\\n2public static double power( doublex,intn){\\n3 if(n == 0)\\n4 return1;\\n5 else{\\n6 doublepartial = power(x, n/2); // rely on truncated division of n\\n7 doubleresult = partial ∗partial;\\n8 if(n % 2 == 1) // if n odd, include extra factor of x\\n9 result ∗=x ;\\n10 returnresult;\\n11}\\n12}\\nCode Fragment 5.9: Computing the power function using repeated squaring.\\nTo illustrate the execution of our improved algorithm, Figure 5.12 provides a\\nrecursion trace of the computation power(2, 13) .\\nreturn 64∗64∗2 = 8192\\npower(2, 13)\\npower(2, 6)\\npower(2, 3)\\npower(2, 1)\\npower(2, 0)return 1return 1∗1∗2=2return 2∗2∗2=8return 8∗8=6 4\\nFigure 5.12: Recursion trace for an execution of power(2, 13) .\\nTo analyze the running time of the revised algorithm, we observe that the ex-\\nponent in each recursive call of method power(x,n) is at most half of the preceding'), Document(metadata={'start_index': 859}, page_content='ponent in each recursive call of method power(x,n) is at most half of the preceding\\nexponent. As we saw with the analysis of binary search, the number of times that\\nwe can divide nby two before getting to one or less is O(logn). Therefore, our new\\nformulation of power results in O(logn)recursive calls. Each individual activation\\nof the method uses O(1)operations (excluding the recursive call), and so the total\\nnumber of operations for computing power(x,n) isO(logn). T h i si sas i g n i ﬁ c a n t\\nimprovement over the original O(n)-time algorithm.\\nThe improved version also provides signiﬁcant saving in reducing the memory\\nusage. The ﬁrst version has a recursive depth of O(n), and therefore, O(n)frames\\nare simultaneously stored in memory. Because the recursive depth of the improved\\nversion is O(logn), its memory usage is O(logn)as well.\\nwww.it-ebooks.info'), Document(metadata={'start_index': 0}, page_content='5.3. Further Examples of Recursion 211\\n5.3.2 Binary Recursion\\nWhen a method makes two recursive calls, we say that it uses binary recursion .\\nWe have already seen an example of binary recursion when drawing the Englishruler (Section 5.1.2). As another application of binary recursion, let us revisit theproblem of summing the nintegers of an array. Computing the sum of one or zero\\nvalues is trivial. With two or more values, we can recursively compute the sum of\\nthe ﬁrst half, and the sum of the second half, and add those sums together. Ourimplementation of such an algorithm, in Code Fragment 5.10, is initially invokedasbinarySum(data, 0, n −1).\\n1/∗∗Returns the sum of subarray data[low] through data[high] inclusive. ∗/\\n2public static int binarySum( int[ ] data, intlow, inthigh){\\n3 if(low >high) // zero elements in subarray\\n4 return0;\\n5 else if(low == high) // one element in subarray\\n6 returndata[low];\\n7 else{\\n8 intmid = (low + high) / 2;'), Document(metadata={'start_index': 893}, page_content='6 returndata[low];\\n7 else{\\n8 intmid = (low + high) / 2;\\n9 returnbinarySum(data, low, mid) + binarySum(data, mid+1, high);\\n10}\\n11}\\nCode Fragment 5.10: Summing the elements of a sequence using binary recursion.\\nTo analyze algorithm binarySum , we consider, for simplicity, the case where\\nnis a power of two. Figure 5.13 shows the recursion trace of an execution of\\nbinarySum(data, 0, 7) . We label each box with the values of parameters low and\\nhigh for that call. The size of the range is divided in half at each recursive call,\\nand so the depth of the recursion is 1 +log2n. Therefore, binarySum uses O(logn)\\namount of additional space, which is a big improvement over the O(n)space used\\nby thelinearSum method of Code Fragment 5.6. However, the running time of\\nbinarySum isO(n),a st h e r ea r e2 n−1 method calls, each requiring constant time.\\n0,0 1,1 2,2 4,4 6,6 7,7 3,3 5,50,1 4,5 6,7 2,30,3 4,70,7\\nFigure 5.13: Recursion trace for the execution of binarySum(data, 0, 7) .\\nwww.it-ebooks.info'), Document(metadata={'start_index': 0}, page_content='212 Chapter 5. Recursion\\n5.3.3 Multiple Recursion\\nGeneralizing from binary recursion, we deﬁne multiple recursion as a process in\\nwhich a method may make more than two recursive calls. Our recursion for an-\\nalyzing the disk space usage of a ﬁle system (see Section 5.1.4) is an example of\\nmultiple recursion, because the number of recursive calls made during one invoca-tion was equal to the number of entries within a given directory of the ﬁle system.\\nAnother common application of multiple recursion is when we want to enumer-\\nate various conﬁgurations in order to solve a combinatorial puzzle. For example,\\nthe following are all instances of what are known as summation puzzles :\\npot+pan = bib\\ndog+cat = pig\\nboy+girl = baby\\nTo solve such a puzzle, we need to assign a unique digit (that is, 0 ,1,..., 9) to each'), Document(metadata={'start_index': 728}, page_content='To solve such a puzzle, we need to assign a unique digit (that is, 0 ,1,..., 9) to each\\nletter in the equation, in order to make the equation true. Typically, we solve sucha puzzle by using our human observations of the particular puzzle we are trying tosolve to eliminate conﬁgurations (that is, possible partial assignments of digits to\\nletters) until we can work through the feasible conﬁgurations that remain, testing\\nfor the correctness of each one.\\nIf the number of possible conﬁgurations is not too large, however, we can use\\na computer to simply enumerate all the possibilities and test each one, without em-ploying any human observations. Such an algorithm can use multiple recursion\\nto work through the conﬁgurations in a systematic way. To keep the description\\ngeneral enough to be used with other puzzles, we consider an algorithm that enu-merates and tests all k-length sequences, without repetitions, chosen from a given'), Document(metadata={'start_index': 1663}, page_content='universe U. We show pseudocode for such an algorithm in Code Fragment 5.11,\\nbuilding the sequence of kelements with the following steps:\\n1.Recursively generating the sequences of k−1e l e m e n t s\\n2.Appending to each such sequence an element not already contained in it.\\nThroughout the execution of the algorithm, we use a set Uto keep track of the\\nelements not contained in the current sequence, so that an element ehas not been\\nused yet if and only if eis in U.\\nAnother way to look at the algorithm of Code Fragment 5.11 is that it enumer-\\nates every possible size- kordered subset of U, and tests each subset for being a\\npossible solution to our puzzle.\\nFor summation puzzles, U={0,1,2,3,4,5,6,7,8,9}and each position in the\\nsequence corresponds to a given letter. For example, the ﬁrst position could stand\\nforb, the second for o, the third for y, and so on.\\nwww.it-ebooks.info'), Document(metadata={'start_index': 0}, page_content='5.3. Further Examples of Recursion 213\\nAlgorithm PuzzleSolve( k,S,U):\\nInput: An integer k, sequence S, and set U\\nOutput: An enumeration of all k-length extensions to Susing elements in U\\nwithout repetitions\\nforeach einUdo\\nAdd eto the end of S\\nRemove efrom U {eis now being used }\\nifk==1then\\nTest whether Sis a conﬁguration that solves the puzzle\\nifSsolves the puzzle then\\nadd Sto output {a solution }\\nelse\\nPuzzleSolve (k−1,S,U) {a recursive call }\\nRemove efrom the end of S\\nAdd eback to U {eis now considered as unused }\\nCode Fragment 5.11: Solving a combinatorial puzzle by enumerating and testing\\nall possible conﬁgurations.\\nIn Figure 5.14, we show a recursion trace of a call to PuzzleSolve( 3,S,U),\\nwhere Sis empty and U={a,b,c}. During the execution, all the permutations\\nof the three characters are generated and tested. Note that the initial call makesthree recursive calls, each of which in turn makes two more. If we had executed'), Document(metadata={'start_index': 939}, page_content='PuzzleSolve( 3,S,U)on a set Uconsisting of four elements, the initial call would\\nhave made four recursive calls, each of which would have a trace looking like theone in Figure 5.14.\\ninitial call\\nPuzzleSolve(3, (), {a,b,c })\\nPuzzleSolve(2, b, {a,c}) PuzzleSolve(2, c, {a,b})\\nPuzzleSolve(1, ca, {b})PuzzleSolve(2, a, {b,c})\\nPuzzleSolve(1, ab, {c}) PuzzleSolve(1, ba, {c})\\nPuzzleSolve(1, bc, {a}) PuzzleSolve(1, ac, {b}) PuzzleSolve(1, cb, {a})\\nacbabc bac cab\\nbca cba\\nFigure 5.14: Recursion trace for an execution of PuzzleSolve( 3,S,U),w h e r e Sis\\nempty and U={a,b,c}. This execution generates and tests all permutations of a,b,\\nand c. We show the permutations generated directly below their respective boxes.\\nwww.it-ebooks.info'), Document(metadata={'start_index': 0}, page_content='214 Chapter 5. Recursion\\n5.4 Designing Recursive Algorithms\\nAn algorithm that uses recursion typically has the following form:\\n•Test for base cases. We begin by testing for a set of base cases (there should\\nbe at least one). These base cases should be deﬁned so that every possible\\nchain of recursive calls will eventually reach a base case, and the handling of\\neach base case should not use recursion.\\n•Recur. If not a base case, we perform one or more recursive calls. This recur-\\nsive step may involve a test that decides which of several possible recursive\\ncalls to make. We should deﬁne each possible recursive call so that it makes\\nprogress towards a base case.\\nParameterizing a Recursion\\nTo design a recursive algorithm for a given problem, it is useful to think of thedifferent ways we might deﬁne subproblems that have the same general structure\\nas the original problem. If one has difﬁculty ﬁnding the repetitive structure needed'), Document(metadata={'start_index': 855}, page_content='as the original problem. If one has difﬁculty ﬁnding the repetitive structure needed\\nto design a recursive algorithm, it is sometimes useful to work out the problem ona few concrete examples to see how the subproblems should be deﬁned.\\nA successful recursive design sometimes requires that we redeﬁne the origi-\\nnal problem to facilitate similar-looking subproblems. Often, this involved repa-rameterizing the signature of the method. For example, when performing a bi-\\nnary search in an array, a natural method signature for a caller would appear as\\nbinarySearch(data, target) . However, in Section 5.1.3, we deﬁned our method\\nwith calling signature binarySearch(data, target, low, high) , using the additional\\nparameters to demarcate subarrays as the recursion proceeds. This change in pa-\\nrameterization is critical for binary search. Several other examples in this chapter\\n(e.g.,reverseArray ,linearSum ,binarySum ) also demonstrated the use of additional'), Document(metadata={'start_index': 1732}, page_content='(e.g.,reverseArray ,linearSum ,binarySum ) also demonstrated the use of additional\\nparameters in deﬁning recursive subproblems.\\nIf we wish to provide a cleaner public interface to an algorithm without expos-\\ning the user to the recursive parameterization, a standard technique is to make therecursive version private, and to introduce a cleaner public method (that calls the\\nprivate one with appropriate parameters). For example, we might offer the follow-\\ning simpler version of binarySearch for public use:\\n/∗∗Returns true if the target value is found in the data array. ∗/\\npublic static boolean binarySearch( int[ ] data, inttarget){\\nreturnbinarySearch(data, target, 0, data.length −1);// use parameterized version\\n}\\nwww.it-ebooks.info'), Document(metadata={'start_index': 0}, page_content='5.5. Recursion Run Amok 215\\n5.5 Recursion Run Amok\\nAlthough recursion is a very powerful tool, it can easily be misused in various\\nways. In this section, we examine several cases in which a poorly implemented re-cursion causes drastic inefﬁciency, and we discuss some strategies for recognizing\\nand avoid such pitfalls.\\nWe begin by revisiting the element uniqueness problem , deﬁned on page 174\\nof Section 4.3.3. We can use the following recursive formulation to determine if\\nallnelements of a sequence are unique. As a base case, when n=1, the elements\\nare trivially unique. For n≥2, the elements are unique if and only if the ﬁrst n−1\\nelements are unique, the last n−1 items are unique, and the ﬁrst and last elements\\nare different (as that is the only pair that was not already checked as a subcase). A\\nrecursive implementation based on this idea is given in Code Fragment 5.12, named\\nunique3 (to differentiate it from unique1 andunique2 from Chapter 4).'), Document(metadata={'start_index': 888}, page_content='unique3 (to differentiate it from unique1 andunique2 from Chapter 4).\\n1/∗∗Returns true if there are no duplicate values from data[low] through data[high]. ∗/\\n2public static boolean unique3( int[ ] data, intlow, inthigh){\\n3 if(low >=h i g h ) return true ; // at most one item\\n4 else if(!unique3(data, low, high −1))return false ;// duplicate in ﬁrst n −1\\n5 else if(!unique3(data, low+1, high)) return false ;// duplicate in last n −1\\n6 else return (data[low] != data[high]); // do ﬁrst and last diﬀer?\\n7}\\nCode Fragment 5.12: Recursive unique3 for testing element uniqueness.\\nUnfortunately, this is a terribly inefﬁcient use of recursion. The nonrecursive\\npart of each call uses O(1)time, so the overall running time will be proportional to\\nthe total number of recursive invocations. To analyze the problem, we let ndenote\\nthe number of entries under consideration, that is, let n=1+h i g h −low.\\nIfn=1, then the running time of unique3 isO(1), since there are no recursive'), Document(metadata={'start_index': 1784}, page_content='Ifn=1, then the running time of unique3 isO(1), since there are no recursive\\ncalls for this case. In the general case, the important observation is that a single calltounique3 for a problem of size nmay result in two recursive calls on problems of\\nsize n−1. Those two calls with size n−1 could in turn result in four calls (two\\neach) with a range of size n−2, and thus eight calls with size n−3 and so on.\\nThus, in the worst case, the total number of method calls is given by the geometricsummation\\n1+2+4+···+2\\nn−1,\\nw h i c hi se q u a lt o2n−1 by Proposition 4.5. Thus, the running time of method\\nunique3 isO(2n). This is an incredibly inefﬁcient method for solving the ele-\\nment uniqueness problem. Its inefﬁciency comes not from the fact that it usesrecursion—it comes from the fact that it uses recursion poorly, which is something\\nwe address in Exercise C-5.12.\\nwww.it-ebooks.info'), Document(metadata={'start_index': 0}, page_content='216 Chapter 5. Recursion\\nAn Ineﬃcient Recursion for Computing Fibonacci Numbers\\nIn Section 2.2.3, we introduced a process for generating the progression of Fi-\\nbonacci numbers, which can be deﬁned recursively as follows:\\nF0= 0\\nF1= 1\\nFn= Fn−2+Fn−1forn>1.\\nIronically, a recursive implementation based directly on this deﬁnition results in the\\nmethodﬁbonacciBad shown in Code Fragment 5.13, which computes a Fibonacci\\nnumber by making two recursive calls in each non-base case.\\n1/∗∗Returns the nth Fibonacci number (ineﬃciently). ∗/\\n2public static long ﬁbonacciBad( intn){\\n3 if(n<=1 )\\n4 returnn;\\n5 else\\n6 returnﬁbonacciBad(n −2) + ﬁbonacciBad(n −1);\\n7}\\nCode Fragment 5.13: Computing the nthFibonacci number using binary recursion.\\nUnfortunately, such a direct implementation of the Fibonacci formula results\\nin a terribly inefﬁcient method. Computing the nthFibonacci number in this way\\nrequires an exponential number of calls to the method. Speciﬁcally, let cndenote'), Document(metadata={'start_index': 884}, page_content='requires an exponential number of calls to the method. Speciﬁcally, let cndenote\\nthe number of calls performed in the execution of ﬁbonacciBad (n). Then, we have\\nthe following values for the cn’s:\\nc0= 1\\nc1= 1\\nc2= 1+c0+c1=1+1+1=3\\nc3= 1+c1+c2=1+1+3=5\\nc4= 1+c2+c3=1+3+5=9\\nc5= 1+c3+c4=1+5+9=15\\nc6= 1+c4+c5=1+9+15=25\\nc7= 1+c5+c6=1+15+25=41\\nc8= 1+c6+c7=1+25+41=67\\nIf we follow the pattern forward, we see that the number of calls more than doubles\\nfor each two consecutive indices. That is, c4is more than twice c2,c5is more than\\ntwice c3,c6is more than twice c4, and so on. Thus, cn>2n/2, which means that\\nﬁbonacciBad (n)makes a number of calls that is exponential in n.\\nwww.it-ebooks.info'), Document(metadata={'start_index': 0}, page_content='5.5. Recursion Run Amok 217\\nAn Eﬃcient Recursion for Computing Fibonacci Numbers\\nWe were tempted into using the bad recursive formulation because of the way the\\nnthFibonacci number, Fn, depends on the two previous values, Fn−2and Fn−1.B u t\\nnotice that after computing Fn−2, the call to compute Fn−1requires its own recursive\\ncall to compute Fn−2, as it does not have knowledge of the value of Fn−2that was\\ncomputed at the earlier level of recursion. That is duplicative work. Worse yet, both\\nof those calls will need to (re)compute the value of Fn−3, as will the computation\\nofFn−1. This snowballing effect is what leads to the exponential running time of\\nﬁbonacciBad .\\nWe can compute Fnmuch more efﬁciently using a recursion in which each\\ninvocation makes only one recursive call. To do so, we need to redeﬁne the expec-tations of the method. Rather than having the method return a single value, whichis the n\\nthFibonacci number, we deﬁne a recursive method that returns an array with'), Document(metadata={'start_index': 912}, page_content='thFibonacci number, we deﬁne a recursive method that returns an array with\\ntwo consecutive Fibonacci numbers {Fn,Fn−1}, using the convention F−1=0. Al-\\nthough it seems to be a greater burden to report two consecutive Fibonacci numbersinstead of one, passing this extra information from one level of the recursion to thenext makes it much easier to continue the process. (It allows us to avoid having\\nto recompute the second value that was already known within the recursion.) An\\nimplementation based on this strategy is given in Code Fragment 5.14.\\n1/∗∗Returns array containing the pair of Fibonacci numbers, F(n) and F(n −1).∗/\\n2public static long [ ] ﬁbonacciGood( intn){\\n3 if(n<=1 ){\\n4 long[ ] answer = {n, 0};\\n5 returnanswer;\\n6}else{\\n7 long[ ] temp = ﬁbonacciGood(n −1); // returns {Fn−1,Fn−2}\\n8 long[ ] answer = {temp[0] + temp[1], temp[0] };// we want {Fn,Fn−1}\\n9 returnanswer;\\n10}\\n11}\\nCode Fragment 5.14: Computing the nthFibonacci number using linear recursion.'), Document(metadata={'start_index': 1796}, page_content='10}\\n11}\\nCode Fragment 5.14: Computing the nthFibonacci number using linear recursion.\\nIn terms of efﬁciency, the difference between the bad and good recursions for\\nthis problem is like night and day. The ﬁbonacciBad method uses exponential\\ntime. We claim that the execution of method ﬁbonacciGood( n)runs in O(n)time.\\nEach recursive call to ﬁbonacciGood decreases the argument nby 1; therefore, a\\nrecursion trace includes a series of nmethod calls. Because the nonrecursive work\\nfor each call uses constant time, the overall computation executes in O(n)time.\\nwww.it-ebooks.info'), Document(metadata={'start_index': 0}, page_content=\"218 Chapter 5. Recursion\\n5.5.1 Maximum Recursive Depth in Java\\nAnother danger in the misuse of recursion is known as inﬁnite recursion . If each\\nrecursive call makes another recursive call, without ever reaching a base case, thenwe have an inﬁnite series of such calls. This is a fatal error. An inﬁnite recursion\\ncan quickly swamp computing resources, not only due to rapid use of the CPU,\\nbut because each successive call creates a frame requiring additional memory. Ablatant example of an ill-formed recursion is the following:\\n1/∗∗Don't call this (inﬁnite) version. ∗/\\n2public static int ﬁbonacci( intn){\\n3 returnﬁbonacci(n); // After all Fndoes equal Fn\\n4}\\nHowever, there are far more subtle errors that can lead to an inﬁnite recursion.\\nRevisiting our implementation of binary search (Code Fragment 5.3), when we\\nmake a recursive call on the right portion of the sequence (line 15), we specify the\\nsubarray from index mid+1 tohigh . Had that line instead been written as\"), Document(metadata={'start_index': 904}, page_content='subarray from index mid+1 tohigh . Had that line instead been written as\\nreturnbinarySearch(data, target, mid, high); // sending mid, not mid+1\\nthis could result in an inﬁnite recursion. In particular, when searching a range of\\ntwo elements, it becomes possible to make a recursive call on the identical range.\\nA programmer should ensure that each recursive call is in some way progress-\\ning toward a base case (for example, by having a parameter value that decreases\\nwith each call). To combat against inﬁnite recursions, the designers of Java madean intentional decision to limit the overall space used to store activation framesfor simultaneously active method calls. If this limit is reached, the Java Virtual\\nMachine throws a StackOverﬂowError . (We will further discuss the “stack” data\\nstructure in Section 6.1.) The precise value of this limit depends upon the Javainstallation, but a typical value might allow upward of 1000 simultaneous calls.'), Document(metadata={'start_index': 1858}, page_content='For many applications of recursion, allowing up to 1000 nested calls sufﬁces.\\nFor example, our binarySearch method (Section 5.1.3) has O(logn)recursive depth,\\nand so for the default recursive limit to be reached, there would need to be 2\\n1000\\nelements (far, far more than the estimated number of atoms in the universe). How-\\never, we have seen several linear recursions that have recursive depth proportionalton. Java’s limit on the recursive depth might disrupt such computations.\\nIt is possible to reconﬁgure the Java Virtual Machine so that it allows for greater\\nspace to be devoted to nested method calls. This is done by setting the -Xss runtime\\noption when starting Java, either as a command-line option or through the settingsof an IDE. But it often possible to rely upon the intuition of a recursive algorithm,yet to reimplement it more directly using traditional loops rather than method callsto express the necessary repetition. We discuss just such an approach to conclude\\nthe chapter.'), Document(metadata={'start_index': 2842}, page_content='the chapter.\\nwww.it-ebooks.info'), Document(metadata={'start_index': 0}, page_content='5.6. Eliminating Tail Recursion 219\\n5.6 Eliminating Tail Recursion\\nThe main beneﬁt of a recursive approach to algorithm design is that it allows us to\\nsuccinctly take advantage of a repetitive structure present in many problems. Bymaking our algorithm description exploit the repetitive structure in a recursive way,we can often avoid complex case analyses and nested loops. This approach can\\nlead to more readable algorithm descriptions, while still being quite efﬁcient.\\nHowever, the usefulness of recursion comes at a modest cost. In particular,\\nthe Java Virtual Machine must maintain frames that keep track of the state of each\\nnested call. When computer memory is at a premium, it can be beneﬁcial to derive\\nnonrecursive implementations of recursive algorithms.\\nIn general, we can use the stack data structure, which we will introduce in\\nSection 6.1, to convert a recursive algorithm into a nonrecursive algorithm by man-'), Document(metadata={'start_index': 843}, page_content='Section 6.1, to convert a recursive algorithm into a nonrecursive algorithm by man-\\naging the nesting of the recursive structure ourselves, rather than relying on theinterpreter to do so. Although this only shifts the memory usage from the inter-preter to our stack, we may be able to further reduce the memory usage by storingthe minimal information necessary.\\nEven better, some forms of recursion can be eliminated without any use of aux-\\niliary memory. One such form is known as tail recursion . A recursion is a tail\\nrecursion if any recursive call that is made from one context is the very last opera-\\ntion in that context, with the return value of the recursive call (if any) immediately\\nreturned by the enclosing recursion. By necessity, a tail recursion must be a lin-ear recursion (since there is no way to make a second recursive call if you mustimmediately return the result of the ﬁrst).\\nOf the recursive methods demonstrated in this chapter, the binarySearch method'), Document(metadata={'start_index': 1743}, page_content='Of the recursive methods demonstrated in this chapter, the binarySearch method\\nof Code Fragment 5.3 and the reverseArray method of Code Fragment 5.7 are ex-\\namples of tail recursion. Several others of our linear recursions are almost liketail recursion, but not technically so. For example, our factorial method of Code\\nFragment 5.1 is nota tail recursion. It concludes with the command:\\nreturnn∗factorial(n −1);\\nThis is not a tail recursion because an additional multiplication is performed after\\nthe recursive call is completed, and the result returned is not the same. For similar\\nreasons, the linearSum method of Code Fragment 5.6, both power methods from\\nCode Fragments 5.8 and 5.9, and the ﬁbonacciGood method of Code Fragment 5.13\\nfail to be tail recursions.\\nTail recursions are special, as they can be automatically reimplemented nonre-'), Document(metadata={'start_index': 2509}, page_content='Tail recursions are special, as they can be automatically reimplemented nonre-\\ncursively by enclosing the body in a loop for repetition, and replacing a recursivecall with new parameters by a reassignment of the existing parameters to thosevalues. In fact, many programming language implementations may convert tail\\nrecursions in this way as an optimization.\\nwww.it-ebooks.info'), Document(metadata={'start_index': 0}, page_content='220 Chapter 5. Recursion\\n1/∗∗Returns true if the target value is found in the data array. ∗/\\n2public static boolean binarySearchIterative( int[ ] data, inttarget){\\n3 intlow = 0;\\n4 inthigh = data.length −1;\\n5 while(low <=h i g h ){\\n6 intmid = (low + high) / 2;\\n7 if(target == data[mid]) // found a match\\n8 return true ;\\n9 else if(target <data[mid])\\n10 high = mid −1; // only consider values left of mid\\n11 else\\n12 low = mid + 1; // only consider values right of mid\\n13}\\n14 return false ; // loop ended without success\\n15}\\nCode Fragment 5.15: A nonrecursive implementation of binary search.\\nAs a tangible example, our binarySearch method can be reimplemented as\\nshown in Code Fragment 5.15. We initialize variables low andhigh to represent\\nthe full extent of the array just prior to our while loop. Then, during each pass of\\nthe loop, we either ﬁnd the target, or we narrow the range of the candidate subar-\\nray. Where we made the recursive call binarySearch(data, target, low, mid −1)'), Document(metadata={'start_index': 906}, page_content='ray. Where we made the recursive call binarySearch(data, target, low, mid −1)\\nin the original version, we simply replace high = mid −1in our new version\\nand then continue to the next iteration of the loop. Our original base case con-dition of low>high has simply been replaced by the opposite loop condition,\\nwhilelow<=h i g h . In our new implementation, we return false to designate a\\nfailed search if the while loop ends without having ever returned true from within.\\nMost other linear recursions can be expressed quite efﬁciently with iteration,\\neven if they were not formally tail recursions. For example, there are trivial nonre-cursive implementations for computing factorials, computing Fibonacci numbers,\\nsumming elements of an array, or reversing the contents of an array. For example,\\nCode Fragment 5.16 provides a nonrecursive method to reverse the contents of anarray (as compared to the earlier recursive method from Code Fragment 5.7).\\n1/∗∗Reverses the contents of the given array. ∗/'), Document(metadata={'start_index': 1857}, page_content='1/∗∗Reverses the contents of the given array. ∗/\\n2public static void reverseIterative( int[ ] data) {\\n3 intlow = 0, high = data.length −1;\\n4 while(low <high){ // swap data[low] and data[high]\\n5 inttemp = data[low];\\n6data[low++] = data[high]; // post-increment of low\\n7data[high −−] = temp; // post-decrement of high\\n8}\\n9}\\nCode Fragment 5.16: Reversing the elements of a sequence using iteration.\\nwww.it-ebooks.info'), Document(metadata={'start_index': 0}, page_content='5.7. Exercises 221\\n5.7 Exercises\\nReinforcement\\nR-5.1 Describe a recursive algorithm for ﬁnding the maximum element in an array, A,\\nofnelements. What is your running time and space usage?\\nR-5.2 Explain how to modify the recursive binar y search algorithm so that it returns the\\nindex of the target in the sequence or −1 (if the target is not found).\\nR-5.3 Draw the recursion trace for the computation of power (2,5), using the traditional\\nalgorithm implemented in Code Fragment 5.8.\\nR-5.4 Draw the recursion trace for the computation of power (2,18), using the repeated\\nsquaring algorithm, as implemented in Code Fragment 5.9.\\nR-5.5 Draw the recursion trace for the execution of reverseArray(data, 0, 4) , from\\nCode Fragment 5.7, on array data = 4, 3, 6, 2, 6 .\\nR-5.6 Draw the recursion trace for the execution of method PuzzleSolve (3,S,U), from\\nCode Fragment 5.11, where Sis empty and U={a,b,c,d}.\\nR-5.7 Describe a recursive algorithm for computing the nthHarmonic number ,d e ﬁ n e d\\nasHn=∑n'), Document(metadata={'start_index': 899}, page_content=\"R-5.7 Describe a recursive algorithm for computing the nthHarmonic number ,d e ﬁ n e d\\nasHn=∑n\\nk=11/k.\\nR-5.8 Describe a recursive algorithm for converting a string of digits into the integer it\\nrepresents. For example, '13531 'represents the integer 13 ,531.\\nR-5.9 Develop a nonrecursive implementation of the version of the power method from\\nCode Fragment 5.9 that uses repeated squaring.\\nR-5.10 Describe a way to use recursion to compute the sum of all the elements in an\\nn×n(two-dimensional) array of integers.\\nCreativity\\nC-5.11 Describe a recursive algorithm to compute the integer part of the base-two loga-\\nrithm of nusing only addition and integer division.\\nC-5.12 Describe an efﬁcient recursive algorithm for solving the element uniqueness\\nproblem, which runs in time that is at most O(n2)in the worst case without using\\nsorting.\\nC-5.13 Give a recursive algorithm to compute the product of two positive integers, mand\\nn, using only addition and subtraction.\"), Document(metadata={'start_index': 1825}, page_content='n, using only addition and subtraction.\\nC-5.14 In Section 5.2 we prove by induction that the number of lines printed by a call to\\ndrawInterval( c)is 2c−1. Another interesting question is how many dashes are\\nprinted during that process. Prove by induction that the number of dashes printed\\nbydrawInterval( c)is 2c+1−c−2.\\nwww.it-ebooks.info'), Document(metadata={'start_index': 0}, page_content='222 Chapter 5. Recursion\\nC-5.15 Write a recursive method that will output all the subsets of a set of nelements\\n(without repeating any subsets).\\nC-5.16 In the Towe r s o f H a n o i puzzle, we are given a platform with three pegs, a,b,a n d\\nc, sticking out of it. On peg ais a stack of ndisks, each larger than the next, so\\nthat the smallest is on the top and the largest is on the bottom. The puzzle is to\\nmove all the disks from peg ato peg c, moving one disk at a time, so that we\\nnever place a larger disk on top of a smaller one. See Figure 5.15 for an example\\nof the case n=4. Describe a recursive algorithm for solving the Towers of Hanoi\\npuzzle for arbitrary n. (Hint: Consider ﬁrst the subproblem of moving all but\\nthe nthdisk from peg ato another peg using the third as “temporary storage.”)\\nFigure 5.15: An illustration of the Towers of Hanoi puzzle.\\nC-5.17 Write a short recursive Java method that takes a character string sand outputs its'), Document(metadata={'start_index': 862}, page_content=\"C-5.17 Write a short recursive Java method that takes a character string sand outputs its\\nreverse. For example, the reverse of 'pots&pans 'would be 'snap&stop '.\\nC-5.18 Write a short recursive Java method that determines if a string sis a palindrome,\\nthat is, it is equal to its reverse. Examples of palindromes include 'racecar '\\nand'gohangasalamiimalasagnahog '.\\nC-5.19 Use recursion to write a Java method for determining if a string shas more vowels\\nthan consonants.\\nC-5.20 Write a short recursive Java method that rearranges an array of integer values sothat all the even values appear before all the odd values.\\nC-5.21 Given an unsorted array, A, of integers and an integer k, describe a recursive\\nalgorithm for rearranging the elements in Aso that all elements less than or equal\\ntokcome before any elements larger than k. What is the running time of your\\na l g o r i t h mo na na r r a yo f nvalues?\\nC-5.22 Suppose you are given an array, A, containing ndistinct integers that are listed\"), Document(metadata={'start_index': 1770}, page_content='C-5.22 Suppose you are given an array, A, containing ndistinct integers that are listed\\nin increasing order. Given a number k, describe a recursive algorithm to ﬁnd two\\nintegers in Athat sum to k, if such a pair exists. What is the running time of your\\nalgorithm?\\nC-5.23 Describe a recursive algorithm that will check if an array Aof integers contains\\nan integer A[i]that is the sum of two integers that appear earlier in A, that is, such\\nthat A[i]= A[j]+A[k]for j,k<i.\\nwww.it-ebooks.info'), Document(metadata={'start_index': 0}, page_content='Chapter Notes 223\\nC-5.24 Isabel has an interesting way of summing up the values in an array Aofnintegers,\\nwhere nis a power of two. She creates an array Bof half the size of Aand sets\\nB[i]= A[2i]+A[2i+1],f o r i=0,1,..., (n/2)−1. If Bhas size 1, then she\\noutputs B[0]. Otherwise, she replaces Awith B, and repeats the process. What is\\nthe running time of her algorithm?\\nC-5.25 Describe a fast recursive algorithm for reversing a singly linked list L, so that the\\nordering of the nodes becomes opposite of what it was before.\\nC-5.26 Give a recursive deﬁnition of a singly linked list class that does not use any Nodeclass.\\nProjects\\nP-5.27 Implement a recursive method with calling signature ﬁnd(path, ﬁlename) that\\nreports all entries of the ﬁle system rooted at the given path having the given ﬁlename.\\nP-5.28 Write a program for solving summation puzzles by enumerating and testing allpossible conﬁgurations. Using your program, solve the three puzzles given in\\nSection 5.3.3.'), Document(metadata={'start_index': 963}, page_content='Section 5.3.3.\\nP-5.29 Provide a nonrecursive implementation of the drawInterval method for the En-\\nglish ruler project of Section 5.1.2. There should be precisely 2c−1 lines of\\noutput if crepresents the length of the center tick. If incrementing a counter from\\n0t o2c−2, the number of dashes for each tick line should be exactly one more\\nthan the number of consecutive 1’s at the end of the binary representation of the\\ncounter.\\nP-5.30 Write a program that can solve instances of the Tower of Hanoi problem (fromExercise C-5.16).\\nChapter Notes\\nThe use of recursion in programs belongs to the folklore of computer science (for example,\\nsee the article of Dijkstra [31]). It is also at the heart of functional programming languages(for example, see the book by Abelson, Sussman, and Sussman [1]). Interestingly, binary\\nsearch was ﬁrst published in 1946, but was not published in a fully correct form until 1962.\\nFor further discussions on lessons learned, see papers by Bentley [13] and Lesuisse [64].'), Document(metadata={'start_index': 1873}, page_content='For further discussions on lessons learned, see papers by Bentley [13] and Lesuisse [64].\\nwww.it-ebooks.info')]\n"
          ]
        }
      ],
      "source": [
        "print(docs_processed)"
      ]
    },
    {
      "cell_type": "code",
      "execution_count": 12,
      "metadata": {
        "colab": {
          "base_uri": "https://localhost:8080/",
          "height": 611
        },
        "id": "3zROKZtssje7",
        "outputId": "88e965b4-3e05-4db5-befe-425f67d8e3d9"
      },
      "outputs": [
        {
          "output_type": "stream",
          "name": "stderr",
          "text": [
            "/usr/local/lib/python3.10/dist-packages/huggingface_hub/utils/_auth.py:94: UserWarning: \n",
            "The secret `HF_TOKEN` does not exist in your Colab secrets.\n",
            "To authenticate with the Hugging Face Hub, create a token in your settings tab (https://huggingface.co/settings/tokens), set it as secret in your Google Colab and restart your session.\n",
            "You will be able to reuse this secret in all of your notebooks.\n",
            "Please note that authentication is recommended but still optional to access public models or datasets.\n",
            "  warnings.warn(\n"
          ]
        },
        {
          "output_type": "stream",
          "name": "stdout",
          "text": [
            "Model's maximum sequence length: 512\n"
          ]
        },
        {
          "output_type": "stream",
          "name": "stderr",
          "text": [
            "100%|██████████| 95/95 [00:00<00:00, 779.11it/s]\n"
          ]
        },
        {
          "output_type": "display_data",
          "data": {
            "text/plain": [
              "<Figure size 640x480 with 1 Axes>"
            ],
            "image/png": "[encoded data removed]"
          },
          "metadata": {}
        }
      ],
      "source": [
        "from sentence_transformers import SentenceTransformer\n",
        "\n",
        "# To get the value of the max sequence_length, we will query the underlying `SentenceTransformer` object used in the RecursiveCharacterTextSplitter\n",
        "print(\n",
        "    f\"Model's maximum sequence length: {SentenceTransformer('thenlper/gte-small').max_seq_length}\"\n",
        ")\n",
        "\n",
        "from transformers import AutoTokenizer\n",
        "\n",
        "tokenizer = AutoTokenizer.from_pretrained(\"thenlper/gte-small\")\n",
        "lengths = [len(tokenizer.encode(doc.page_content)) for doc in tqdm(docs_processed)]\n",
        "\n",
        "# Plot the distribution of document lengths, counted as the number of tokens\n",
        "fig = pd.Series(lengths).hist()\n",
        "plt.title(\"Distribution of document lengths in the knowledge base (in count of tokens)\")\n",
        "plt.show()"
      ]
    },
    {
      "cell_type": "code",
      "execution_count": 13,
      "metadata": {
        "id": "fKDpHiJpn7dd"
      },
      "outputs": [],
      "source": [
        "import torch\n",
        "torch.cuda.empty_cache()\n"
      ]
    },
    {
      "cell_type": "code",
      "execution_count": 14,
      "metadata": {
        "colab": {
          "base_uri": "https://localhost:8080/",
          "height": 469
        },
        "id": "kbDSR1yZvagH",
        "outputId": "ffbfb318-13d0-4edb-e63d-71394d22630e"
      },
      "outputs": [
        {
          "output_type": "stream",
          "name": "stderr",
          "text": [
            "100%|██████████| 69/69 [00:00<00:00, 616.25it/s]\n"
          ]
        },
        {
          "output_type": "display_data",
          "data": {
            "text/plain": [
              "<Figure size 640x480 with 1 Axes>"
            ],
            "image/png": "[encoded data removed]"
          },
          "metadata": {}
        }
      ],
      "source": [
        "from langchain.text_splitter import RecursiveCharacterTextSplitter\n",
        "from transformers import AutoTokenizer\n",
        "\n",
        "EMBEDDING_MODEL_NAME = \"thenlper/gte-small\"\n",
        "\n",
        "\n",
        "def split_documents(\n",
        "    chunk_size: int,\n",
        "    knowledge_base: List[LangchainDocument],\n",
        "    tokenizer_name: Optional[str] = EMBEDDING_MODEL_NAME,\n",
        ") -> List[LangchainDocument]:\n",
        "    \"\"\"\n",
        "    Split documents into chunks of maximum size `chunk_size` tokens and return a list of documents.\n",
        "    \"\"\"\n",
        "    text_splitter = RecursiveCharacterTextSplitter.from_huggingface_tokenizer(\n",
        "        AutoTokenizer.from_pretrained(tokenizer_name),\n",
        "        chunk_size=chunk_size,\n",
        "        chunk_overlap=int(chunk_size / 10),\n",
        "        add_start_index=True,\n",
        "        strip_whitespace=True,\n",
        "        separators=MARKDOWN_SEPARATORS,\n",
        "    )\n",
        "\n",
        "    docs_processed = []\n",
        "    for doc in knowledge_base:\n",
        "        docs_processed += text_splitter.split_documents([doc])\n",
        "\n",
        "    # Remove duplicates\n",
        "    unique_texts = {}\n",
        "    docs_processed_unique = []\n",
        "    for doc in docs_processed:\n",
        "        if doc.page_content not in unique_texts:\n",
        "            unique_texts[doc.page_content] = True\n",
        "            docs_processed_unique.append(doc)\n",
        "\n",
        "    return docs_processed_unique\n",
        "\n",
        "\n",
        "docs_processed = split_documents(\n",
        "    512,  # We choose a chunk size adapted to our model\n",
        "    RAW_KNOWLEDGE_BASE,\n",
        "    tokenizer_name=EMBEDDING_MODEL_NAME,\n",
        ")\n",
        "\n",
        "# Let's visualize the chunk sizes we would have in tokens from a common model\n",
        "from transformers import AutoTokenizer\n",
        "\n",
        "tokenizer = AutoTokenizer.from_pretrained(EMBEDDING_MODEL_NAME)\n",
        "lengths = [len(tokenizer.encode(doc.page_content)) for doc in tqdm(docs_processed)]\n",
        "fig = pd.Series(lengths).hist()\n",
        "plt.title(\"Distribution of document lengths in the knowledge base (in count of tokens)\")\n",
        "plt.show()"
      ]
    },
    {
      "cell_type": "code",
      "execution_count": 15,
      "metadata": {
        "colab": {
          "base_uri": "https://localhost:8080/"
        },
        "id": "52F3cUro1BOD",
        "outputId": "70a29882-efba-40a4-a03e-051578a0ecd1"
      },
      "outputs": [
        {
          "output_type": "stream",
          "name": "stdout",
          "text": [
            "Count of chunks after removing duplicates: 69\n"
          ]
        }
      ],
      "source": [
        "print(\"Count of chunks after removing duplicates:\", len(docs_processed))\n"
      ]
    },
    {
      "cell_type": "code",
      "execution_count": 16,
      "metadata": {
        "colab": {
          "base_uri": "https://localhost:8080/"
        },
        "id": "o8t95iYhc7yf",
        "outputId": "5a3cc02f-21d6-448f-9f0f-b1bed645d2cd"
      },
      "outputs": [
        {
          "output_type": "stream",
          "name": "stdout",
          "text": [
            "Requirement already satisfied: langchain-community in /usr/local/lib/python3.10/dist-packages (0.3.8)\n",
            "Requirement already satisfied: PyYAML>=5.3 in /usr/local/lib/python3.10/dist-packages (from langchain-community) (6.0.2)\n",
            "Requirement already satisfied: SQLAlchemy<2.0.36,>=1.4 in /usr/local/lib/python3.10/dist-packages (from langchain-community) (2.0.35)\n",
            "Requirement already satisfied: aiohttp<4.0.0,>=3.8.3 in /usr/local/lib/python3.10/dist-packages (from langchain-community) (3.11.2)\n",
            "Requirement already satisfied: dataclasses-json<0.7,>=0.5.7 in /usr/local/lib/python3.10/dist-packages (from langchain-community) (0.6.7)\n",
            "Requirement already satisfied: httpx-sse<0.5.0,>=0.4.0 in /usr/local/lib/python3.10/dist-packages (from langchain-community) (0.4.0)\n",
            "Requirement already satisfied: langchain<0.4.0,>=0.3.8 in /usr/local/lib/python3.10/dist-packages (from langchain-community) (0.3.8)\n",
            "Requirement already satisfied: langchain-core<0.4.0,>=0.3.21 in /usr/local/lib/python3.10/dist-packages (from langchain-community) (0.3.21)\n",
            "Requirement already satisfied: langsmith<0.2.0,>=0.1.125 in /usr/local/lib/python3.10/dist-packages (from langchain-community) (0.1.143)\n",
            "Requirement already satisfied: numpy<2,>=1.22.4 in /usr/local/lib/python3.10/dist-packages (from langchain-community) (1.26.4)\n",
            "Requirement already satisfied: pydantic-settings<3.0.0,>=2.4.0 in /usr/local/lib/python3.10/dist-packages (from langchain-community) (2.6.1)\n",
            "Requirement already satisfied: requests<3,>=2 in /usr/local/lib/python3.10/dist-packages (from langchain-community) (2.32.3)\n",
            "Requirement already satisfied: tenacity!=8.4.0,<10,>=8.1.0 in /usr/local/lib/python3.10/dist-packages (from langchain-community) (8.5.0)\n",
            "Requirement already satisfied: aiohappyeyeballs>=2.3.0 in /usr/local/lib/python3.10/dist-packages (from aiohttp<4.0.0,>=3.8.3->langchain-community) (2.4.3)\n",
            "Requirement already satisfied: aiosignal>=1.1.2 in /usr/local/lib/python3.10/dist-packages (from aiohttp<4.0.0,>=3.8.3->langchain-community) (1.3.1)\n",
            "Requirement already satisfied: attrs>=17.3.0 in /usr/local/lib/python3.10/dist-packages (from aiohttp<4.0.0,>=3.8.3->langchain-community) (24.2.0)\n",
            "Requirement already satisfied: frozenlist>=1.1.1 in /usr/local/lib/python3.10/dist-packages (from aiohttp<4.0.0,>=3.8.3->langchain-community) (1.5.0)\n",
            "Requirement already satisfied: multidict<7.0,>=4.5 in /usr/local/lib/python3.10/dist-packages (from aiohttp<4.0.0,>=3.8.3->langchain-community) (6.1.0)\n",
            "Requirement already satisfied: propcache>=0.2.0 in /usr/local/lib/python3.10/dist-packages (from aiohttp<4.0.0,>=3.8.3->langchain-community) (0.2.0)\n",
            "Requirement already satisfied: yarl<2.0,>=1.17.0 in /usr/local/lib/python3.10/dist-packages (from aiohttp<4.0.0,>=3.8.3->langchain-community) (1.17.2)\n",
            "Requirement already satisfied: async-timeout<6.0,>=4.0 in /usr/local/lib/python3.10/dist-packages (from aiohttp<4.0.0,>=3.8.3->langchain-community) (4.0.3)\n",
            "Requirement already satisfied: marshmallow<4.0.0,>=3.18.0 in /usr/local/lib/python3.10/dist-packages (from dataclasses-json<0.7,>=0.5.7->langchain-community) (3.23.1)\n",
            "Requirement already satisfied: typing-inspect<1,>=0.4.0 in /usr/local/lib/python3.10/dist-packages (from dataclasses-json<0.7,>=0.5.7->langchain-community) (0.9.0)\n",
            "Requirement already satisfied: langchain-text-splitters<0.4.0,>=0.3.0 in /usr/local/lib/python3.10/dist-packages (from langchain<0.4.0,>=0.3.8->langchain-community) (0.3.2)\n",
            "Requirement already satisfied: pydantic<3.0.0,>=2.7.4 in /usr/local/lib/python3.10/dist-packages (from langchain<0.4.0,>=0.3.8->langchain-community) (2.9.2)\n",
            "Requirement already satisfied: jsonpatch<2.0,>=1.33 in /usr/local/lib/python3.10/dist-packages (from langchain-core<0.4.0,>=0.3.21->langchain-community) (1.33)\n",
            "Requirement already satisfied: packaging<25,>=23.2 in /usr/local/lib/python3.10/dist-packages (from langchain-core<0.4.0,>=0.3.21->langchain-community) (24.2)\n",
            "Requirement already satisfied: typing-extensions>=4.7 in /usr/local/lib/python3.10/dist-packages (from langchain-core<0.4.0,>=0.3.21->langchain-community) (4.12.2)\n",
            "Requirement already satisfied: httpx<1,>=0.23.0 in /usr/local/lib/python3.10/dist-packages (from langsmith<0.2.0,>=0.1.125->langchain-community) (0.27.2)\n",
            "Requirement already satisfied: orjson<4.0.0,>=3.9.14 in /usr/local/lib/python3.10/dist-packages (from langsmith<0.2.0,>=0.1.125->langchain-community) (3.10.11)\n",
            "Requirement already satisfied: requests-toolbelt<2.0.0,>=1.0.0 in /usr/local/lib/python3.10/dist-packages (from langsmith<0.2.0,>=0.1.125->langchain-community) (1.0.0)\n",
            "Requirement already satisfied: python-dotenv>=0.21.0 in /usr/local/lib/python3.10/dist-packages (from pydantic-settings<3.0.0,>=2.4.0->langchain-community) (1.0.1)\n",
            "Requirement already satisfied: charset-normalizer<4,>=2 in /usr/local/lib/python3.10/dist-packages (from requests<3,>=2->langchain-community) (3.4.0)\n",
            "Requirement already satisfied: idna<4,>=2.5 in /usr/local/lib/python3.10/dist-packages (from requests<3,>=2->langchain-community) (3.10)\n",
            "Requirement already satisfied: urllib3<3,>=1.21.1 in /usr/local/lib/python3.10/dist-packages (from requests<3,>=2->langchain-community) (2.2.3)\n",
            "Requirement already satisfied: certifi>=2017.4.17 in /usr/local/lib/python3.10/dist-packages (from requests<3,>=2->langchain-community) (2024.8.30)\n",
            "Requirement already satisfied: greenlet!=0.4.17 in /usr/local/lib/python3.10/dist-packages (from SQLAlchemy<2.0.36,>=1.4->langchain-community) (3.1.1)\n",
            "Requirement already satisfied: anyio in /usr/local/lib/python3.10/dist-packages (from httpx<1,>=0.23.0->langsmith<0.2.0,>=0.1.125->langchain-community) (3.7.1)\n",
            "Requirement already satisfied: httpcore==1.* in /usr/local/lib/python3.10/dist-packages (from httpx<1,>=0.23.0->langsmith<0.2.0,>=0.1.125->langchain-community) (1.0.7)\n",
            "Requirement already satisfied: sniffio in /usr/local/lib/python3.10/dist-packages (from httpx<1,>=0.23.0->langsmith<0.2.0,>=0.1.125->langchain-community) (1.3.1)\n",
            "Requirement already satisfied: h11<0.15,>=0.13 in /usr/local/lib/python3.10/dist-packages (from httpcore==1.*->httpx<1,>=0.23.0->langsmith<0.2.0,>=0.1.125->langchain-community) (0.14.0)\n",
            "Requirement already satisfied: jsonpointer>=1.9 in /usr/local/lib/python3.10/dist-packages (from jsonpatch<2.0,>=1.33->langchain-core<0.4.0,>=0.3.21->langchain-community) (3.0.0)\n",
            "Requirement already satisfied: annotated-types>=0.6.0 in /usr/local/lib/python3.10/dist-packages (from pydantic<3.0.0,>=2.7.4->langchain<0.4.0,>=0.3.8->langchain-community) (0.7.0)\n",
            "Requirement already satisfied: pydantic-core==2.23.4 in /usr/local/lib/python3.10/dist-packages (from pydantic<3.0.0,>=2.7.4->langchain<0.4.0,>=0.3.8->langchain-community) (2.23.4)\n",
            "Requirement already satisfied: mypy-extensions>=0.3.0 in /usr/local/lib/python3.10/dist-packages (from typing-inspect<1,>=0.4.0->dataclasses-json<0.7,>=0.5.7->langchain-community) (1.0.0)\n",
            "Requirement already satisfied: exceptiongroup in /usr/local/lib/python3.10/dist-packages (from anyio->httpx<1,>=0.23.0->langsmith<0.2.0,>=0.1.125->langchain-community) (1.2.2)\n"
          ]
        }
      ],
      "source": [
        "pip install -U langchain-community\n"
      ]
    },
    {
      "cell_type": "code",
      "execution_count": 17,
      "metadata": {
        "colab": {
          "base_uri": "https://localhost:8080/"
        },
        "id": "mk0fDLfK-aiV",
        "outputId": "940aec78-94d2-46c4-fd85-5ddd7bdffacf"
      },
      "outputs": [
        {
          "output_type": "stream",
          "name": "stderr",
          "text": [
            "<ipython-input-17-03ff0bc2fd16>:5: LangChainDeprecationWarning: The class `HuggingFaceEmbeddings` was deprecated in LangChain 0.2.2 and will be removed in 1.0. An updated version of the class exists in the :class:`~langchain-huggingface package and should be used instead. To use it run `pip install -U :class:`~langchain-huggingface` and import as `from :class:`~langchain_huggingface import HuggingFaceEmbeddings``.\n",
            "  embedding_model  = HuggingFaceEmbeddings(\n"
          ]
        }
      ],
      "source": [
        "from langchain.vectorstores import FAISS\n",
        "from langchain_community.embeddings import HuggingFaceEmbeddings\n",
        "from langchain_community.vectorstores.utils import DistanceStrategy\n",
        "\n",
        "embedding_model  = HuggingFaceEmbeddings(\n",
        "    model_name=EMBEDDING_MODEL_NAME,\n",
        "    multi_process=True,\n",
        "    model_kwargs={\"device\": \"cuda\"},\n",
        "    encode_kwargs={\"normalize_embeddings\": True},  # Set `True` for cosine similarity\n",
        ")\n",
        "\n",
        "KNOWLEDGE_VECTOR_DATABASE = FAISS.from_documents(\n",
        "    docs_processed, embedding_model, distance_strategy=DistanceStrategy.COSINE\n",
        ")"
      ]
    },
    {
      "cell_type": "code",
      "execution_count": 18,
      "metadata": {
        "id": "WdX7EA67d3FD"
      },
      "outputs": [],
      "source": [
        "# Embed a user query in the same space\n",
        "user_query = \"what is data abstarction?\"\n",
        "query_vector = embedding_model.embed_query(user_query)"
      ]
    },
    {
      "cell_type": "code",
      "execution_count": 19,
      "metadata": {
        "colab": {
          "base_uri": "https://localhost:8080/"
        },
        "id": "uOC4UlbSd8u5",
        "outputId": "cfbb8d23-e23f-4169-c119-caf2aa869c47"
      },
      "outputs": [
        {
          "output_type": "stream",
          "name": "stdout",
          "text": [
            "Requirement already satisfied: pacmap in /usr/local/lib/python3.10/dist-packages (0.7.6)\n",
            "Requirement already satisfied: scikit-learn>=0.20 in /usr/local/lib/python3.10/dist-packages (from pacmap) (1.5.2)\n",
            "Requirement already satisfied: numba>=0.57 in /usr/local/lib/python3.10/dist-packages (from pacmap) (0.60.0)\n",
            "Requirement already satisfied: annoy>=1.11 in /usr/local/lib/python3.10/dist-packages (from pacmap) (1.17.3)\n",
            "Requirement already satisfied: numpy>=1.20 in /usr/local/lib/python3.10/dist-packages (from pacmap) (1.26.4)\n",
            "Requirement already satisfied: llvmlite<0.44,>=0.43.0dev0 in /usr/local/lib/python3.10/dist-packages (from numba>=0.57->pacmap) (0.43.0)\n",
            "Requirement already satisfied: scipy>=1.6.0 in /usr/local/lib/python3.10/dist-packages (from scikit-learn>=0.20->pacmap) (1.13.1)\n",
            "Requirement already satisfied: joblib>=1.2.0 in /usr/local/lib/python3.10/dist-packages (from scikit-learn>=0.20->pacmap) (1.4.2)\n",
            "Requirement already satisfied: threadpoolctl>=3.1.0 in /usr/local/lib/python3.10/dist-packages (from scikit-learn>=0.20->pacmap) (3.5.0)\n"
          ]
        }
      ],
      "source": [
        "!pip install pacmap"
      ]
    },
    {
      "cell_type": "code",
      "execution_count": 20,
      "metadata": {
        "colab": {
          "base_uri": "https://localhost:8080/"
        },
        "id": "OSZ5AZ03eI1z",
        "outputId": "761260ef-3453-495b-a86e-e68786b0baa1"
      },
      "outputs": [
        {
          "output_type": "stream",
          "name": "stderr",
          "text": [
            "WARNING:pacmap.pacmap:Warning: random state is set to 1.\n"
          ]
        }
      ],
      "source": [
        "import pacmap\n",
        "import numpy as np\n",
        "import plotly.express as px\n",
        "\n",
        "embedding_projector = pacmap.PaCMAP(\n",
        "    n_components=2, n_neighbors=None, MN_ratio=0.5, FP_ratio=2.0, random_state=1\n",
        ")\n",
        "\n",
        "embeddings_2d = [\n",
        "    list(KNOWLEDGE_VECTOR_DATABASE.index.reconstruct_n(idx, 1)[0])\n",
        "    for idx in range(len(docs_processed))\n",
        "    ] + [query_vector]\n",
        "\n",
        "# Fit the data (the index of transformed data corresponds to the index of the original data)\n",
        "documents_projected = embedding_projector.fit_transform(\n",
        "    np.array(embeddings_2d), init=\"pca\"\n",
        ")\n"
      ]
    },
    {
      "cell_type": "code",
      "execution_count": 21,
      "metadata": {
        "colab": {
          "base_uri": "https://localhost:8080/"
        },
        "id": "_Ga69wXueU3U",
        "outputId": "20e0ca9b-0d9e-4fa8-dc13-da74f698a5cc"
      },
      "outputs": [
        {
          "output_type": "stream",
          "name": "stdout",
          "text": [
            "\n",
            "Starting retrieval for user_query='what is data abstarction?'...\n",
            "\n",
            "==================================Top document==================================\n",
            "5.1. Illustrative Examples 197\n",
            "This algorithm is known as binary search . W eg i v eaJ a v ai m p l e m e n t a t i o ni n\n",
            "Code Fragment 5.3, and an illustration of the execution of the algorithm in Fig-\n",
            "ure 5.5. Whereas sequential search runs in O(n)time, the more efﬁcient binary\n",
            "search runs in O(logn)time. This is a signiﬁcant improvement, given that if nis\n",
            "1 billion, log nis only 30. (We defer our formal analysis of binary search’s running\n",
            "time to Proposition 5.2 in Section 5.2.)\n",
            "1/∗∗\n",
            "2∗Returns true if the target value is found in the indicated portion of the data array.\n",
            "3∗This search only considers the array portion from data[low] to data[high] inclusive.\n",
            "4∗/\n",
            "5public static boolean binarySearch( int[ ] data, inttarget, intlow, inthigh){\n",
            "6 if(low >high)\n",
            "7 return false ; // interval empty; no match\n",
            "8 else{\n",
            "9 intmid = (low + high) / 2;\n",
            "10 if(target == data[mid])\n",
            "11 return true ; // found a match\n",
            "12 else if(target <data[mid])\n",
            "13 returnbinarySearch(data, target, low, mid −1);// recur left of the middle\n",
            "14 else\n",
            "15 returnbinarySearch(data, target, mid + 1, high); // recur right of the middle\n",
            "16}\n",
            "17}\n",
            "Code Fragment 5.3: An implementation of the binary search algorithm on a sorted\n",
            "array.\n",
            "midhigh\n",
            "high low\n",
            "low midlow mid\n",
            "==================================Metadata==================================\n",
            "{'start_index': 0}\n"
          ]
        }
      ],
      "source": [
        "print(f\"\\nStarting retrieval for {user_query=}...\")\n",
        "retrieved_docs = KNOWLEDGE_VECTOR_DATABASE.similarity_search(query=user_query, k=5)\n",
        "print(\n",
        "    \"\\n==================================Top document==================================\"\n",
        ")\n",
        "print(retrieved_docs[0].page_content)\n",
        "print(\"==================================Metadata==================================\")\n",
        "print(retrieved_docs[0].metadata)"
      ]
    },
    {
      "cell_type": "code",
      "execution_count": 22,
      "metadata": {
        "colab": {
          "base_uri": "https://localhost:8080/"
        },
        "id": "UlXubls2eWxb",
        "outputId": "b62dc5d0-0587-4376-c211-0f6d39e1b757"
      },
      "outputs": [
        {
          "output_type": "stream",
          "name": "stdout",
          "text": [
            "Requirement already satisfied: bitsandbytes in /usr/local/lib/python3.10/dist-packages (0.44.1)\n",
            "Requirement already satisfied: torch in /usr/local/lib/python3.10/dist-packages (from bitsandbytes) (2.5.1+cu121)\n",
            "Requirement already satisfied: numpy in /usr/local/lib/python3.10/dist-packages (from bitsandbytes) (1.26.4)\n",
            "Requirement already satisfied: filelock in /usr/local/lib/python3.10/dist-packages (from torch->bitsandbytes) (3.16.1)\n",
            "Requirement already satisfied: typing-extensions>=4.8.0 in /usr/local/lib/python3.10/dist-packages (from torch->bitsandbytes) (4.12.2)\n",
            "Requirement already satisfied: networkx in /usr/local/lib/python3.10/dist-packages (from torch->bitsandbytes) (3.4.2)\n",
            "Requirement already satisfied: jinja2 in /usr/local/lib/python3.10/dist-packages (from torch->bitsandbytes) (3.1.4)\n",
            "Requirement already satisfied: fsspec in /usr/local/lib/python3.10/dist-packages (from torch->bitsandbytes) (2024.9.0)\n",
            "Requirement already satisfied: sympy==1.13.1 in /usr/local/lib/python3.10/dist-packages (from torch->bitsandbytes) (1.13.1)\n",
            "Requirement already satisfied: mpmath<1.4,>=1.1.0 in /usr/local/lib/python3.10/dist-packages (from sympy==1.13.1->torch->bitsandbytes) (1.3.0)\n",
            "Requirement already satisfied: MarkupSafe>=2.0 in /usr/local/lib/python3.10/dist-packages (from jinja2->torch->bitsandbytes) (3.0.2)\n"
          ]
        }
      ],
      "source": [
        " from transformers import AutoModelForCausalLM\n",
        "import torch\n",
        "!pip install -U bitsandbytes"
      ]
    },
    {
      "cell_type": "code",
      "execution_count": 23,
      "metadata": {
        "colab": {
          "base_uri": "https://localhost:8080/"
        },
        "id": "M9gSlviYh8U0",
        "outputId": "537406ae-36e6-4027-c764-83c2ab501070"
      },
      "outputs": [
        {
          "output_type": "stream",
          "name": "stdout",
          "text": [
            "Found existing installation: bitsandbytes 0.44.1\n",
            "Uninstalling bitsandbytes-0.44.1:\n",
            "  Successfully uninstalled bitsandbytes-0.44.1\n"
          ]
        }
      ],
      "source": [
        "!pip uninstall -y bitsandbytes"
      ]
    },
    {
      "cell_type": "code",
      "execution_count": 24,
      "metadata": {
        "colab": {
          "base_uri": "https://localhost:8080/"
        },
        "id": "lk6A4lmlhRLy",
        "outputId": "34cf1f73-b713-4938-8f21-c54ced9ee9bb"
      },
      "outputs": [
        {
          "output_type": "stream",
          "name": "stdout",
          "text": [
            "Collecting bitsandbytes\n",
            "  Using cached bitsandbytes-0.44.1-py3-none-manylinux_2_24_x86_64.whl.metadata (3.5 kB)\n",
            "Requirement already satisfied: torch in /usr/local/lib/python3.10/dist-packages (from bitsandbytes) (2.5.1+cu121)\n",
            "Requirement already satisfied: numpy in /usr/local/lib/python3.10/dist-packages (from bitsandbytes) (1.26.4)\n",
            "Requirement already satisfied: filelock in /usr/local/lib/python3.10/dist-packages (from torch->bitsandbytes) (3.16.1)\n",
            "Requirement already satisfied: typing-extensions>=4.8.0 in /usr/local/lib/python3.10/dist-packages (from torch->bitsandbytes) (4.12.2)\n",
            "Requirement already satisfied: networkx in /usr/local/lib/python3.10/dist-packages (from torch->bitsandbytes) (3.4.2)\n",
            "Requirement already satisfied: jinja2 in /usr/local/lib/python3.10/dist-packages (from torch->bitsandbytes) (3.1.4)\n",
            "Requirement already satisfied: fsspec in /usr/local/lib/python3.10/dist-packages (from torch->bitsandbytes) (2024.9.0)\n",
            "Requirement already satisfied: sympy==1.13.1 in /usr/local/lib/python3.10/dist-packages (from torch->bitsandbytes) (1.13.1)\n",
            "Requirement already satisfied: mpmath<1.4,>=1.1.0 in /usr/local/lib/python3.10/dist-packages (from sympy==1.13.1->torch->bitsandbytes) (1.3.0)\n",
            "Requirement already satisfied: MarkupSafe>=2.0 in /usr/local/lib/python3.10/dist-packages (from jinja2->torch->bitsandbytes) (3.0.2)\n",
            "Using cached bitsandbytes-0.44.1-py3-none-manylinux_2_24_x86_64.whl (122.4 MB)\n",
            "Installing collected packages: bitsandbytes\n",
            "Successfully installed bitsandbytes-0.44.1\n",
            "Requirement already satisfied: transformers in /usr/local/lib/python3.10/dist-packages (4.46.3)\n",
            "Requirement already satisfied: filelock in /usr/local/lib/python3.10/dist-packages (from transformers) (3.16.1)\n",
            "Requirement already satisfied: huggingface-hub<1.0,>=0.23.2 in /usr/local/lib/python3.10/dist-packages (from transformers) (0.26.2)\n",
            "Requirement already satisfied: numpy>=1.17 in /usr/local/lib/python3.10/dist-packages (from transformers) (1.26.4)\n",
            "Requirement already satisfied: packaging>=20.0 in /usr/local/lib/python3.10/dist-packages (from transformers) (24.2)\n",
            "Requirement already satisfied: pyyaml>=5.1 in /usr/local/lib/python3.10/dist-packages (from transformers) (6.0.2)\n",
            "Requirement already satisfied: regex!=2019.12.17 in /usr/local/lib/python3.10/dist-packages (from transformers) (2024.9.11)\n",
            "Requirement already satisfied: requests in /usr/local/lib/python3.10/dist-packages (from transformers) (2.32.3)\n",
            "Requirement already satisfied: tokenizers<0.21,>=0.20 in /usr/local/lib/python3.10/dist-packages (from transformers) (0.20.3)\n",
            "Requirement already satisfied: safetensors>=0.4.1 in /usr/local/lib/python3.10/dist-packages (from transformers) (0.4.5)\n",
            "Requirement already satisfied: tqdm>=4.27 in /usr/local/lib/python3.10/dist-packages (from transformers) (4.66.6)\n",
            "Requirement already satisfied: fsspec>=2023.5.0 in /usr/local/lib/python3.10/dist-packages (from huggingface-hub<1.0,>=0.23.2->transformers) (2024.9.0)\n",
            "Requirement already satisfied: typing-extensions>=3.7.4.3 in /usr/local/lib/python3.10/dist-packages (from huggingface-hub<1.0,>=0.23.2->transformers) (4.12.2)\n",
            "Requirement already satisfied: charset-normalizer<4,>=2 in /usr/local/lib/python3.10/dist-packages (from requests->transformers) (3.4.0)\n",
            "Requirement already satisfied: idna<4,>=2.5 in /usr/local/lib/python3.10/dist-packages (from requests->transformers) (3.10)\n",
            "Requirement already satisfied: urllib3<3,>=1.21.1 in /usr/local/lib/python3.10/dist-packages (from requests->transformers) (2.2.3)\n",
            "Requirement already satisfied: certifi>=2017.4.17 in /usr/local/lib/python3.10/dist-packages (from requests->transformers) (2024.8.30)\n"
          ]
        }
      ],
      "source": [
        "!pip install -U bitsandbytes\n",
        "!pip install -U transformers\n"
      ]
    },
    {
      "cell_type": "code",
      "execution_count": 25,
      "metadata": {
        "colab": {
          "base_uri": "https://localhost:8080/"
        },
        "id": "UDUV3Y2Ntrpl",
        "outputId": "1e2e1cd2-968a-42c9-be95-f62f68c0b3da"
      },
      "outputs": [
        {
          "output_type": "stream",
          "name": "stdout",
          "text": [
            "Requirement already satisfied: bitsandbytes in /usr/local/lib/python3.10/dist-packages (0.44.1)\n",
            "Requirement already satisfied: torch in /usr/local/lib/python3.10/dist-packages (from bitsandbytes) (2.5.1+cu121)\n",
            "Requirement already satisfied: numpy in /usr/local/lib/python3.10/dist-packages (from bitsandbytes) (1.26.4)\n",
            "Requirement already satisfied: filelock in /usr/local/lib/python3.10/dist-packages (from torch->bitsandbytes) (3.16.1)\n",
            "Requirement already satisfied: typing-extensions>=4.8.0 in /usr/local/lib/python3.10/dist-packages (from torch->bitsandbytes) (4.12.2)\n",
            "Requirement already satisfied: networkx in /usr/local/lib/python3.10/dist-packages (from torch->bitsandbytes) (3.4.2)\n",
            "Requirement already satisfied: jinja2 in /usr/local/lib/python3.10/dist-packages (from torch->bitsandbytes) (3.1.4)\n",
            "Requirement already satisfied: fsspec in /usr/local/lib/python3.10/dist-packages (from torch->bitsandbytes) (2024.9.0)\n",
            "Requirement already satisfied: sympy==1.13.1 in /usr/local/lib/python3.10/dist-packages (from torch->bitsandbytes) (1.13.1)\n",
            "Requirement already satisfied: mpmath<1.4,>=1.1.0 in /usr/local/lib/python3.10/dist-packages (from sympy==1.13.1->torch->bitsandbytes) (1.3.0)\n",
            "Requirement already satisfied: MarkupSafe>=2.0 in /usr/local/lib/python3.10/dist-packages (from jinja2->torch->bitsandbytes) (3.0.2)\n"
          ]
        }
      ],
      "source": [
        "!pip install bitsandbytes\n"
      ]
    },
    {
      "cell_type": "code",
      "execution_count": 26,
      "metadata": {
        "colab": {
          "base_uri": "https://localhost:8080/"
        },
        "id": "171AvlHIvCxp",
        "outputId": "a6c4455f-1fa8-4fb8-99ec-745e633ebfc6"
      },
      "outputs": [
        {
          "output_type": "stream",
          "name": "stdout",
          "text": [
            "Found existing installation: bitsandbytes 0.44.1\n",
            "Uninstalling bitsandbytes-0.44.1:\n",
            "  Would remove:\n",
            "    /usr/local/lib/python3.10/dist-packages/bitsandbytes-0.44.1.dist-info/*\n",
            "    /usr/local/lib/python3.10/dist-packages/bitsandbytes/*\n",
            "    /usr/local/lib/python3.10/dist-packages/tests/*\n",
            "Proceed (Y/n)? y\n",
            "  Successfully uninstalled bitsandbytes-0.44.1\n"
          ]
        }
      ],
      "source": [
        "pip uninstall bitsandbytes\n"
      ]
    },
    {
      "cell_type": "code",
      "execution_count": 27,
      "metadata": {
        "colab": {
          "base_uri": "https://localhost:8080/"
        },
        "id": "K7JUeLyYEzKf",
        "outputId": "a1df5801-7131-4752-d857-7713377ba723"
      },
      "outputs": [
        {
          "output_type": "stream",
          "name": "stdout",
          "text": [
            "Collecting bitsandbytes\n",
            "  Using cached bitsandbytes-0.44.1-py3-none-manylinux_2_24_x86_64.whl.metadata (3.5 kB)\n",
            "Requirement already satisfied: torch in /usr/local/lib/python3.10/dist-packages (from bitsandbytes) (2.5.1+cu121)\n",
            "Requirement already satisfied: numpy in /usr/local/lib/python3.10/dist-packages (from bitsandbytes) (1.26.4)\n",
            "Requirement already satisfied: filelock in /usr/local/lib/python3.10/dist-packages (from torch->bitsandbytes) (3.16.1)\n",
            "Requirement already satisfied: typing-extensions>=4.8.0 in /usr/local/lib/python3.10/dist-packages (from torch->bitsandbytes) (4.12.2)\n",
            "Requirement already satisfied: networkx in /usr/local/lib/python3.10/dist-packages (from torch->bitsandbytes) (3.4.2)\n",
            "Requirement already satisfied: jinja2 in /usr/local/lib/python3.10/dist-packages (from torch->bitsandbytes) (3.1.4)\n",
            "Requirement already satisfied: fsspec in /usr/local/lib/python3.10/dist-packages (from torch->bitsandbytes) (2024.9.0)\n",
            "Requirement already satisfied: sympy==1.13.1 in /usr/local/lib/python3.10/dist-packages (from torch->bitsandbytes) (1.13.1)\n",
            "Requirement already satisfied: mpmath<1.4,>=1.1.0 in /usr/local/lib/python3.10/dist-packages (from sympy==1.13.1->torch->bitsandbytes) (1.3.0)\n",
            "Requirement already satisfied: MarkupSafe>=2.0 in /usr/local/lib/python3.10/dist-packages (from jinja2->torch->bitsandbytes) (3.0.2)\n",
            "Using cached bitsandbytes-0.44.1-py3-none-manylinux_2_24_x86_64.whl (122.4 MB)\n",
            "Installing collected packages: bitsandbytes\n",
            "Successfully installed bitsandbytes-0.44.1\n"
          ]
        }
      ],
      "source": [
        "pip install bitsandbytes --upgrade\n"
      ]
    },
    {
      "cell_type": "code",
      "execution_count": 28,
      "metadata": {
        "colab": {
          "base_uri": "https://localhost:8080/"
        },
        "id": "QjJkI1tTFOEx",
        "outputId": "f0dda79c-2974-49cd-dc41-c697d63e7775"
      },
      "outputs": [
        {
          "output_type": "stream",
          "name": "stdout",
          "text": [
            "Requirement already satisfied: transformers>=4.45.1 in /usr/local/lib/python3.10/dist-packages (4.46.3)\n",
            "Requirement already satisfied: filelock in /usr/local/lib/python3.10/dist-packages (from transformers>=4.45.1) (3.16.1)\n",
            "Requirement already satisfied: huggingface-hub<1.0,>=0.23.2 in /usr/local/lib/python3.10/dist-packages (from transformers>=4.45.1) (0.26.2)\n",
            "Requirement already satisfied: numpy>=1.17 in /usr/local/lib/python3.10/dist-packages (from transformers>=4.45.1) (1.26.4)\n",
            "Requirement already satisfied: packaging>=20.0 in /usr/local/lib/python3.10/dist-packages (from transformers>=4.45.1) (24.2)\n",
            "Requirement already satisfied: pyyaml>=5.1 in /usr/local/lib/python3.10/dist-packages (from transformers>=4.45.1) (6.0.2)\n",
            "Requirement already satisfied: regex!=2019.12.17 in /usr/local/lib/python3.10/dist-packages (from transformers>=4.45.1) (2024.9.11)\n",
            "Requirement already satisfied: requests in /usr/local/lib/python3.10/dist-packages (from transformers>=4.45.1) (2.32.3)\n",
            "Requirement already satisfied: tokenizers<0.21,>=0.20 in /usr/local/lib/python3.10/dist-packages (from transformers>=4.45.1) (0.20.3)\n",
            "Requirement already satisfied: safetensors>=0.4.1 in /usr/local/lib/python3.10/dist-packages (from transformers>=4.45.1) (0.4.5)\n",
            "Requirement already satisfied: tqdm>=4.27 in /usr/local/lib/python3.10/dist-packages (from transformers>=4.45.1) (4.66.6)\n",
            "Requirement already satisfied: fsspec>=2023.5.0 in /usr/local/lib/python3.10/dist-packages (from huggingface-hub<1.0,>=0.23.2->transformers>=4.45.1) (2024.9.0)\n",
            "Requirement already satisfied: typing-extensions>=3.7.4.3 in /usr/local/lib/python3.10/dist-packages (from huggingface-hub<1.0,>=0.23.2->transformers>=4.45.1) (4.12.2)\n",
            "Requirement already satisfied: charset-normalizer<4,>=2 in /usr/local/lib/python3.10/dist-packages (from requests->transformers>=4.45.1) (3.4.0)\n",
            "Requirement already satisfied: idna<4,>=2.5 in /usr/local/lib/python3.10/dist-packages (from requests->transformers>=4.45.1) (3.10)\n",
            "Requirement already satisfied: urllib3<3,>=1.21.1 in /usr/local/lib/python3.10/dist-packages (from requests->transformers>=4.45.1) (2.2.3)\n",
            "Requirement already satisfied: certifi>=2017.4.17 in /usr/local/lib/python3.10/dist-packages (from requests->transformers>=4.45.1) (2024.8.30)\n"
          ]
        }
      ],
      "source": [
        "pip install \"transformers>=4.45.1\""
      ]
    },
    {
      "cell_type": "code",
      "execution_count": 29,
      "metadata": {
        "colab": {
          "base_uri": "https://localhost:8080/"
        },
        "id": "8iVONaOaeehL",
        "outputId": "97d96568-a74b-453a-d8cb-2a2006cb5de2"
      },
      "outputs": [
        {
          "output_type": "stream",
          "name": "stderr",
          "text": [
            "Unused kwargs: ['_load_in_4bit', '_load_in_8bit', 'quant_method']. These kwargs are not used in <class 'transformers.utils.quantization_config.BitsAndBytesConfig'>.\n",
            "/usr/local/lib/python3.10/dist-packages/transformers/quantizers/auto.py:186: UserWarning: You passed `quantization_config` or equivalent parameters to `from_pretrained` but the model you're loading already has a `quantization_config` attribute. The `quantization_config` from the model will be used.\n",
            "  warnings.warn(warning_msg)\n"
          ]
        }
      ],
      "source": [
        "from transformers import pipeline, AutoTokenizer, AutoModelForCausalLM\n",
        "import torch\n",
        "from transformers import BitsAndBytesConfig\n",
        "\n",
        "# Model name\n",
        "MODEL_NAME = \"unsloth/mistral-7b-bnb-4bit\"\n",
        "\n",
        "# Configuration for 4-bit quantization (with no unsupported kwargs)\n",
        "bnb_config = BitsAndBytesConfig(\n",
        "    load_in_4bit=True,  # Enable 4-bit quantization\n",
        "    bnb_4bit_use_double_quant=True,  # Enable double quantization\n",
        "    bnb_4bit_quant_type=\"nf4\",  # Optional: Specify quantization type\n",
        "    bnb_4bit_compute_dtype=torch.bfloat16,  # Use bfloat16 precision for computation\n",
        ")\n",
        "\n",
        "# Load the model with quantization configuration and offloading support\n",
        "model = AutoModelForCausalLM.from_pretrained(\n",
        "    MODEL_NAME,\n",
        "    quantization_config=bnb_config,\n",
        "    low_cpu_mem_usage=True,\n",
        "    torch_dtype=torch.bfloat16,  # Specify data type for the model\n",
        "    device_map=\"auto\",  # Automatically place the model on available devices\n",
        ")\n",
        "\n",
        "# Load the tokenizer\n",
        "tokenizer = AutoTokenizer.from_pretrained(MODEL_NAME)\n",
        "\n",
        "# Set up the pipeline for text generation\n",
        "llm_pipeline = pipeline(\n",
        "    model=model,\n",
        "    tokenizer=tokenizer,\n",
        "    task=\"text-generation\",\n",
        "    do_sample=True,\n",
        "    temperature=0.2,\n",
        "    repetition_penalty=1.1,\n",
        "    return_full_text=False,\n",
        "    max_new_tokens=5000,\n",
        ")\n"
      ]
    },
    {
      "cell_type": "code",
      "execution_count": 30,
      "metadata": {
        "colab": {
          "base_uri": "https://localhost:8080/",
          "height": 106
        },
        "id": "jEXob2F1fsUj",
        "outputId": "d6de1a64-bf6e-4be4-ba73-470901dce4dc"
      },
      "outputs": [
        {
          "output_type": "error",
          "ename": "SyntaxError",
          "evalue": "incomplete input (<ipython-input-30-a6a271bdf13c>, line 1)",
          "traceback": [
            "\u001b[0;36m  File \u001b[0;32m\"<ipython-input-30-a6a271bdf13c>\"\u001b[0;36m, line \u001b[0;32m1\u001b[0m\n\u001b[0;31m    '''def generate_mcq(topic):\u001b[0m\n\u001b[0m    ^\u001b[0m\n\u001b[0;31mSyntaxError\u001b[0m\u001b[0;31m:\u001b[0m incomplete input\n"
          ]
        }
      ],
      "source": [
        "'''def generate_mcq(topic):\n",
        "    # Start the prompt with clear instructions on the question format and topic\n",
        "    prompt = f\"\"\"\n",
        "    You are a knowledgeable assistant. Based on the topic '{topic}', generate 30 well-structured multiple-choice questions.\n",
        "    Each question should have:\n",
        "    - A clearly stated question.\n",
        "    - Four answer options labeled A, B, C, and D.\n",
        "    - One correct answer, clearly specified.\n",
        "\n",
        "    Format each question as follows:\n",
        "    Question <question number>: <question text>\n",
        "    A. <option A>\n",
        "    B. <option B>\n",
        "    C. <option C>\n",
        "    D. <option D>\n",
        "    Answer: <correct answer option (A, B, C, or D)>\n",
        "\n",
        "    Do not include any extra commentary or explanations. Do not generate HTML code. Just generate Questions with Options and the correct option based on the 30 questions.\n",
        "    \"\"\"\n",
        "\n",
        "    # Pass the prompt to the LLM pipeline to generate the MCQs\n",
        "    output = llm_pipeline(prompt)[0]['generated_text']\n",
        "\n",
        "    return output\n",
        "\n",
        "# Example call: Generate MCQs on the topic \"Data Abstraction\"\n",
        "topic = \"Exception Handling\"\n",
        "mcq_output = generate_mcq(topic)\n",
        "print(mcq_output)\n"
      ]
    },
    {
      "cell_type": "code",
      "execution_count": 31,
      "metadata": {
        "id": "ePfJzHQZi7W5",
        "colab": {
          "base_uri": "https://localhost:8080/"
        },
        "outputId": "0e37f772-dbed-48a7-ebc8-68dcd12df5fa"
      },
      "outputs": [
        {
          "output_type": "stream",
          "name": "stderr",
          "text": [
            "Truncation was not explicitly activated but `max_length` is provided a specific value, please use `truncation=True` to explicitly truncate examples to max length. Defaulting to 'longest_first' truncation strategy. If you encode pairs of sequences (GLUE-style) with the tokenizer you can select this strategy more precisely by providing a specific strategy to `truncation`.\n",
            "Both `max_new_tokens` (=5000) and `max_length`(=5000) seem to have been set. `max_new_tokens` will take precedence. Please refer to the documentation for more information. (https://huggingface.co/docs/transformers/main/en/main_classes/text_generation)\n",
            "Both `max_new_tokens` (=5000) and `max_length`(=5000) seem to have been set. `max_new_tokens` will take precedence. Please refer to the documentation for more information. (https://huggingface.co/docs/transformers/main/en/main_classes/text_generation)\n",
            "Both `max_new_tokens` (=5000) and `max_length`(=5000) seem to have been set. `max_new_tokens` will take precedence. Please refer to the documentation for more information. (https://huggingface.co/docs/transformers/main/en/main_classes/text_generation)\n",
            "Both `max_new_tokens` (=5000) and `max_length`(=5000) seem to have been set. `max_new_tokens` will take precedence. Please refer to the documentation for more information. (https://huggingface.co/docs/transformers/main/en/main_classes/text_generation)\n",
            "Both `max_new_tokens` (=5000) and `max_length`(=5000) seem to have been set. `max_new_tokens` will take precedence. Please refer to the documentation for more information. (https://huggingface.co/docs/transformers/main/en/main_classes/text_generation)\n",
            "Both `max_new_tokens` (=5000) and `max_length`(=5000) seem to have been set. `max_new_tokens` will take precedence. Please refer to the documentation for more information. (https://huggingface.co/docs/transformers/main/en/main_classes/text_generation)\n"
          ]
        },
        {
          "output_type": "stream",
          "name": "stdout",
          "text": [
            ".\n",
            "\n",
            "    For example:\n",
            "    Question 1: What is the name of the function that is called when an exception occurs?\n",
            "    A. raise()\n",
            "    B. throw()\n",
            "    C. catch()\n",
            "    D. except()\n",
            "    Answer: B\n",
            "\n",
            "    Question 2: Which of the following is used to handle exceptions in Python?\n",
            "    A. try-except block\n",
            "    B. if-else statement\n",
            "    C. while loop\n",
            "    D. for loop\n",
            "    Answer: A\n",
            "\n",
            "    Question 3: What is the purpose of the finally clause in a try-except block?\n",
            "    A. To execute code regardless of whether an exception occurred or not\n",
            "    B. To execute code only if an exception occurred\n",
            "    C. To execute code only if an exception was not handled\n",
            "    D. To execute code only if an exception was raised\n",
            "    Answer: A\n",
            "\n",
            "    Question 4: Which of the following is NOT a built-in exception in Python?\n",
            "    A. ValueError\n",
            "    B. TypeError\n",
            "    C. IndexError\n",
            "    D. KeyboardInterrupt\n",
            "    Answer: D\n",
            "\n",
            "    Question 5: What does the following code print?\n",
            "    try:\n",
            "        1 / 0\n",
            "    except ZeroDivisionError:\n",
            "        print(\"Zero division error\")\n",
            "    else:\n",
            "        print(\"No exception occurred\")\n",
            "    finally:\n",
            "        print(\"Finally block executed\")\n",
            "    Answer: No exception occurred\n",
            "\n",
            "    Question 6: Which of the following is NOT a valid way to raise an exception in Python?\n",
            "    A. raise Exception('My custom exception')\n",
            "    B. raise ValueError('Invalid input')\n",
            "    C. raise TypeError('Incompatible types')\n",
            "    D. raise NameError('Undefined variable')\n",
            "    Answer: D\n",
            "\n",
            "    Question 7: How can you raise an exception with a specific message and cause?\n",
            "    A. raise Exception(message=message, cause=cause)\n",
            "    B. raise Exception(message='message', cause='cause')\n",
            "    C. raise Exception(message=message, cause=cause)\n",
            "    D. raise Exception(message='message', cause='cause')\n",
            "    Answer: A\n",
            "\n",
            "    Question 8: What happens if you don't handle an exception in Python?\n",
            "    A. The program terminates immediately\n",
            "    B. The program continues executing normally\n",
            "    C. The program raises an error\n",
            "    D. The program prints an error message\n",
            "    Answer: A\n",
            "\n",
            "    Question 9: Which of the following is NOT a valid way to handle multiple exceptions in Python?\n",
            "    A. try:\n",
            "       ...\n",
            "    except (ValueError, TypeError):\n",
            "       ...\n",
            "    except Exception:\n",
            "       ...\n",
            "    B. try:\n",
            "       ...\n",
            "    except (ValueError, TypeError):\n",
            "       ...\n",
            "    except ValueError:\n",
            "       ...\n",
            "    except TypeError:\n",
            "       ...\n",
            "    C. try:\n",
            "       ...\n",
            "    except ValueError:\n",
            "       ...\n",
            "    except TypeError:\n",
            "       ...\n",
            "    except:\n",
            "       ...\n",
            "    D. try:\n",
            "       ...\n",
            "    except ValueError:\n",
            "       ...\n",
            "    except TypeError:\n",
            "       ...\n",
            "    except Exception:\n",
            "       ...\n",
            "    Answer: C\n",
            "\n",
            "    Question 10: What is the purpose of the pass keyword in a try-except block?\n",
            "    A. To ignore exceptions\n",
            "    B. To execute code only if an exception occurred\n",
            "    C. To execute code only if an exception was not handled\n",
            "    D. To execute code only if an exception was raised\n",
            "    Answer: A.\n",
            "\n",
            "    Example:\n",
            "    1. What is the name of the function that is called when an exception occurs?\n",
            "        A. raise\n",
            "        B. throw\n",
            "        C. handle\n",
            "        D. catch\n",
            "        Answer: D\n",
            "    2. Which of the following statements is true about exceptions in Python?\n",
            "        A. Exceptions can be raised using the raise keyword.\n",
            "        B. Exceptions can be caught using the try-except block.\n",
            "        C. Exceptions can be handled by calling the except clause.\n",
            "        D. All of the above.\n",
            "        Answer: D\n",
            "    3. Which of the following keywords is used to raise an exception in Python?\n",
            "        A. raise\n",
            "        B. throw\n",
            "        C. handle\n",
            "        D. catch\n",
            "        Answer: A\n",
            "    4. Which of the following is not a valid way to raise an exception in Python?\n",
            "        A. raise Exception(\"My custom exception\")\n",
            "        B. raise ValueError(\"Invalid input\")\n",
            "        C. raise TypeError(\"Incompatible types\")\n",
            "        D. raise IndexError(\"Out of range index\")\n",
            "        Answer: C\n",
            "    5. Which of the following is not a valid way to catch an exception in Python?\n",
            "        A. try:\n",
            "           ...\n",
            "        except Exception as e:\n",
            "            print(e)\n",
            "        B. try:\n",
            "           ...\n",
            "        except:\n",
            "            print(\"An error occurred.\")\n",
            "        C. try:\n",
            "           ...\n",
            "        except Exception:\n",
            "            print(\"An error occurred.\")\n",
            "        D. try:\n",
            "           ...\n",
            "        except Exception as e:\n",
            "            print(f\"An error occurred: {e}\")\n",
            "        Answer: B.\n",
            "\n",
            "    For example, if the user enters the following input:\n",
            "        Exception Handling\n",
            "    The output should be:\n",
            "        11. What is the purpose of exception handling?\n",
            "            A. To handle errors that occur during program execution\n",
            "            B. To prevent errors from occurring in the first place\n",
            "            C. To provide feedback to the user about errors\n",
            "            D. All of the above\n",
            "            Answer: A\n",
            "        12. Which of the following statements is true regarding exceptions in Python?\n",
            "            A. Exceptions can only be raised by built-in functions.\n",
            "            B. Exceptions can only be handled using try-except blocks.\n",
            "            C. Exceptions can only be raised by user-defined functions.\n",
            "            D. Exceptions can only be raised by external libraries.\n",
            "            Answer: C\n",
            "        13. Which of the following is not a valid way to raise an exception in Python?\n",
            "            A. raise ValueError(\"Invalid input\")\n",
            "            B. throw Exception(\"Error occurred\")\n",
            "            C. raise \"An error has occurred\"\n",
            "            D. raise Error(\"Something went wrong\")\n",
            "            Answer: B\n",
            "        14. Which of the following is not a valid way to handle an exception in Python?\n",
            "            A. try:\n",
            "               ...\n",
            "            except ValueError as e:\n",
            "                print(f\"ValueError: {e}\")\n",
            "            finally:\n",
            "                print(\"Cleanup code goes here\")\n",
            "            B. try:\n",
            "               ...\n",
            "            except Exception as e:\n",
            "                print(f\"Exception: {e}\")\n",
            "            finally:\n",
            "                print(\"Cleanup code goes here\")\n",
            "            C. try:\n",
            "               ...\n",
            "            except:\n",
            "                print(\"An error occurred\")\n",
            "            finally:\n",
            "                print(\"Cleanup code goes here\")\n",
            "            D. try:\n",
            "               ...\n",
            "            except ValueError as e:\n",
            "                print(f\"ValueError: {e}\")\n",
            "            else:\n",
            "                print(\"No exception was raised\")\n",
            "            finally:\n",
            "                print(\"Cleanup code goes here\")\n",
            "            Answer: D\n",
            "        15. Which of the following is not a valid way to raise an exception in Java?\n",
            "            A. throw new IllegalArgumentException(\"Invalid argument\");\n",
            "            B. throw new RuntimeException(\"Runtime error\");\n",
            "            C. throw new IOException(\"IO error\");\n",
            "            D. throw new Exception(\"General error\");\n",
            "            Answer: D\n",
            "        16. Which of the following is not a valid way to handle an exception in Java?\n",
            "            A. try {\n",
            "               ...\n",
            "            } catch (IOException e) {\n",
            "                System.out.println(\"IO error occurred\");\n",
            "            } finally {\n",
            "               ...\n",
            "            }\n",
            "            B. try {\n",
            "               ...\n",
            "            } catch (Exception e) {\n",
            "                System.out.println(\"Generic error occurred\");\n",
            "            } finally {\n",
            "               ...\n",
            "            }\n",
            "            C. try {\n",
            "               ...\n",
            "            } catch (IllegalArgumentException e) {\n",
            "                System.out.println(\"Invalid argument passed\");\n",
            "            } finally {\n",
            "               ...\n",
            "            }\n",
            "            D. try {\n",
            "               ...\n",
            "            } catch (Throwable t) {\n",
            "                System.out.println(\"Unhandled exception occurred\");\n",
            "            } finally {\n",
            "               ...\n",
            "            }\n",
            "            Answer: B\n",
            "        17. Which of the following is not a valid way to raise an exception in JavaScript?\n",
            "            A. throw new Error(\"An error has occurred\");\n",
            "            B. throw new TypeError(\"Invalid type\");\n",
            "            C. throw new RangeError(\"Out of range\");\n",
            "            D. throw new ReferenceError(\"Invalid reference\");\n",
            "            Answer: C\n",
            "        18. Which of the following is not a valid way to handle an exception in JavaScript?\n",
            "            A. try {\n",
            "               ...\n",
            "            } catch (error) {\n",
            "                console.log(error);\n",
            "            } finally {\n",
            "               ...\n",
            "            }\n",
            "            B. try {\n",
            "               ...\n",
            "            } catch (exception) {\n",
            "                console.log(exception);\n",
            "            } finally {\n",
            "               ...\n",
            "            }\n",
            "            C. try {\n",
            "               ...\n",
            "            } catch (error) {\n",
            "                console.log(\"An error occurred\");\n",
            "            } finally {\n",
            "               ...\n",
            "            }\n",
            "            D. try {\n",
            "               ...\n",
            "            } catch (error) {\n",
            "                console.log(error);\n",
            "            } finally {\n",
            "               ...\n",
            "            }\n",
            "            Answer: D.\n",
            "\n",
            "    Example:\n",
            "    16. What is the name of the method that is called when an exception occurs?\n",
            "    A. handle()\n",
            "    B. catch()\n",
            "    C. throw()\n",
            "    D. raise()\n",
            "    Answer: D\n",
            "\n",
            "    Example:\n",
            "    17. Which of the following is a valid way to catch an exception in Python?\n",
            "    A. try:\n",
            "    except Exception as e:\n",
            "        print(e)\n",
            "    B. try:\n",
            "    except:\n",
            "        print(\"An error occurred\")\n",
            "    C. try:\n",
            "    except Exception:\n",
            "        print(\"An error occurred\")\n",
            "    D. try:\n",
            "    except Exception:\n",
            "        print(Exception)\n",
            "    Answer: C\n",
            "\n",
            "    Example:\n",
            "    18. Which of the following is a valid way to raise an exception in Python?\n",
            "    A. raise ValueError(\"Invalid input\")\n",
            "    B. raise ValueError\n",
            "    C. raise ValueError(\"Invalid input\")\n",
            "    D. raise ValueError\n",
            "    Answer: A.\n",
            "\n",
            "    The output should be in the following format:\n",
            "\n",
            "    Question 21: What is the purpose of try-catch block?\n",
            "    A. To handle exceptions\n",
            "    B. To execute code only if an exception occurs\n",
            "    C. To ignore errors\n",
            "    D. To prevent program execution\n",
            "    Answer: A\n",
            "\n",
            "    Question 22: Which of the following statements is true about exception handling in Python?\n",
            "    A. Exceptions can be raised using raise keyword\n",
            "    B. Exceptions can be handled using except keyword\n",
            "    C. Exceptions can be ignored using pass keyword\n",
            "    D. All of the above\n",
            "    Answer: D\n",
            "\n",
            "    Question 23: Which of the following methods is used to catch multiple exceptions in Python?\n",
            "    A. catch_all()\n",
            "    B. catch_some()\n",
            "    C. catch_many()\n",
            "    D. catch()\n",
            "    Answer: C\n",
            "\n",
            "    Question 24: Which of the following statements is false about exception handling in Python?\n",
            "    A. Exceptions can be raised using raise keyword\n",
            "    B. Exceptions can be handled using except keyword\n",
            "    C. Exceptions can be ignored using pass keyword\n",
            "    D. Exceptions can be raised using throw keyword\n",
            "    Answer: D\n",
            "\n",
            "    Question 25: Which of the following statements is true about finally block in Python?\n",
            "    A. It executes even if there is no exception\n",
            "    B. It executes only if there is an exception\n",
            "    C. It executes only if there is no exception\n",
            "    D. It executes only if there is an error\n",
            "    Answer: A.\n",
            "\n",
            "    Example:\n",
            "    Question 1: What is the name of the language used to write programs in Python?\n",
            "    A. Java\n",
            "    B. C++\n",
            "    C. JavaScript\n",
            "    D. Python\n",
            "    Answer: D\n",
            "\n",
            "    Question 2: Which of the following is not a built-in function in Python?\n",
            "    A. print()\n",
            "    B. input()\n",
            "    C. range()\n",
            "    D. sum()\n",
            "    Answer: A\n",
            "\n",
            "    Question 3: Which of the following is not a data type in Python?\n",
            "    A. int\n",
            "    B. float\n",
            "    C. str\n",
            "    D. bool\n",
            "    Answer: D\n",
            "\n",
            "    Question 4: What is the purpose of the pass keyword in Python?\n",
            "    A. It is used to create an empty function.\n",
            "    B. It is used to create an infinite loop.\n",
            "    C. It is used to create a conditional statement.\n",
            "    D. It is used to create a while loop.\n",
            "    Answer: A\n",
            "\n",
            "    Question 5: What does the following code print?\n",
            "    print(\"Hello\")\n",
            "    print(\"World\")\n",
            "    Answer: Hello\n",
            "    World\n",
            "\n",
            "    Question 6: What is the output of the following code?\n",
            "    x = 5\n",
            "    y = 10\n",
            "    z = x + y\n",
            "    print(z)\n",
            "    Answer: 15\n",
            "\n",
            "    Question 7: What is the output of the following code?\n",
            "    x = 5\n",
            "    y = 10\n",
            "    if x > y:\n",
            "        print(\"x is greater than y\")\n",
            "    else:\n",
            "        print(\"y is greater than x\")\n",
            "    Answer: x is greater than y\n",
            "\n",
            "    Question 8: What is the output of the following code?\n",
            "    x = 5\n",
            "    y = 10\n",
            "    if x == y:\n",
            "        print(\"x is equal to y\")\n",
            "    elif x > y:\n",
            "        print(\"x is greater than y\")\n",
            "    else:\n",
            "        print(\"y is greater than x\")\n",
            "    Answer: y is greater than x\n",
            "\n",
            "    Question 9: What is the output of the following code?\n",
            "    x = 5\n",
            "    y = 10\n",
            "    if x == y:\n",
            "        print(\"x is equal to y\")\n",
            "    elif x > y:\n",
            "        print(\"x is greater than y\")\n",
            "    else:\n",
            "        print(\"y is greater than x\")\n",
            "    Answer: x is equal to y\n",
            "\n",
            "    Question 10: What is the output of the following code?\n",
            "    x = 5\n",
            "    y = 10\n",
            "    if x == y:\n",
            "        print(\"x is equal to y\")\n",
            "    elif x > y:\n",
            "        print(\"x is greater than y\")\n",
            "    else:\n",
            "        print(\"y is greater than x\")\n",
            "    Answer: y is greater than x\n"
          ]
        }
      ],
      "source": [
        "topic = \"Exception Handling\"\n",
        "batch_size = 5\n",
        "total_questions = 30\n",
        "mcq_output = \"\"\n",
        "for i in range(total_questions // batch_size):\n",
        "    start_index = i * batch_size + 1  # Correct question numbering\n",
        "    prompt = f\"\"\"Generate {batch_size} MCQs on the topic '{topic}'. Format each question as follows:\n",
        "    Question <question number>: <question text>\n",
        "    A. <option A>\n",
        "    B. <option B>\n",
        "    C. <option C>\n",
        "    D. <option D>\n",
        "    Answer: <correct answer option (A, B, C, or D)>\n",
        "    You are a quiz generator.generate question and 4 options\n",
        "\n",
        "    Continue numbering questions consecutively starting from {start_index}. Do not include examples, commentary, or unrelated terms. Dont repeat the questions\"\"\"\n",
        "\n",
        "    # Generate questions using the model\n",
        "    response = llm_pipeline(prompt, max_length=5000, num_return_sequences=1)[0][\"generated_text\"]\n",
        "    mcq_output += response\n",
        "\n",
        "print(mcq_output)\n"
      ]
    },
    {
      "cell_type": "code",
      "execution_count": 50,
      "metadata": {
        "id": "jZhpSBppCBUz",
        "colab": {
          "base_uri": "https://localhost:8080/"
        },
        "outputId": "58f37db2-c8d5-4834-94a2-81b7fd9af07c"
      },
      "outputs": [
        {
          "output_type": "stream",
          "name": "stderr",
          "text": [
            "Both `max_new_tokens` (=5000) and `max_length`(=5000) seem to have been set. `max_new_tokens` will take precedence. Please refer to the documentation for more information. (https://huggingface.co/docs/transformers/main/en/main_classes/text_generation)\n"
          ]
        },
        {
          "output_type": "stream",
          "name": "stdout",
          "text": [
            "\n",
            "\n",
            "Sample Input:\n",
            "\n",
            "```\n",
            "Exception Handling\n",
            "```\n",
            "\n",
            "Sample Output:\n",
            "\n",
            "```\n",
            "Question 1: What is an exception?\n",
            "A. An error that occurs during program execution\n",
            "B. A condition that causes a program to stop running\n",
            "C. A problem with the computer hardware\n",
            "D. None of the above\n",
            "Answer: A\n",
            "Question 2: What is the purpose of exception handling in programming?\n",
            "A. To prevent errors from occurring\n",
            "B. To handle errors when they occur\n",
            "C. To improve program performance\n",
            "D. To make programs more secure\n",
            "Answer: B\n",
            "Question 3: Which of the following is NOT a type of exception?\n",
            "A. SyntaxError\n",
            "B. ZeroDivisionError\n",
            "C. IndexError\n",
            "D. KeyboardInterrupt\n",
            "Answer: D\n",
            "Question 4: What is the difference between an exception and an error?\n",
            "A. An exception is a specific type of error\n",
            "B. An error is a general term for any problem that occurs during program execution\n",
            "C. An exception is a problem that can be handled by the program\n",
            "D. An error is a problem that cannot be handled by the program\n",
            "Answer: C\n",
            "Question 5: How do you handle exceptions in Python?\n",
            "A. By using try-except blocks\n",
            "B. By using raise statements\n",
            "C. By using assert statements\n",
            "D. By using if-else statements\n",
            "Answer: A\n",
            "Question 6: What is the purpose of the except clause in a try-except block?\n",
            "A. To catch exceptions\n",
            "B. To ignore exceptions\n",
            "C. To raise exceptions\n",
            "D. To handle exceptions\n",
            "Answer: D\n",
            "Question 7: What happens if an exception is not caught in a try-except block?\n",
            "A. The program will continue executing normally\n",
            "B. The program will halt and display an error message\n",
            "C. The program will restart automatically\n",
            "D. The program will crash\n",
            "Answer: B\n",
            "Question 8: What is the difference between a try-except block and a try-finally block?\n",
            "A. A try-except block catches exceptions while a try-finally block does not\n",
            "B. A try-finally block always executes the finally clause regardless of whether an exception is raised\n",
            "C. A try-finally block always executes the finally clause after the try clause has executed successfully\n",
            "D. A try-finally block always executes the finally clause after the try clause has executed successfully or an exception has been raised\n",
            "Answer: D\n",
            "Question 9: What is the purpose of the finally clause in a try-finally block?\n",
            "A. To clean up resources used by the program\n",
            "B. To execute code even if an exception is raised\n",
            "C. To handle exceptions\n",
            "D. To raise exceptions\n",
            "Answer: A\n",
            "Question 10: What is the purpose of the else clause in a try-except block?\n",
            "A. To execute code if no exceptions are raised\n",
            "B. To execute code if an exception is raised\n",
            "C. To raise exceptions\n",
            "D. To handle exceptions\n",
            "Answer: A\n",
            "Question 11: What is the purpose of the raise statement?\n",
            "A. To raise an exception\n",
            "B. To catch an exception\n",
            "C. To handle an exception\n",
            "D. To ignore an exception\n",
            "Answer: A\n",
            "Question 12: What is the purpose of the assert statement?\n",
            "A. To check if a condition is true\n",
            "B. To raise an exception if a condition is false\n",
            "C. To handle an exception\n",
            "D. To ignore an exception\n",
            "Answer: B\n",
            "Question 13: What is the purpose of the pass statement?\n",
            "A. To do nothing\n",
            "B. To raise an exception\n",
            "C. To handle an exception\n",
            "D. To ignore an exception\n",
            "Answer: A\n",
            "Question 14: What is the purpose of the break statement?\n",
            "A. To exit a loop\n",
            "B. To raise an exception\n",
            "C. To handle an exception\n",
            "D. To ignore an exception\n",
            "Answer: A\n",
            "Question 15: What is the purpose of the continue statement?\n",
            "A. To skip the current iteration of a loop\n",
            "B. To raise an exception\n",
            "C. To handle an exception\n",
            "D. To ignore an exception\n",
            "Answer: A\n",
            "Question 16: What is the purpose of the return statement?\n",
            "A. To return a value from a function\n",
            "B. To raise an exception\n",
            "C. To handle an exception\n",
            "D. To ignore an exception\n",
            "Answer: A\n",
            "Question 17: What is the purpose of the yield statement?\n",
            "A. To generate a sequence of values\n",
            "B. To raise an exception\n",
            "C. To handle an exception\n",
            "D. To ignore an exception\n",
            "Answer: A\n",
            "Question 18: What is the purpose of the raise statement?\n",
            "A. To raise an exception\n",
            "B. To catch an exception\n",
            "C. To handle an exception\n",
            "D. To ignore an exception\n",
            "Answer: A\n",
            "Question 19: What is the purpose of the assert statement?\n",
            "A. To check if a condition is true\n",
            "B. To raise an exception if a condition is false\n",
            "C. To handle an exception\n",
            "D. To ignore an exception\n",
            "Answer: B\n",
            "Question 20: What is the purpose of the pass statement?\n",
            "A. To do nothing\n",
            "B. To raise an exception\n",
            "C. To handle an exception\n",
            "D. To ignore an exception\n",
            "Answer: A\n",
            "Question 21: What is the purpose of the break statement?\n",
            "A. To exit a loop\n",
            "B. To raise an exception\n",
            "C. To handle an exception\n",
            "D. To ignore an exception\n",
            "Answer: A\n",
            "Question 22: What is the purpose of the continue statement?\n",
            "A. To skip the current iteration of a loop\n",
            "B. To raise an exception\n",
            "C. To handle an exception\n",
            "D. To ignore an exception\n",
            "Answer: A\n",
            "Question 23: What is the purpose of the return statement?\n",
            "A. To return a value from a function\n",
            "B. To raise an exception\n",
            "C. To handle an exception\n",
            "D. To ignore an exception\n",
            "Answer: A\n",
            "Question 24: What is the purpose of the yield statement?\n",
            "A. To generate a sequence of values\n",
            "B. To raise an exception\n",
            "C. To handle an exception\n",
            "D. To ignore an exception\n",
            "Answer: A\n",
            "Question 25: What is the purpose of the raise statement?\n",
            "A. To raise an exception\n",
            "B. To catch an exception\n",
            "C. To handle an exception\n",
            "D. To ignore an exception\n",
            "Answer: A\n",
            "Question 26: What is the purpose of the assert statement?\n",
            "A. To check if a condition is true\n",
            "B. To raise an exception if a condition is false\n",
            "C. To handle an exception\n",
            "D. To ignore an exception\n",
            "Answer: B\n",
            "Question 27: What is the purpose of the pass statement?\n",
            "A. To do nothing\n",
            "B. To raise an exception\n",
            "C. To handle an exception\n",
            "D. To ignore an exception\n",
            "Answer: A\n",
            "Question 28: What is the purpose of the break statement?\n",
            "A. To exit a loop\n",
            "B. To raise an exception\n",
            "C. To handle an exception\n",
            "D. To ignore an exception\n",
            "Answer: A\n",
            "Question 29: What is the purpose of the continue statement?\n",
            "A. To skip the current iteration of a loop\n",
            "B. To raise an exception\n",
            "C. To handle an exception\n",
            "D. To ignore an exception\n",
            "Answer: A\n",
            "Question 30: What is the purpose of the return statement?\n",
            "A. To return a value from a function\n",
            "B. To raise an exception\n",
            "C. To handle an exception\n",
            "D. To ignore an exception\n",
            "Answer: A\n"
          ]
        }
      ],
      "source": [
        "topic = \"Exception Handling\"\n",
        "total_questions = 30\n",
        "\n",
        "prompt = f\"\"\"Generate {total_questions} MCQs on the topic '{topic}'. Format each question as follows:\n",
        "Question <question number>: <question text>\n",
        "A. <option A>\n",
        "B. <option B>\n",
        "C. <option C>\n",
        "D. <option D>\n",
        "Answer: <correct answer option (A, B, C, or D)>\n",
        "You are a quiz generator. Generate question and 4 options.\n",
        "\n",
        "Continue numbering questions consecutively from 1 to {total_questions}. Do not include examples, commentary, or unrelated terms.\n",
        " Don't repeat the questions.\"\"\"\n",
        "\n",
        "# Generate questions using the model\n",
        "response = llm_pipeline(prompt, max_length=5000, num_return_sequences=1)[0][\"generated_text\"]\n",
        "print(response)\n"
      ]
    },
    {
      "cell_type": "code",
      "execution_count": null,
      "metadata": {
        "id": "JhrMGF0iNbNi"
      },
      "outputs": [],
      "source": [
        "topic = \"Allu Arjun\"\n",
        "total_questions = 30\n",
        "\n",
        "prompt = f\"\"\"Generate {total_questions} MCQs on the topic '{topic}'. Format each question as follows:\n",
        "Question <question number>: <question text>\n",
        "A. <option A>\n",
        "B. <option B>\n",
        "C. <option C>\n",
        "D. <option D>\n",
        "Answer: <correct answer option (A, B, C, or D)>\n",
        "You are a quiz generator. Generate questions and 4 options.\n",
        "\n",
        "Number the questions consecutively from 1 to {total_questions}. Do not include examples, commentary, or unrelated terms.\n",
        "If the topic is not present in the dataset,just dont generate the question and say irrelavent topic\"\"\"\n",
        "\n",
        "# Generate questions using the model\n",
        "response = llm_pipeline(prompt, max_length=5000, num_return_sequences=1)[0][\"generated_text\"]\n",
        "\n",
        "print(response)\n"
      ]
    },
    {
      "cell_type": "code",
      "execution_count": 44,
      "metadata": {
        "id": "S3lMsP7pjxc3",
        "colab": {
          "base_uri": "https://localhost:8080/"
        },
        "outputId": "68b7d711-2525-4e08-d0f4-381ac89ad905"
      },
      "outputs": [
        {
          "output_type": "stream",
          "name": "stderr",
          "text": [
            "Both `max_new_tokens` (=5000) and `max_length`(=5000) seem to have been set. `max_new_tokens` will take precedence. Please refer to the documentation for more information. (https://huggingface.co/docs/transformers/main/en/main_classes/text_generation)\n"
          ]
        },
        {
          "output_type": "stream",
          "name": "stdout",
          "text": [
            "\n",
            "\n",
            "Example:\n",
            "Question 1: What is the name of the first programming language?\n",
            "A. C++\n",
            "B. Java\n",
            "C. Python\n",
            "D. JavaScript\n",
            "Answer: C\n",
            "\n",
            "Question 2: Which of the following is not a data type in Python?\n",
            "A. int\n",
            "B. float\n",
            "C. str\n",
            "D. list\n",
            "Answer: D\n",
            "\n",
            "Question 3: Which of the following is not a built-in function in Python?\n",
            "A. len()\n",
            "B. max()\n",
            "C. min()\n",
            "D. sum()\n",
            "Answer: D\n",
            "\n",
            "Question 4: Which of the following is not a loop control structure in Python?\n",
            "A. for\n",
            "B. while\n",
            "C. if\n",
            "D. else\n",
            "Answer: C\n",
            "\n",
            "Question 5: Which of the following is not a string method in Python?\n",
            "A. upper()\n",
            "B. lower()\n",
            "C. split()\n",
            "D. join()\n",
            "Answer: D\n",
            "\n",
            "Question 6: Which of the following is not a built-in module in Python?\n",
            "A. os\n",
            "B. sys\n",
            "C. math\n",
            "D. random\n",
            "Answer: D\n",
            "\n",
            "Question 7: Which of the following is not a keyword in Python?\n",
            "A. def\n",
            "B. class\n",
            "C. pass\n",
            "D. None\n",
            "Answer: C\n",
            "\n",
            "Question 8: Which of the following is not a built-in exception in Python?\n",
            "A. ValueError\n",
            "B. TypeError\n",
            "C. IndexError\n",
            "D. KeyError\n",
            "Answer: D\n",
            "\n",
            "Question 9: Which of the following is not a built-in function in Python?\n",
            "A. input()\n",
            "B. print()\n",
            "C. open()\n",
            "D. close()\n",
            "Answer: D\n",
            "\n",
            "Question 10: Which of the following is not a built-in class in Python?\n",
            "A. dict\n",
            "B. set\n",
            "C. tuple\n",
            "D. frozenset\n",
            "Answer: D\n"
          ]
        }
      ],
      "source": [
        "topic = \"Exception Handling\"\n",
        "total_questions = 10\n",
        "\n",
        "prompt = f\"\"\"Generate {total_questions} MCQs on the topic '{topic}'. Format each question as follows:\n",
        "Question <question number>: <question text>\n",
        "A. <option A>\n",
        "B. <option B>\n",
        "C. <option C>\n",
        "D. <option D>\n",
        "Answer: <correct answer option (A, B, C, or D)>\n",
        "You are a quiz generator. Generate question and 4 options.\n",
        "\n",
        "Continue numbering questions consecutively from 1 to {total_questions}. Do not include examples, commentary, or unrelated terms.\n",
        " Don't repeat the questions.\"\"\"\n",
        "\n",
        "# Generate questions using the model\n",
        "response = llm_pipeline(prompt, max_length=5000, num_return_sequences=1)[0][\"generated_text\"]\n",
        "print(response)\n"
      ]
    },
    {
      "cell_type": "code",
      "source": [
        "print(response)"
      ],
      "metadata": {
        "colab": {
          "base_uri": "https://localhost:8080/"
        },
        "id": "-MzXtTO4WqGO",
        "outputId": "25c545ad-4cbb-4fda-c64c-34e5c96a6fda"
      },
      "execution_count": 45,
      "outputs": [
        {
          "output_type": "stream",
          "name": "stdout",
          "text": [
            "\n",
            "\n",
            "Example:\n",
            "Question 1: What is the name of the first programming language?\n",
            "A. C++\n",
            "B. Java\n",
            "C. Python\n",
            "D. JavaScript\n",
            "Answer: C\n",
            "\n",
            "Question 2: Which of the following is not a data type in Python?\n",
            "A. int\n",
            "B. float\n",
            "C. str\n",
            "D. list\n",
            "Answer: D\n",
            "\n",
            "Question 3: Which of the following is not a built-in function in Python?\n",
            "A. len()\n",
            "B. max()\n",
            "C. min()\n",
            "D. sum()\n",
            "Answer: D\n",
            "\n",
            "Question 4: Which of the following is not a loop control structure in Python?\n",
            "A. for\n",
            "B. while\n",
            "C. if\n",
            "D. else\n",
            "Answer: C\n",
            "\n",
            "Question 5: Which of the following is not a string method in Python?\n",
            "A. upper()\n",
            "B. lower()\n",
            "C. split()\n",
            "D. join()\n",
            "Answer: D\n",
            "\n",
            "Question 6: Which of the following is not a built-in module in Python?\n",
            "A. os\n",
            "B. sys\n",
            "C. math\n",
            "D. random\n",
            "Answer: D\n",
            "\n",
            "Question 7: Which of the following is not a keyword in Python?\n",
            "A. def\n",
            "B. class\n",
            "C. pass\n",
            "D. None\n",
            "Answer: C\n",
            "\n",
            "Question 8: Which of the following is not a built-in exception in Python?\n",
            "A. ValueError\n",
            "B. TypeError\n",
            "C. IndexError\n",
            "D. KeyError\n",
            "Answer: D\n",
            "\n",
            "Question 9: Which of the following is not a built-in function in Python?\n",
            "A. input()\n",
            "B. print()\n",
            "C. open()\n",
            "D. close()\n",
            "Answer: D\n",
            "\n",
            "Question 10: Which of the following is not a built-in class in Python?\n",
            "A. dict\n",
            "B. set\n",
            "C. tuple\n",
            "D. frozenset\n",
            "Answer: D\n"
          ]
        }
      ]
    },
    {
      "cell_type": "code",
      "source": [
        "pip install reportlab\n"
      ],
      "metadata": {
        "id": "LVt_sEpk5YNw",
        "colab": {
          "base_uri": "https://localhost:8080/"
        },
        "outputId": "67213c92-9787-45f3-d303-9792008f0be8"
      },
      "execution_count": 33,
      "outputs": [
        {
          "output_type": "stream",
          "name": "stdout",
          "text": [
            "Collecting reportlab\n",
            "  Downloading reportlab-4.2.5-py3-none-any.whl.metadata (1.5 kB)\n",
            "Requirement already satisfied: pillow>=9.0.0 in /usr/local/lib/python3.10/dist-packages (from reportlab) (11.0.0)\n",
            "Requirement already satisfied: chardet in /usr/local/lib/python3.10/dist-packages (from reportlab) (5.2.0)\n",
            "Downloading reportlab-4.2.5-py3-none-any.whl (1.9 MB)\n",
            "\u001b[?25l   \u001b[90m━━━━━━━━━━━━━━━━━━━━━━━━━━━━━━━━━━━━━━━━\u001b[0m \u001b[32m0.0/1.9 MB\u001b[0m \u001b[31m?\u001b[0m eta \u001b[36m-:--:--\u001b[0m\r\u001b[2K   \u001b[91m━━━━━━━━━━━━━━━━━━━━━━━━━━━━━━━━━━━━━━━\u001b[0m\u001b[91m╸\u001b[0m \u001b[32m1.9/1.9 MB\u001b[0m \u001b[31m131.1 MB/s\u001b[0m eta \u001b[36m0:00:01\u001b[0m\r\u001b[2K   \u001b[90m━━━━━━━━━━━━━━━━━━━━━━━━━━━━━━━━━━━━━━━━\u001b[0m \u001b[32m1.9/1.9 MB\u001b[0m \u001b[31m53.3 MB/s\u001b[0m eta \u001b[36m0:00:00\u001b[0m\n",
            "\u001b[?25hInstalling collected packages: reportlab\n",
            "Successfully installed reportlab-4.2.5\n"
          ]
        }
      ]
    },
    {
      "cell_type": "code",
      "source": [
        "from reportlab.pdfgen import canvas\n",
        "\n",
        "# Path to save the PDF file\n",
        "pdf_file_path = \"/content/drive/MyDrive/Questions.pdf\"\n",
        "\n",
        "# Function to save the generated text to a PDF\n",
        "def save_text_to_pdf(text, file_path):\n",
        "    pdf = canvas.Canvas(file_path)  # Create a PDF canvas\n",
        "    pdf.setFont(\"Helvetica\", 20)  # Set font for the text\n",
        "\n",
        "    # Title of the PDF (optional, you can customize or remove it)\n",
        "    pdf.drawString(30, 800, f\"Generated MCQs on 'Exception Handling'\")\n",
        "\n",
        "    # Start position for the text\n",
        "    y_position = 780  # Starting from the top of the page\n",
        "\n",
        "    # Split the response text by lines and write it into the PDF\n",
        "    for line in text.split(\"\\n\"):\n",
        "        # If the text reaches the bottom of the page, create a new page\n",
        "        if y_position < 50:\n",
        "            pdf.showPage()  # Create a new page\n",
        "            pdf.setFont(\"Helvetica\", 20)  # Reset font size\n",
        "            y_position = 800  # Reset the y-position for the new page\n",
        "\n",
        "        # Draw each line of text at the current y-position\n",
        "        pdf.drawString(30, y_position, line)\n",
        "        y_position -= 20  # Move down for the next line\n",
        "\n",
        "    # Save the PDF to the specified file path\n",
        "    pdf.save()\n",
        "\n",
        "# Topic and question count\n",
        "topic = \"Exception Handling\"\n",
        "total_questions = 10\n",
        "\n",
        "# Prompt for the model\n",
        "'''prompt = f\"\"\"Generate {total_questions} MCQs on the topic '{topic}'. Format each question as follows:\n",
        "Question <question number>: <question text>\n",
        "A. <option A>\n",
        "B. <option B>\n",
        "C. <option C>\n",
        "D. <option D>\n",
        "Answer: <correct answer option (A, B, C, or D)>\n",
        "You are a quiz generator. Generate question and 4 options.\n",
        "\n",
        "Continue numbering questions consecutively from 1 to {total_questions}. Do not include examples, commentary, or unrelated terms.\n",
        "Don't repeat the questions.\"\"\"\n",
        "\n",
        "# Generate questions using the model\n",
        "response = llm_pipeline(prompt, max_length=5000, num_return_sequences=1)[0][\"generated_text\"]'''\n",
        "\n",
        "# Save the generated questions to the PDF\n",
        "save_text_to_pdf(response, pdf_file_path)\n",
        "\n",
        "print(f\"PDF saved to: {pdf_file_path}\")\n"
      ],
      "metadata": {
        "colab": {
          "base_uri": "https://localhost:8080/"
        },
        "id": "igb15OC00PaP",
        "outputId": "61c6647c-5171-43f9-ea32-5b844b20a04a"
      },
      "execution_count": 49,
      "outputs": [
        {
          "output_type": "stream",
          "name": "stdout",
          "text": [
            "PDF saved to: /content/drive/MyDrive/Questions.pdf\n"
          ]
        }
      ]
    },
    {
      "cell_type": "markdown",
      "metadata": {
        "id": "te_VhNHmcgg5"
      },
      "source": []
    }
  ],
  "metadata": {
    "accelerator": "GPU",
    "colab": {
      "gpuType": "T4",
      "provenance": [],
      "toc_visible": true,
      "include_colab_link": true
    },
    "kernelspec": {
      "display_name": "Python 3",
      "name": "python3"
    },
    "language_info": {
      "name": "python"
    }
  },
  "nbformat": 4,
  "nbformat_minor": 0
}